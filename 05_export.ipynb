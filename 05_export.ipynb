{
 "cells": [
  {
   "cell_type": "code",
   "execution_count": null,
   "id": "endless-opening",
   "metadata": {},
   "outputs": [],
   "source": [
    "# default_exp export"
   ]
  },
  {
   "cell_type": "code",
   "execution_count": null,
   "id": "dried-pizza",
   "metadata": {},
   "outputs": [],
   "source": [
    "#hide\n",
    "%load_ext autoreload\n",
    "%autoreload 2"
   ]
  },
  {
   "cell_type": "markdown",
   "id": "adopted-adrian",
   "metadata": {},
   "source": [
    "# Graph module\n",
    "\n",
    "> Provides main class and helpers classes and functions to handle pangenome graph and related data structures"
   ]
  },
  {
   "cell_type": "code",
   "execution_count": null,
   "id": "norman-google",
   "metadata": {},
   "outputs": [
    {
     "name": "stdout",
     "output_type": "stream",
     "text": [
      "Converted 00_init.ipynb.\n",
      "Converted 01_graph.ipynb.\n",
      "Converted 02_tree.ipynb.\n",
      "Converted 03_synteny.ipynb.\n",
      "Converted 04_utils.ipynb.\n",
      "Converted 05_export.ipynb.\n",
      "Converted index.ipynb.\n"
     ]
    }
   ],
   "source": [
    "#hide\n",
    "from nbdev.showdoc import *\n",
    "from nbdev.export import notebook2script\n",
    "notebook2script()"
   ]
  },
  {
   "cell_type": "code",
   "execution_count": null,
   "id": "automotive-pricing",
   "metadata": {},
   "outputs": [],
   "source": [
    "#exporti\n",
    "\n",
    "import os\n",
    "import glob\n",
    "import json\n",
    "import itertools\n",
    "import warnings\n",
    "\n",
    "# import networkx as nx\n",
    "\n",
    "# import pandas as pd\n",
    "import numpy as np\n"
   ]
  },
  {
   "cell_type": "code",
   "execution_count": null,
   "id": "cognitive-steering",
   "metadata": {},
   "outputs": [],
   "source": [
    "warnings.filterwarnings(\"ignore\")"
   ]
  },
  {
   "cell_type": "code",
   "execution_count": null,
   "id": "genuine-bibliography",
   "metadata": {},
   "outputs": [],
   "source": [
    "def exportGraph(graph,fileBase,outputDir,listOfExports=['schematise','genomeToPangenome','annotationToPangenome'])\n",
    "    \n",
    "    pass"
   ]
  }
 ],
 "metadata": {
  "kernelspec": {
   "display_name": "Python 3",
   "language": "python",
   "name": "python3"
  }
 },
 "nbformat": 4,
 "nbformat_minor": 5
}

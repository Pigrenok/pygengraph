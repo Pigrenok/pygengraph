{
 "cells": [
  {
   "cell_type": "raw",
   "metadata": {},
   "source": [
    "---\n",
    "description: This package provides all functionality from graph construction (currently,\n",
    "  from annotation, in the future, from raw assembled sequences) to graph processing\n",
    "  (sorting, grouping, adjusting).\n",
    "output-file: index.html\n",
    "title: pygengraph\n",
    "\n",
    "---\n",
    "\n"
   ]
  },
  {
   "cell_type": "code",
   "execution_count": null,
   "metadata": {},
   "outputs": [
    {
     "name": "stdout",
     "output_type": "stream",
     "text": [
      "The autoreload extension is already loaded. To reload it, use:\n",
      "  %reload_ext autoreload\n"
     ]
    }
   ],
   "source": [
    "#| include: false\n",
    "%load_ext autoreload\n",
    "%autoreload 2"
   ]
  },
  {
   "cell_type": "markdown",
   "metadata": {},
   "source": [
    "## Install"
   ]
  },
  {
   "cell_type": "markdown",
   "metadata": {},
   "source": [
    "Enter the directory of the library and enter:"
   ]
  },
  {
   "cell_type": "markdown",
   "metadata": {},
   "source": [
    "`pip install .`"
   ]
  },
  {
   "cell_type": "markdown",
   "metadata": {},
   "source": [
    " and for development use"
   ]
  },
  {
   "cell_type": "markdown",
   "metadata": {},
   "source": [
    "`pip install -e .`"
   ]
  },
  {
   "cell_type": "markdown",
   "metadata": {},
   "source": [
    "## How to use"
   ]
  },
  {
   "cell_type": "markdown",
   "metadata": {},
   "source": [
    "### Use command line interface `pantograph`"
   ]
  },
  {
   "cell_type": "markdown",
   "metadata": {},
   "source": [
    "After this package is installed, a command line tool `pantograph` becomes available.\n",
    "\n",
    "It has several functions as following"
   ]
  },
  {
   "cell_type": "markdown",
   "metadata": {},
   "source": [
    "#### Converting annotations to gene graph (see user manual on what is gene graph)."
   ]
  },
  {
   "cell_type": "markdown",
   "metadata": {},
   "source": [
    "This is done by a command \n",
    "```bash\n",
    "$ pantograph annotation2graph [-h] [-g] setting_file.yaml\n",
    "```\n",
    "\n",
    "It requires a path to a yaml file with all settings for the process. If used with `-g` option, then a sample file will be generated for you to edit and then run it.\n",
    "Sample file has extensive comments explaining every parameter.\n",
    "\n",
    "So, it is best to do the following:\n",
    "\n",
    "```bash\n",
    "$ pantograph annotation2graph -g setting.yaml\n",
    "```\n",
    "\n",
    "then, using your favourite text editor, edit the generated file and then run\n",
    "\n",
    "```bash\n",
    "$ pantograph annotation2graph setting.yaml\n",
    "```"
   ]
  },
  {
   "cell_type": "markdown",
   "metadata": {},
   "source": [
    "#### Converting a file(s) with paths into gene/block graph"
   ]
  },
  {
   "cell_type": "markdown",
   "metadata": {},
   "source": [
    "This is done by a command \n",
    "```bash\n",
    "$ pantograph paths2graph [-h] [-g] setting_file.yaml\n",
    "```\n",
    "\n",
    "It requires a path to a yaml file with all settings for the process. If used with `-g` option, then a sample file will be generated for you to edit and then run it.\n",
    "Sample file has extensive comments explaining every parameter.\n",
    "\n",
    "So, it is best to do the following:\n",
    "\n",
    "```bash\n",
    "$ pantograph paths2graph -g setting.yaml\n",
    "```\n",
    "\n",
    "then, using your favourite text editor, edit the generated file and then run\n",
    "\n",
    "```bash\n",
    "$ pantograph paths2graph setting.yaml\n",
    "```"
   ]
  },
  {
   "cell_type": "markdown",
   "metadata": {},
   "source": [
    "#### Sorting a graph"
   ]
  },
  {
   "cell_type": "markdown",
   "metadata": {},
   "source": [
    "In order to sort a graph, it should be in GFA v1 format file. To run the sorting, you need to use the following command:\n",
    "\n",
    "```bash\n",
    "$ pantograph sort-graph [-h] [--quiet] [--isseq] [--output OUTPUT] input\n",
    "```\n",
    "with the following parameters\n",
    "\n",
    "positional arguments:\n",
    "\n",
    "`input`                 Relative (to current directory) or absolute path to the GFA file with the graph to be sorted.\n",
    "\n",
    "optional arguments:\n",
    "\n",
    "`-h`, `--help`            show this help message and exit\n",
    "\n",
    "`--quiet`, `-q`           Suppress most of output. False (i.e. verbose) is not set.\n",
    "\n",
    "`--isseq`, `-s`           Does this graph contains nucleotide sequences. False is not set.\n",
    "\n",
    "`--output OUTPUT`, `-o OUTPUT`\n",
    "                        File path where to save sorted graph. If not set, the input will be overwritten."
   ]
  },
  {
   "cell_type": "markdown",
   "metadata": {},
   "source": [
    "#### Exporting graph into visualisation data structure, which can be used by Pantograph visualisation tool."
   ]
  },
  {
   "cell_type": "markdown",
   "metadata": {},
   "source": [
    "This is done by a command \n",
    "```bash\n",
    "$ pantograph export-vis [-h] [-g] setting_file.yaml\n",
    "```\n",
    "\n",
    "It requires a path to a yaml file with all settings for the process. If used with `-g` option, then a sample file will be generated for you to edit and then run it.\n",
    "Sample file has extensive comments explaining every parameter.\n",
    "\n",
    "So, it is best to do the following:\n",
    "\n",
    "```bash\n",
    "$ pantograph export-vis -g setting.yaml\n",
    "```\n",
    "\n",
    "then, using your favourite text editor, edit the generated file and then run\n",
    "\n",
    "```bash\n",
    "$ pantograph export-vis setting.yaml\n",
    "```"
   ]
  },
  {
   "cell_type": "markdown",
   "metadata": {},
   "source": [
    "### Use python package"
   ]
  },
  {
   "cell_type": "markdown",
   "metadata": {},
   "source": [
    "The rest of the file describes some of the uses of the pyGenGraph package. There are more ways to use it, but more detailed documentation is needed to describe all use cases.\n",
    "Also, more things required for this package to become really universal."
   ]
  },
  {
   "cell_type": "code",
   "execution_count": null,
   "metadata": {},
   "outputs": [],
   "source": [
    "from nbdev import nbdev_export\n",
    "nbdev_export()"
   ]
  },
  {
   "cell_type": "code",
   "execution_count": null,
   "metadata": {},
   "outputs": [],
   "source": [
    "import os\n",
    "import glob\n",
    "import re\n",
    "import time\n",
    "\n",
    "from pygengraph.graph import GenomeGraph\n",
    "from pygengraph.utils import pathFileToPathDict\n",
    "from pygengraph.export import exportProject"
   ]
  },
  {
   "cell_type": "raw",
   "metadata": {},
   "source": [
    "# If redis database needs to be cleaned.\n",
    "\n",
    "from redis import Redis\n",
    "\n",
    "redisConn = Redis(host='redis',port=6379)\n",
    "\n",
    "redisConn.flushall()\n",
    "\n",
    "redisConn.close()\n",
    "\n",
    "del redisConn"
   ]
  },
  {
   "cell_type": "code",
   "execution_count": null,
   "metadata": {},
   "outputs": [],
   "source": [
    "import warnings\n",
    "warnings.simplefilter('ignore')\n",
    "warnings.filterwarnings('always',category=RuntimeWarning)"
   ]
  },
  {
   "cell_type": "markdown",
   "metadata": {},
   "source": [
    "# Generating graphs"
   ]
  },
  {
   "cell_type": "markdown",
   "metadata": {},
   "source": [
    "## Generating from annotation"
   ]
  },
  {
   "cell_type": "markdown",
   "metadata": {},
   "source": [
    "### Preparing list of files"
   ]
  },
  {
   "cell_type": "code",
   "execution_count": null,
   "metadata": {},
   "outputs": [],
   "source": [
    "#| eval: false\n",
    "refdir = '/path/to/reference/'\n",
    "annotationdir = '/path/to/annotation'\n",
    "gfadir = '/path/to/graphs'"
   ]
  },
  {
   "cell_type": "code",
   "execution_count": null,
   "metadata": {},
   "outputs": [],
   "source": [
    "#| eval: false\n",
    "annotationFiles = sorted(glob.glob(f'{annotationdir}{os.path.sep}*.gff'))\n",
    "pangenomeFiles = sorted(glob.glob(f'{annotationdir}{os.path.sep}*pangen.gff'))\n",
    "# If you want to include sequences instead of simple notion of genes.\n",
    "# It should also be converted to sequenceFileDict, see details in documentation for GenomeGraph Class constructor.\n",
    "# sequenceFiles = sorted(glob.glob(f'{annotationdir}{os.path.sep}sequences{os.path.sep}*.fasta'))\n",
    "refAnnotationFile = f'{refdir}{os.path.sep}reference.gff'\n",
    "# If you want to include sequences instead of simple notion of genes\n",
    "# refSequenceFile = f'{refdir}{os.path.sep}reference.fasta'"
   ]
  },
  {
   "cell_type": "code",
   "execution_count": null,
   "metadata": {},
   "outputs": [],
   "source": [
    "#| eval: false\n",
    "refdir = '../../1001G/annotations/freeze2.1/outgroups'\n",
    "annotationdir = '../../1001G/annotations/freeze2.1'\n",
    "gfadir = '../../1001G/annotations/graphs'"
   ]
  },
  {
   "cell_type": "code",
   "execution_count": null,
   "metadata": {},
   "outputs": [],
   "source": [
    "#| eval: false\n",
    "annotationFiles = sorted(glob.glob(f'{annotationdir}{os.path.sep}*.gff'))\n",
    "# pangenomeFiles = sorted(glob.glob(f'{annotationdir}{os.path.sep}*pangen.gff'))\n",
    "# If you want to include sequences instead of simple notion of genes.\n",
    "# It should also be converted to sequenceFileDict, see details in documentation for GenomeGraph Class constructor.\n",
    "# sequenceFiles = sorted(glob.glob(f'{annotationdir}{os.path.sep}sequences{os.path.sep}*.fasta'))\n",
    "refAnnotationFile = f'{refdir}{os.path.sep}araport.gff'\n",
    "# If you want to include sequences instead of simple notion of genes\n",
    "# refSequenceFile = f'{refdir}{os.path.sep}reference.fasta'"
   ]
  },
  {
   "cell_type": "markdown",
   "metadata": {},
   "source": [
    "### Generaton of gene graph"
   ]
  },
  {
   "cell_type": "code",
   "execution_count": null,
   "metadata": {},
   "outputs": [],
   "source": [
    "#| hide\n",
    "nbdev_export()"
   ]
  },
  {
   "cell_type": "code",
   "execution_count": null,
   "metadata": {},
   "outputs": [],
   "source": [
    "#| eval: false\n",
    "#| output: false\n",
    "doUS = False\n",
    "n = 1\n",
    "for chrnum in range(1,n+1): # here n is number of chromosomes.\n",
    "    chromosome = f'Chr{chrnum}'\n",
    "\n",
    "    print(f'\\nProcessing {chromosome}\\n============')\n",
    "\n",
    "    curtst = time.time()\n",
    "    \n",
    "    graph = GenomeGraph(annotationFiles = annotationFiles,\n",
    "                        pangenomeFiles = None,\n",
    "                        sequenceFilesDict = None,\n",
    "                        doUS = doUS,\n",
    "                        chromosome = chromosome,\n",
    "                        refAnnotationFile=refAnnotationFile,\n",
    "                        refAccession='TAIR10')\n",
    "    \n",
    "    print(f'Generating graph for {chromosome} took {time.time() - curtst} seconds')\n",
    "    \n",
    "    curtst = time.time()\n",
    "    graph.treeSort()\n",
    "    print(f'Sorting graph for {chromosome} took {time.time() - curtst} seconds')\n",
    "    if len(graph.nodes)!=len(graph.order):\n",
    "            print('Sorting failed and not all nodes were sorted. Saving unsorted graph')\n",
    "            gfaFilename = f'Gene_{chromosome}_simOnly_unordered.gfa'\n",
    "            graph.order = list(range(1,len(graph.nodes)+1))\n",
    "    else:\n",
    "        gfaFilename = f'Gene_{chromosome}_simOnly.gfa'\n",
    "    \n",
    "    graph.toGFA(f'{gfadir}{os.path.sep}{gfaFilename}',doSeq=False)\n",
    "    "
   ]
  },
  {
   "cell_type": "markdown",
   "metadata": {},
   "source": [
    "## Loading Pathfile to graph"
   ]
  },
  {
   "cell_type": "code",
   "execution_count": null,
   "metadata": {},
   "outputs": [
    {
     "name": "stdout",
     "output_type": "stream",
     "text": [
      "Calculating nodes length...\n",
      "Processing node 7/7\n",
      "Finished calculating nodes lengths\n",
      "Preprocessing paths...\n",
      "Processing path 5/5\n",
      "Finished preprocessing paths\n",
      "\n",
      "Constructing Tremaux tree\n",
      "Preprocessing tree 100%\n",
      "Done!\n",
      "Getting root nodes\n",
      "Start Loop...\n",
      "Nodes in order: 6/7\n"
     ]
    }
   ],
   "source": [
    "#| output: false\n",
    "# For path file v1\n",
    "pathfileDir = 'examples/gene_graph'\n",
    "\n",
    "pathsfile = 'paths_genegraph.txt'\n",
    "\n",
    "paths = pathFileToPathDict(f'{pathfileDir}{os.path.sep}{pathsfile}', True, True, False)\n",
    "\n",
    "graph = GenomeGraph(pathsDict=paths)\n",
    "\n",
    "graph.treeSort()\n",
    "\n",
    "if len(graph.nodes)!=len(graph.order):\n",
    "    print('Sorting failed and not all nodes were sorted. Saving unsorted graph')\n",
    "    output = 'paths_genegraph_unordered.gfa'\n",
    "    graph.order = list(range(1,len(graph.nodes)+1))\n",
    "    graph.toGFA(output,doSeq=False)\n",
    "else:\n",
    "    coreGFApath = f'{pathfileDir}{os.path.sep}paths_genegraph.gfa'\n",
    "    graph.toGFA(coreGFApath,doSeq=False)"
   ]
  },
  {
   "cell_type": "code",
   "execution_count": null,
   "metadata": {},
   "outputs": [],
   "source": [
    "#| eval: false\n",
    "# For v2\n",
    "# This is example, no v2 file currently available for demonstration.\n",
    "pathfileDir = '/path/to/file'\n",
    "\n",
    "pathsfile = f'paths.txt'\n",
    "\n",
    "paths = pathFileToPathDict(f'{pathfileDir}{os.path.sep}{pathsfile}',True,'reference',True)\n",
    "\n",
    "for seqNum in paths.keys():\n",
    "\n",
    "    graph = GenomeGraph(pathsDict=paths[seqNum])\n",
    "\n",
    "    # On undirected coregraph sorting is not optimal! Check sorting!!!\n",
    "\n",
    "    graph.treeSort()\n",
    "\n",
    "    if len(graph.nodes)!=len(graph.order):\n",
    "        print('Sorting failed and not all nodes were sorted. Saving unsorted graph')\n",
    "        output = f'{pathfileDir}{os.path.sep}graph_Chr{seqNum}_unordered.gfa'\n",
    "        graph.order = list(range(1,len(graph.nodes)+1))\n",
    "        graph.toGFA(output,doSeq=False)\n",
    "    else:\n",
    "        coreGFApath = f'{pathfileDir}{os.path.sep}graph_Chr{seqNum}.gfa'\n",
    "        graph.toGFA(coreGFApath,doSeq=False)\n"
   ]
  },
  {
   "cell_type": "markdown",
   "metadata": {},
   "source": [
    "# Loading graph from GFA and sorting it"
   ]
  },
  {
   "cell_type": "code",
   "execution_count": null,
   "metadata": {},
   "outputs": [
    {
     "name": "stdout",
     "output_type": "stream",
     "text": [
      "Loading graph from examples/nucleotide_graph/paths_presentation.gfa\n",
      "Found nodeNames file examples/nucleotide_graph/nodeNames_paths_presentation.json, loading names.\n",
      "Found node annotation file examples/nucleotide_graph/annotation_paths_presentation.dat, loading associations.\n",
      "Loading segment 7/7\n",
      "Loading segments finished.\n",
      "Loading link 12/12\n",
      "Loading links finished\n",
      "Loading path 5/5\n",
      "Loading paths finished. 5 paths added, 0 paths ignored.\n",
      "Calculating nodes length...\n",
      "Processing node 7/7\n",
      "Finished calculating nodes lengths\n",
      "Preprocessing paths...\n",
      "Processing path 5/5\n",
      "Finished preprocessing paths\n",
      "\n",
      "Constructing Tremaux tree\n",
      "Preprocessing tree 100%\n",
      "Done!\n",
      "Getting root nodes\n",
      "Start Loop...\n",
      "Nodes in order: 6/7\n"
     ]
    }
   ],
   "source": [
    "#| output: false\n",
    "gfadir = 'examples/nucleotide_graph'\n",
    "\n",
    "# It is nucleotide graph. If it is not nucleotide graph, then `isSeq` variable should be changed to False.\n",
    "gfafilename = 'paths_presentation.gfa'\n",
    "isSeq = True\n",
    "\n",
    "graph = GenomeGraph(gfaPath=f'{gfadir}{os.path.sep}{gfafilename}',isGFASeq=isSeq)\n",
    "\n",
    "graph.treeSort()\n",
    "\n",
    "assert len(graph.nodes)==len(graph.order)\n",
    "\n",
    "basename,ext = os.path.splitext(gfafilename)\n",
    "\n",
    "graph.toGFA(f'{gfadir}{os.path.sep}{basename}_ordered{ext}',doSeq=isSeq)"
   ]
  },
  {
   "cell_type": "markdown",
   "metadata": {},
   "source": [
    "# Exporting to Pantograph visualisation"
   ]
  },
  {
   "cell_type": "code",
   "execution_count": null,
   "metadata": {},
   "outputs": [
    {
     "name": "stdout",
     "output_type": "stream",
     "text": [
      "\n",
      "Processing case paths_genegraph_Main\n",
      "Loading Genome\n",
      "Loading graph from examples/gene_graph/paths_genegraph.gfa\n",
      "Found node annotation file examples/gene_graph/annotation_paths_genegraph.dat, loading associations.\n",
      "Loading segment 7/7\n",
      "Loading segments finished.\n",
      "Loading link 13/13\n",
      "Loading links finished\n",
      "Loading path 5/5\n",
      "Loading paths finished. 5 paths added, 0 paths ignored.\n",
      "Calculating nodes length...\n",
      "Processing node 7/7\n",
      "Finished calculating nodes lengths\n",
      "Preprocessing paths...\n",
      "Processing path 5/5\n",
      "Finished preprocessing paths\n",
      "\n",
      "Recording Pantograph data to examples/Visdata/paths_genegraph/paths_genegraph_Main\n",
      "Calculating nodes length...\n",
      "Processing node 7/7\n",
      "Finished calculating nodes lengths\n",
      "Preprocessing paths...\n",
      "Processing path 5/5\n",
      "Finished preprocessing paths\n",
      "Processing path breaks...\n",
      "Postprocessing interconnected links 2/2\n",
      "Preprocessing interconnected links finished.\n",
      "\n",
      "Processing path breaks finished.\n",
      "Converting blocks to block lengths 6/6\n",
      "Conversion finished.\n",
      "Reformating links to block lengths associations 6/6\n",
      "Reformating finished.\n",
      "Identifying rearrangement blocks\n",
      "Processing node 7/7\n",
      "Identifying rearrangement blocks finished.\n",
      "\n",
      "===========================\n",
      "Zoom level 1\n",
      "===========================\n",
      "Processing node 7/7\n",
      "Processing component links 6/6\n",
      "Converting link to block lengths associations\n",
      "Converting paired links\n",
      "Converting interconnected links\n",
      "Converting rearrangement blocks\n",
      "Recording component 6/6\n",
      "Recording zoom level 1 finished.\n",
      "Removing links according to collapsible blocks\n",
      "All links associated with collapsibleComponents <2 were removed.     0 components were deleted as isolated.\n",
      "\n",
      "===========================\n",
      "Zoom level 2\n",
      "===========================\n",
      "Processing component 6/6\n",
      "Processing component finished.\n",
      "Converting link to block lengths associations\n",
      "Converting paired links\n",
      "Converting interconnected links\n",
      "Converting rearrangement blocks\n",
      "\n",
      "Recording component 6/6\n",
      "Recording zoom level 2 finished.\n",
      "Removing links according to collapsible blocks\n",
      "All links associated with collapsibleComponents <4 were removed.     0 components were deleted as isolated.\n",
      "\n",
      "===========================\n",
      "Zoom level 4\n",
      "===========================\n",
      "Processing component 6/6\n",
      "Processing component finished.\n",
      "Converting link to block lengths associations\n",
      "Converting paired links\n",
      "Converting interconnected links\n",
      "Converting rearrangement blocks\n",
      "\n",
      "Recording component 6/6\n",
      "Recording zoom level 4 finished.\n",
      "Removing links according to collapsible blocks\n",
      "All links associated with collapsibleComponents <8 were removed.     0 components were deleted as isolated.\n",
      "\n",
      "===========================\n",
      "Zoom level 8\n",
      "===========================\n",
      "Processing component 6/6\n",
      "Processing component finished.\n",
      "Converting link to block lengths associations\n",
      "Converting paired links\n",
      "Converting interconnected links\n",
      "Converting rearrangement blocks\n",
      "\n",
      "Recording component 5/5\n",
      "Recording zoom level 8 finished.\n",
      "Exporting gene graph for Main took 0.4831960201263428 seconds\n"
     ]
    }
   ],
   "source": [
    "#| output: false\n",
    "projectID = 'paths_genegraph'\n",
    "projectName = 'Example gene graph'\n",
    "pathToGraphs = 'examples/gene_graph'\n",
    "caseDict = {'Main': 'paths_genegraph.gfa'}\n",
    "pathToIndex = 'examples/Visdata'\n",
    "\n",
    "# This is if you run it in Docker compose together with active Redis image, which is named \"redis\".\n",
    "# If you have separate redis server, enter full address here.\n",
    "# If you do not want to add any annotation, `redisHost` should be None.\n",
    "redisHost = 'redis'\n",
    "redisPort = 6379\n",
    "redisDB = 0\n",
    "\n",
    "suffix = ''\n",
    "\n",
    "maxLengthComponent = 100\n",
    "maxLengthChunk = 6\n",
    "inversionThreshold = 0.5\n",
    "isSeq = False\n",
    "zoomLevels = [1,2,4]\n",
    "fillZoomLevel = True\n",
    "\n",
    "exportProject(projectID, projectName, caseDict, pathToIndex, pathToGraphs,\n",
    "              redisHost = redisHost, redisPort = redisPort, redisDB = redisDB,\n",
    "              suffix = suffix,\n",
    "              maxLengthComponent = maxLengthComponent, maxLengthChunk = maxLengthChunk,\n",
    "              inversionThreshold = inversionThreshold,\n",
    "              isSeq = isSeq,\n",
    "              zoomLevels = zoomLevels, fillZoomLevel = fillZoomLevel)"
   ]
  },
  {
   "cell_type": "code",
   "execution_count": null,
   "metadata": {},
   "outputs": [
    {
     "name": "stdout",
     "output_type": "stream",
     "text": [
      "\n",
      "Processing case tutorial_graph_Main\n",
      "Using Redis DB server at redis:6379 with db number 0.\n",
      "Loading Genome\n",
      "Loading graph from examples/nucleotide_graph/paths_presentation_ordered.gfa\n",
      "Found nodeNames file examples/nucleotide_graph/nodeNames_paths_presentation_ordered.json, loading names.\n",
      "Found node annotation file examples/nucleotide_graph/annotation_paths_presentation_ordered.dat, loading associations.\n",
      "Loading segment 7/7\n",
      "Loading segments finished.\n",
      "Loading link 12/12\n",
      "Loading links finished\n",
      "Loading path 5/5\n",
      "Loading paths finished. 5 paths added, 0 paths ignored.\n",
      "Calculating nodes length...\n",
      "Processing node 7/7\n",
      "Finished calculating nodes lengths\n",
      "Preprocessing paths...\n",
      "Processing path 5/5\n",
      "Finished preprocessing paths\n",
      "\n",
      "Recording Pantograph data to examples/Visdata/tutorial_graph/tutorial_graph_Main\n",
      "Calculating nodes length...\n",
      "Processing node 7/7\n",
      "Finished calculating nodes lengths\n",
      "Preprocessing paths...\n",
      "Processing path 5/5\n",
      "Finished preprocessing paths\n",
      "Processing path breaks...\n",
      "Postprocessing interconnected links 2/2\n",
      "Preprocessing interconnected links finished.\n",
      "\n",
      "Processing path breaks finished.\n",
      "Converting blocks to block lengths 5/5\n",
      "Conversion finished.\n",
      "Reformating links to block lengths associations 5/5\n",
      "Reformating finished.\n",
      "Identifying rearrangement blocks\n",
      "Processing node 7/7\n",
      "Identifying rearrangement blocks finished.\n",
      "\n",
      "===========================\n",
      "Zoom level 1\n",
      "===========================\n",
      "Processing node 7/7\n",
      "Processing component links 6/6\n",
      "Converting link to block lengths associations\n",
      "Converting paired links\n",
      "Converting interconnected links\n",
      "Converting rearrangement blocks\n",
      "Recording component 6/6\n",
      "Recording zoom level 1 finished.\n",
      "Removing links according to collapsible blocks\n",
      "All links associated with collapsibleComponents <2 were removed.     0 components were deleted as isolated.\n",
      "\n",
      "===========================\n",
      "Zoom level 2\n",
      "===========================\n",
      "Processing component 6/6\n",
      "Processing component finished.\n",
      "Converting link to block lengths associations\n",
      "Converting paired links\n",
      "Converting interconnected links\n",
      "Converting rearrangement blocks\n",
      "\n",
      "Recording component 6/6\n",
      "Recording zoom level 2 finished.\n",
      "Removing links according to collapsible blocks\n",
      "All links associated with collapsibleComponents <4 were removed.     0 components were deleted as isolated.\n",
      "\n",
      "===========================\n",
      "Zoom level 4\n",
      "===========================\n",
      "Processing component 6/6\n",
      "Processing component finished.\n",
      "Converting link to block lengths associations\n",
      "Converting paired links\n",
      "Converting interconnected links\n",
      "Converting rearrangement blocks\n",
      "\n",
      "Recording component 6/6\n",
      "Recording zoom level 4 finished.\n",
      "Removing links according to collapsible blocks\n",
      "All links associated with collapsibleComponents <8 were removed.     0 components were deleted as isolated.\n",
      "\n",
      "===========================\n",
      "Zoom level 8\n",
      "===========================\n",
      "Processing component 6/6\n",
      "Processing component finished.\n",
      "Converting link to block lengths associations\n",
      "Converting paired links\n",
      "Converting interconnected links\n",
      "Converting rearrangement blocks\n",
      "\n",
      "Recording component 6/6\n",
      "Recording zoom level 8 finished.\n",
      "Removing links according to collapsible blocks\n",
      "All links associated with collapsibleComponents <16 were removed.     0 components were deleted as isolated.\n",
      "\n",
      "===========================\n",
      "Zoom level 16\n",
      "===========================\n",
      "Processing component 6/6\n",
      "Processing component finished.\n",
      "Converting link to block lengths associations\n",
      "Converting paired links\n",
      "Converting interconnected links\n",
      "Converting rearrangement blocks\n",
      "\n",
      "Recording component 6/6\n",
      "Recording zoom level 16 finished.\n",
      "Removing links according to collapsible blocks\n",
      "All links associated with collapsibleComponents <32 were removed.     0 components were deleted as isolated.\n",
      "\n",
      "===========================\n",
      "Zoom level 32\n",
      "===========================\n",
      "Processing component 6/6\n",
      "Processing component finished.\n",
      "Converting link to block lengths associations\n",
      "Converting paired links\n",
      "Converting interconnected links\n",
      "Converting rearrangement blocks\n",
      "\n",
      "Recording component 6/6\n",
      "Recording zoom level 32 finished.\n",
      "Removing links according to collapsible blocks\n",
      "All links associated with collapsibleComponents <64 were removed.     0 components were deleted as isolated.\n",
      "\n",
      "===========================\n",
      "Zoom level 64\n",
      "===========================\n",
      "Processing component 6/6\n",
      "Processing component finished.\n",
      "Converting link to block lengths associations\n",
      "Converting paired links\n",
      "Converting interconnected links\n",
      "Converting rearrangement blocks\n",
      "\n",
      "Recording component 6/6\n",
      "Recording zoom level 64 finished.\n",
      "Exporting gene graph for Main took 0.5401127338409424 seconds\n"
     ]
    }
   ],
   "source": [
    "#| output: false\n",
    "projectID = 'tutorial_graph'\n",
    "projectName = 'Example nucleotide graph'\n",
    "pathToGraphs = 'examples/nucleotide_graph'\n",
    "caseDict = {'Main': 'paths_presentation_ordered.gfa'}\n",
    "pathToIndex = 'examples/Visdata'\n",
    "\n",
    "# This is if you run it in Docker compose together with active Redis image, which is named \"redis\".\n",
    "# If you have separate redis server, enter full address here.\n",
    "# If you do not want to add any annotation, `redisHost` should be None.\n",
    "redisHost = 'redis'\n",
    "redisPort = 6379\n",
    "redisDB = 0\n",
    "\n",
    "suffix = ''\n",
    "\n",
    "maxLengthComponent = 100\n",
    "maxLengthChunk = 6\n",
    "inversionThreshold = 0.5\n",
    "isSeq = True\n",
    "zoomLevels = [1,2,4]\n",
    "fillZoomLevel = True\n",
    "\n",
    "exportProject(projectID, projectName, caseDict, pathToIndex, pathToGraphs,\n",
    "              redisHost = redisHost, redisPort = redisPort, redisDB = redisDB,\n",
    "              suffix = suffix,\n",
    "              maxLengthComponent = maxLengthComponent, maxLengthChunk = maxLengthChunk,\n",
    "              inversionThreshold = inversionThreshold,\n",
    "              isSeq = isSeq,\n",
    "              zoomLevels = zoomLevels, fillZoomLevel = fillZoomLevel)"
   ]
  },
  {
   "cell_type": "markdown",
   "metadata": {},
   "source": [
    "#| hide\n",
    "# Adding gene data mass processing several chromosomes"
   ]
  },
  {
   "cell_type": "markdown",
   "metadata": {},
   "source": [
    "#| hide\n",
    "\n",
    "This is old version of adding subunits to graph containing units (e.g. graph of conserved gene blocks and adding information about individual genes to it)."
   ]
  },
  {
   "cell_type": "code",
   "execution_count": null,
   "metadata": {},
   "outputs": [],
   "source": [
    "#| hide\n",
    "from copy import deepcopy\n",
    "import joblib\n",
    "\n",
    "from pangraph_constructor.utils import checkNodeLengthsFile, pathConvert\n"
   ]
  },
  {
   "cell_type": "code",
   "execution_count": null,
   "metadata": {},
   "outputs": [],
   "source": [
    "#| hide\n",
    "doCreateCoreGenes = True"
   ]
  },
  {
   "cell_type": "code",
   "execution_count": null,
   "metadata": {},
   "outputs": [
    {
     "ename": "NameError",
     "evalue": "name 'adjustZoomLevels' is not defined",
     "output_type": "error",
     "traceback": [
      "\u001b[0;31m---------------------------------------------------------------------------\u001b[0m",
      "\u001b[0;31mNameError\u001b[0m                                 Traceback (most recent call last)",
      "Cell \u001b[0;32mIn[21], line 7\u001b[0m\n\u001b[1;32m      5\u001b[0m invertionThreshold \u001b[38;5;241m=\u001b[39m \u001b[38;5;241m0.5\u001b[39m\n\u001b[1;32m      6\u001b[0m zoomLevels \u001b[38;5;241m=\u001b[39m [\u001b[38;5;241m1\u001b[39m,\u001b[38;5;241m3\u001b[39m,\u001b[38;5;241m9\u001b[39m]\n\u001b[0;32m----> 7\u001b[0m zoomLevels \u001b[38;5;241m=\u001b[39m \u001b[43madjustZoomLevels\u001b[49m(zoomLevels)\n\u001b[1;32m      9\u001b[0m \u001b[38;5;28;01mfor\u001b[39;00m seqNum \u001b[38;5;129;01min\u001b[39;00m \u001b[38;5;28mrange\u001b[39m(\u001b[38;5;241m1\u001b[39m,\u001b[38;5;241m6\u001b[39m):\n\u001b[1;32m     10\u001b[0m     \u001b[38;5;28;01mif\u001b[39;00m doCreateCoreGenes:\n",
      "\u001b[0;31mNameError\u001b[0m: name 'adjustZoomLevels' is not defined"
     ]
    }
   ],
   "source": [
    "#| hide\n",
    "pathfileDir = '../../1001G/coreGraph/new_Nov2022'\n",
    "maxLengthComponent = 100\n",
    "maxLengthChunk = 16\n",
    "invertionThreshold = 0.5\n",
    "zoomLevels = [1,3,9]\n",
    "zoomLevels = adjustZoomLevels(zoomLevels)\n",
    "\n",
    "for seqNum in range(1,6):\n",
    "    if doCreateCoreGenes:\n",
    "        coreGFApath = f'{pathfileDir}{os.path.sep}coregraph_v2_Chr{seqNum:d}.gfa'\n",
    "\n",
    "        coregraph = GenomeGraph(gfaPath=coreGFApath,isGFASeq=False)\n",
    "        coregraph_genes = deepcopy(coregraph)\n",
    "\n",
    "        fullGraphPath = f'../../1001G/pantograph/data/AT_Chr{seqNum:d}_OGOnly_2.1.gfa'\n",
    "        fullgraph = GenomeGraph(gfaPath=fullGraphPath,isGFASeq=False)\n",
    "\n",
    "        chainToGenesFile = f'chain2gene.txt'\n",
    "        # maxChainLength = len(coregraph.nodes[0])\n",
    "        chainToListDict = {}\n",
    "        nodeLengths = []\n",
    "        with open(f'{pathfileDir}{os.path.sep}{chainToGenesFile}') as f:\n",
    "            for line in f:\n",
    "                chainName, geneList = line.split(':')\n",
    "                geneList = geneList.lstrip().rstrip().split(',')\n",
    "                chainToListDict[chainName] = geneList\n",
    "\n",
    "        for nodeIdx,nodeName in enumerate(coregraph.nodes):\n",
    "            print(f'\\rNode {nodeIdx+1}/{len(coregraph.nodes)}',end='')\n",
    "            geneList = chainToListDict.get(nodeName, [])\n",
    "            # geneIds = []\n",
    "            # if geneList[0][:2]!='ch':\n",
    "            geneList = [gene.rstrip('+') for gene in geneList]\n",
    "            geneIds = [fullgraph.nodes.index(genename) for genename in geneList]\n",
    "            # coregraph_genes.nodesData[nodeIdx] = ''.join(geneList)\n",
    "            geneNum = max(1,len(geneList))\n",
    "            nodeLengths.append(geneNum)\n",
    "\n",
    "            for accession, chainDict in coregraph.nodesAnnotation[nodeIdx].items():\n",
    "                interval = chainDict[nodeName]\n",
    "                # geneCumLengths = np.hstack((0, np.cumsum([len(gene) for gene in geneList])))\n",
    "                \n",
    "                coregraph.nodesAnnotation[nodeIdx][accession].pop(nodeName,None)\n",
    "                \n",
    "                coregraph.nodesAnnotation[nodeIdx][accession].\\\n",
    "                    update({geneAnnotation:interval \\\n",
    "                            for i,geneid in enumerate(geneIds) \\\n",
    "                                for geneAnnotation in fullgraph.nodesAnnotation[geneid].get(accession,{fullgraph.nodes[geneid]:None}).keys()})\n",
    "\n",
    "                coregraph_genes.nodesAnnotation[nodeIdx][accession].\\\n",
    "                    update({geneAnnotation:[(i,i)] \\\n",
    "                                    for i,geneid in enumerate(geneIds) \\\n",
    "                                        for geneAnnotation in fullgraph.nodesAnnotation[geneid].get(accession,{fullgraph.nodes[geneid]:None}).keys()})\n",
    "\n",
    "                # coregraph_genes.nodesAnnotation[nodeIdx][accession].\\\n",
    "                #     update({nodeName:[(0, geneNum-1)]})\n",
    "        print('')\n",
    "\n",
    "    coreGFApath = f'{pathfileDir}{os.path.sep}coregraph_v2_Chr{seqNum:d}.gfa'\n",
    "    coreGeneGFApath = f'{pathfileDir}{os.path.sep}coregraph_v2_genes_Chr{seqNum:d}.gfa'\n",
    "    \n",
    "    if doCreateCoreGenes:\n",
    "        coreGeneNodeLengthsPath = f'{pathfileDir}{os.path.sep}nodeLengths_coregraph_v2_genes_Chr{seqNum:d}.dat'\n",
    "\n",
    "        coregraph.toGFA(coreGFApath,doSeq=False)\n",
    "        coregraph_genes.toGFA(coreGeneGFApath,doSeq=True)\n",
    "        joblib.dump(nodeLengths,coreGeneNodeLengthsPath)\n",
    "\n",
    "    #Exporting chain graph with annotation only\n",
    "    isSeq = False\n",
    "    inputPath = coreGFApath\n",
    "    \n",
    "    outputPath,outputName = pathConvert(inputPath,suffix='_new')\n",
    "\n",
    "    # dbid = getDBID('../pantograph_API/data/caseToDBID.dict',outputName)\n",
    "    # print(f'Opening Redis connection for db {dbid}')\n",
    "    redisConn = Redis(host='redis',port = 6379,db=0)\n",
    "\n",
    "    exportToPantograph(inputPath=inputPath,\n",
    "                       outputName=outputName,\n",
    "                       outputPath=outputPath,\n",
    "                       isSeq=isSeq,\n",
    "                       redisConn=redisConn,\n",
    "                       GenomeGraphParams={'accessionsToRemove':['Consensus']},\n",
    "                       zoomLevels=zoomLevels,\n",
    "                       fillZoomLevels=True,\n",
    "                       maxLengthChunk=maxLengthChunk,\n",
    "                       maxLengthComponent=maxLengthComponent,\n",
    "                       inversionThreshold=inversionThreshold,)\n",
    "\n",
    "    #Exporting chain graph with genes\n",
    "    isSeq = False\n",
    "    inputPath = coreGeneGFApath\n",
    "    \n",
    "    outputPath,outputName = pathConvert(inputPath,suffix='_new')\n",
    "\n",
    "    # dbid = getDBID('../pantograph_API/data/caseToDBID.dict',outputName)\n",
    "    # print(f'Opening Redis connection for db {dbid}')\n",
    "    redisConn = Redis(host='redis',port = 6379,db=0)\n",
    "\n",
    "    exportToPantograph(inputPath=inputPath,\n",
    "                       outputName=outputName,\n",
    "                       outputPath=outputPath,\n",
    "                       isSeq=isSeq,\n",
    "                       nodeLengths=checkNodeLengthsFile(inputPath),\n",
    "                       redisConn=redisConn,\n",
    "                       GenomeGraphParams={'accessionsToRemove':['Consensus']},\n",
    "                       zoomLevels=zoomLevels,\n",
    "                       fillZoomLevels=True,\n",
    "                       maxLengthChunk=maxLengthChunk,\n",
    "                       maxLengthComponent=maxLengthComponent,\n",
    "                       inversionThreshold=inversionThreshold,)"
   ]
  },
  {
   "cell_type": "code",
   "execution_count": null,
   "metadata": {},
   "outputs": [],
   "source": []
  }
 ],
 "metadata": {
  "kernelspec": {
   "display_name": "Python 3 (ipykernel)",
   "language": "python",
   "name": "python3"
  },
  "widgets": {
   "application/vnd.jupyter.widget-state+json": {
    "state": {},
    "version_major": 2,
    "version_minor": 0
   }
  }
 },
 "nbformat": 4,
 "nbformat_minor": 4
}

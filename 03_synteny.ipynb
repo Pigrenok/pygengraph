{
 "cells": [
  {
   "cell_type": "code",
   "execution_count": null,
   "metadata": {},
   "outputs": [],
   "source": [
    "# default_exp synteny"
   ]
  },
  {
   "cell_type": "code",
   "execution_count": null,
   "metadata": {},
   "outputs": [],
   "source": [
    "#hide\n",
    "%load_ext autoreload\n",
    "%autoreload 2"
   ]
  },
  {
   "cell_type": "markdown",
   "metadata": {},
   "source": [
    "# Synteny module\n",
    "\n",
    "> Provides functionality to construct special synteny graph from pangenome annotation (and actual sequences)."
   ]
  },
  {
   "cell_type": "code",
   "execution_count": null,
   "metadata": {},
   "outputs": [
    {
     "name": "stdout",
     "output_type": "stream",
     "text": [
      "Converted 00_init.ipynb.\n",
      "Converted 01_graph.ipynb.\n",
      "Converted 02_tree.ipynb.\n",
      "Converted 03_synteny.ipynb.\n",
      "Converted 04_utils.ipynb.\n",
      "Converted index.ipynb.\n"
     ]
    }
   ],
   "source": [
    "#hide\n",
    "from nbdev.showdoc import *\n",
    "from nbdev.export import notebook2script\n",
    "notebook2script()"
   ]
  },
  {
   "cell_type": "code",
   "execution_count": null,
   "metadata": {},
   "outputs": [],
   "source": [
    "#exporti\n",
    "import os\n",
    "import glob\n",
    "import json\n",
    "import itertools\n",
    "\n",
    "import pandas as pd\n",
    "\n",
    "from skbio.io import read as skbio_read\n",
    "from skbio.metadata import IntervalMetadata\n",
    "from skbio.sequence import DNA\n",
    "\n",
    "from dnasim.IO import writeFASTA\n",
    "from dnasim.simulation import inverseSequence"
   ]
  },
  {
   "cell_type": "code",
   "execution_count": null,
   "metadata": {},
   "outputs": [],
   "source": [
    "datadir = '../../1001G/annotation'\n",
    "gfadir = '../../1001G/pantograph/data'\n",
    "\n",
    "annotationFiles = sorted(glob.glob(f'{datadir}{os.path.sep}*.gff'))\n",
    "sequenceFiles = sorted(glob.glob(f'{datadir}{os.path.sep}sequences{os.path.sep}*.fasta'))\n",
    "transMapFile = f'{datadir}{os.path.sep}stats{os.path.sep}TransMap.map'"
   ]
  },
  {
   "cell_type": "code",
   "execution_count": null,
   "metadata": {},
   "outputs": [],
   "source": [
    "#Parameters\n",
    "doSequences = False\n",
    "doCigars = False\n",
    "doUS = False\n",
    "gfaFilename = 'AT_Chr1_OGOnly.gfa'\n",
    "seqSuffix = '_Chr1'"
   ]
  },
  {
   "cell_type": "code",
   "execution_count": null,
   "metadata": {},
   "outputs": [],
   "source": [
    "#export\n",
    "def readTransMap(transMapFile):\n",
    "    # reading and preparing transmap in pandas format\n",
    "    transMap = pd.read_csv(transMapFile,delimiter='\\t')\n",
    "    transMap.rename(columns={'Orthogroup:':'orthogroup'},inplace=True)\n",
    "    transMap['orthogroup'] = transMap.orthogroup.str.rstrip(':')\n",
    "    transMap.set_index('orthogroup',inplace=True)\n",
    "    return transMap"
   ]
  },
  {
   "cell_type": "code",
   "execution_count": null,
   "metadata": {},
   "outputs": [],
   "source": [
    "#export\n",
    "def generateOrder(files,priorityAccession='TIAR10'):\n",
    "    ind = [idx for idx,file in enumerate(files) if priorityAccession in file][0]\n",
    "    idxList = list(range(len(files)))\n",
    "    del idxList[ind]\n",
    "    idxList = [ind] + idxList\n",
    "    return idxList"
   ]
  },
  {
   "cell_type": "code",
   "execution_count": null,
   "metadata": {},
   "outputs": [],
   "source": [
    "#export\n",
    "def getIDs(iterator):\n",
    "    idList = []\n",
    "    for interval in iterator:\n",
    "        idList.append(interval.metadata['ID'])\n",
    "    \n",
    "    return idList"
   ]
  },
  {
   "cell_type": "code",
   "execution_count": null,
   "metadata": {},
   "outputs": [],
   "source": [
    "#export\n",
    "def processAccession(annotationFile,sequenceFile=None):\n",
    "    accessionID = os.path.splitext(os.path.basename(annotationFile))[0]\n",
    "    annotationGen = skbio_read(annotationFile, format='gff3')\n",
    "    \n",
    "    sequenceDict = None\n",
    "    \n",
    "    if sequenceFile is not None:\n",
    "        sequenceDict = {}\n",
    "        sequenceGen = skbio_read(sequenceFile,format='fasta')\n",
    "        for seq in sequenceGen:\n",
    "            sequenceDict[seq.metadata['id']] = bytearray(seq.values).decode()\n",
    "    \n",
    "    genes = []\n",
    "    for seqID,annotation in annotationGen:\n",
    "        geneInts = annotation.query(metadata={'type':'gene'})\n",
    "        \n",
    "        for gene in geneInts:\n",
    "            geneID = gene.metadata['ID'][7:]\n",
    "            orthogroup = gene.metadata['OG']\n",
    "            forward = gene.metadata['strand']=='+'\n",
    "            start,end = gene.bounds[0]\n",
    "            \n",
    "            if sequenceDict is not None:\n",
    "                geneSeq = sequenceDict[seqID][start:end+1]\n",
    "            else:\n",
    "                geneSeq = ''\n",
    "            overlaps = getIDs(annotation.query(bounds=[(start,end)],metadata={'type':'gene'}))\n",
    "            genes.append([geneID,orthogroup,seqID,accessionID,forward,start,end,geneSeq,overlaps])\n",
    "    \n",
    "    genes = pd.DataFrame(genes,columns=['geneID','orthogroup','sequenceID','accessionID','forward','start','end','geneSeq','overlapGenes'])\n",
    "    genes.sort_values(by=['sequenceID','start'],inplace=True)\n",
    "        \n",
    "    return accessionID,genes,sequenceDict"
   ]
  },
  {
   "cell_type": "code",
   "execution_count": null,
   "metadata": {},
   "outputs": [],
   "source": [
    "#export\n",
    "def recordSegment(name,segmentIDs,sequence=None,gfaFile=None,segmentData=None):\n",
    "    segmentIDs.append(name)\n",
    "    segID = len(segmentIDs)\n",
    "    \n",
    "    if segmentData is not None and sequence is not None:\n",
    "        segmentData.append(sequence)\n",
    "    \n",
    "    if gfaFile is not None:\n",
    "        if sequence is not None:\n",
    "            gfaFile.write(f'S\\t{segID}\\t{sequence}\\n')        \n",
    "        else:\n",
    "            gfaFile.write(f'S\\t{segID}\\t{name}\\n')\n",
    "    return segID"
   ]
  },
  {
   "cell_type": "code",
   "execution_count": null,
   "metadata": {},
   "outputs": [],
   "source": [
    "#export\n",
    "def addLink(links,prevPathSegment,name,forward):\n",
    "    '''\n",
    "    `links`: mutable\n",
    "    `prevPathSegment`: mutable\n",
    "    '''\n",
    "    if prevPathSegment is not None:\n",
    "        links[prevPathSegment].add(f'{name}\\t{\"+\" if forward else \"-\"}')\n",
    "    return f'{name}\\t{\"+\" if forward else \"-\"}'\n"
   ]
  },
  {
   "cell_type": "code",
   "execution_count": null,
   "metadata": {},
   "outputs": [],
   "source": [
    "#export\n",
    "def generatePathsLinks(genes,sequences,OGList,segmentIDs,links,usCounter,doUS=True,\n",
    "                       segmentData=None,gfaFile=None):\n",
    "    '''\n",
    "    `gfaFile`: file handle to write segments to GFA file\n",
    "    `OGList`: mutable\n",
    "    `links`: mutable\n",
    "    `usCounter`: mutable\n",
    "    \n",
    "    '''\n",
    "    path = []\n",
    "    cigar = []\n",
    "    prevEnd = 0\n",
    "    prevPathSegment = None\n",
    "    curSeqID = ''\n",
    "    for gene in genes.iterrows():\n",
    "        og = gene[1].orthogroup\n",
    "        \n",
    "        geneSeqID = gene[1].sequenceID\n",
    "        if curSeqID != geneSeqID:\n",
    "            curSeqID = geneSeqID\n",
    "        \n",
    "        geneStart = gene[1].start\n",
    "        geneEnd = gene[1].end\n",
    "        geneForward = gene[1].forward\n",
    "        \n",
    "        if sequences is not None:\n",
    "            if geneForward:\n",
    "                geneSeq = sequences[geneSeqID][geneStart:geneEnd+1]\n",
    "            else:\n",
    "                geneSeq = inverseSequence(sequences[geneSeqID][geneStart:geneEnd+1])\n",
    "        else:\n",
    "            geneSeq = ''\n",
    "        \n",
    "        if doUS:\n",
    "        \n",
    "            if sequences is not None:\n",
    "                usSeq = sequences[geneSeqID][prevEnd:geneStart]\n",
    "            else:\n",
    "                usSeq = ''\n",
    "\n",
    "            if len(usSeq)>0:\n",
    "                isUS = True\n",
    "                us = f'US{usCounter:07d}'\n",
    "                usCounter += 1\n",
    "            else:\n",
    "                isUS = False\n",
    "\n",
    "            if isUS:\n",
    "                usID = recordSegment(us,segmentIDs,usSeq,gfaFile=gfaFile,segmentData=segmentData)\n",
    "        \n",
    "        if og not in OGList:\n",
    "            ogID = recordSegment(og,segmentIDs,geneSeq,gfaFile=gfaFile,segmentData=segmentData)\n",
    "            OGList.append(og)\n",
    "        else:\n",
    "            ogID = segmentIDs.index(og)+1\n",
    "            \n",
    "        pathAdd = [f'{ogID}{\"+\" if geneForward else \"-\"}']\n",
    "        if doUS and isUS:\n",
    "            pathAdd.insert(0,f'{usID}+')\n",
    "            \n",
    "        path.extend(pathAdd)\n",
    "        \n",
    "        if len(cigar)>0 and doUS and isUS:\n",
    "            cigar.extend(['0M','0M']) # with previous block and between two current blocks\n",
    "        else:\n",
    "            cigar.append('0M') # only between current blocks or between previous and current gene\n",
    "                               # without unrelated sequence (intergenic) block.\n",
    "        \n",
    "        if doUS and isUS:\n",
    "            prevPathSegment = addLink(links,prevPathSegment,usID,True)\n",
    "            links[prevPathSegment] = set()\n",
    "        \n",
    "        prevPathSegment = addLink(links,prevPathSegment,ogID,geneForward)\n",
    "        if prevPathSegment not in links:\n",
    "            links[prevPathSegment] = set()\n",
    "        \n",
    "        prevEnd = geneEnd+1\n",
    "    \n",
    "    if doUS:\n",
    "        \n",
    "        if sequences is not None:\n",
    "            usSeq = sequences[curSeqID][prevEnd:]\n",
    "        else:\n",
    "            usSeq = ''\n",
    "\n",
    "        if len(usSeq)>0:\n",
    "            us = f'US{usCounter:07d}'\n",
    "            usID = recordSegment(us,segmentIDs,usSeq,gfaFile=gfaFile,segmentData=segmentData)\n",
    "            usCounter += 1\n",
    "            path.append(f'{usID}+')\n",
    "            cigar.append('0M')\n",
    "            prevPathSegment = addLink(links,prevPathSegment,usID,True)\n",
    "\n",
    "    return path,cigar,usCounter"
   ]
  },
  {
   "cell_type": "code",
   "execution_count": null,
   "metadata": {},
   "outputs": [],
   "source": [
    "#export\n",
    "def writeLinks(gfaFile,links,doCigars=True):\n",
    "    for linkLeft,linksRight in links.items():\n",
    "        for linkRight in linksRight:\n",
    "            if doCigars:\n",
    "                gfaFile.write(f'L\\t{linkLeft}\\t{linkRight}\\t0M\\n')\n",
    "            else:\n",
    "                gfaFile.write(f'L\\t{linkLeft}\\t{linkRight}\\t*\\n')\n",
    "                \n",
    "def writePath(gfaFile,AccessionID,path,cigar,doCigars):   \n",
    "    if doCigars:\n",
    "        cigarString = \",\".join(cigar)\n",
    "    else:\n",
    "        cigarString = \"*\"\n",
    "        \n",
    "    gfaFile.write(f'P\\t{AccessionID}\\t{\",\".join(path)}\\t{cigarString}\\n')\n",
    "    \n",
    "def writeSegmentIDs(path,segmentIDs):\n",
    "    with open(path,'w') as jsf:\n",
    "        json.dump(segmentIDs,jsf)\n",
    "        \n",
    "def readSegmentIDs(path):\n",
    "    with open(path,'r') as jsf:\n",
    "        return json.load(jsf)"
   ]
  },
  {
   "cell_type": "code",
   "execution_count": null,
   "metadata": {},
   "outputs": [],
   "source": [
    "fileOrder = generateOrder(annotationFiles)"
   ]
  },
  {
   "cell_type": "code",
   "execution_count": null,
   "metadata": {},
   "outputs": [],
   "source": [
    "usCounter = 0\n",
    "links = {}\n",
    "OGList = []\n",
    "segmentIDs = []"
   ]
  },
  {
   "cell_type": "code",
   "execution_count": null,
   "metadata": {},
   "outputs": [
    {
     "name": "stderr",
     "output_type": "stream",
     "text": [
      "/home/pigrenok/.pyenv/versions/3.8.6/lib/python3.8/site-packages/skbio/io/registry.py:547: FormatIdentificationWarning: <_io.BufferedReader name='../../1001G/annotation/10002.gff'> does not look like a gff3 file\n",
      "  warn(\"%r does not look like a %s file\"\n"
     ]
    }
   ],
   "source": [
    "accessionID,genes,sequences = processAccession(annotationFiles[0],None)"
   ]
  },
  {
   "cell_type": "code",
   "execution_count": null,
   "metadata": {},
   "outputs": [
    {
     "data": {
      "text/plain": [
       "'10002'"
      ]
     },
     "execution_count": null,
     "metadata": {},
     "output_type": "execute_result"
    }
   ],
   "source": [
    "accessionID"
   ]
  },
  {
   "cell_type": "code",
   "execution_count": null,
   "metadata": {},
   "outputs": [
    {
     "data": {
      "text/html": [
       "<div>\n",
       "<style scoped>\n",
       "    .dataframe tbody tr th:only-of-type {\n",
       "        vertical-align: middle;\n",
       "    }\n",
       "\n",
       "    .dataframe tbody tr th {\n",
       "        vertical-align: top;\n",
       "    }\n",
       "\n",
       "    .dataframe thead th {\n",
       "        text-align: right;\n",
       "    }\n",
       "</style>\n",
       "<table border=\"1\" class=\"dataframe\">\n",
       "  <thead>\n",
       "    <tr style=\"text-align: right;\">\n",
       "      <th></th>\n",
       "      <th>geneID</th>\n",
       "      <th>orthogroup</th>\n",
       "      <th>sequenceID</th>\n",
       "      <th>accessionID</th>\n",
       "      <th>forward</th>\n",
       "      <th>start</th>\n",
       "      <th>end</th>\n",
       "      <th>geneSeq</th>\n",
       "      <th>overlapGenes</th>\n",
       "    </tr>\n",
       "  </thead>\n",
       "  <tbody>\n",
       "    <tr>\n",
       "      <th>19226</th>\n",
       "      <td>10002_Chr1.1</td>\n",
       "      <td>OG0001582</td>\n",
       "      <td>10002_Chr1</td>\n",
       "      <td>10002</td>\n",
       "      <td>True</td>\n",
       "      <td>775</td>\n",
       "      <td>3012</td>\n",
       "      <td></td>\n",
       "      <td>[evm.TU.10002_Chr1.1]</td>\n",
       "    </tr>\n",
       "    <tr>\n",
       "      <th>19227</th>\n",
       "      <td>10002_Chr1.2</td>\n",
       "      <td>OG0001824</td>\n",
       "      <td>10002_Chr1</td>\n",
       "      <td>10002</td>\n",
       "      <td>True</td>\n",
       "      <td>4175</td>\n",
       "      <td>8538</td>\n",
       "      <td></td>\n",
       "      <td>[evm.TU.10002_Chr1.2]</td>\n",
       "    </tr>\n",
       "    <tr>\n",
       "      <th>19228</th>\n",
       "      <td>10002_Chr1.3</td>\n",
       "      <td>OG0001825</td>\n",
       "      <td>10002_Chr1</td>\n",
       "      <td>10002</td>\n",
       "      <td>False</td>\n",
       "      <td>9152</td>\n",
       "      <td>10443</td>\n",
       "      <td></td>\n",
       "      <td>[evm.TU.10002_Chr1.3]</td>\n",
       "    </tr>\n",
       "    <tr>\n",
       "      <th>19229</th>\n",
       "      <td>10002_Chr1.4</td>\n",
       "      <td>OG0001089</td>\n",
       "      <td>10002_Chr1</td>\n",
       "      <td>10002</td>\n",
       "      <td>False</td>\n",
       "      <td>10919</td>\n",
       "      <td>14470</td>\n",
       "      <td></td>\n",
       "      <td>[evm.TU.10002_Chr1.4]</td>\n",
       "    </tr>\n",
       "    <tr>\n",
       "      <th>19230</th>\n",
       "      <td>10002_Chr1.5</td>\n",
       "      <td>OG0001826</td>\n",
       "      <td>10002_Chr1</td>\n",
       "      <td>10002</td>\n",
       "      <td>True</td>\n",
       "      <td>16181</td>\n",
       "      <td>17266</td>\n",
       "      <td></td>\n",
       "      <td>[evm.TU.10002_Chr1.5]</td>\n",
       "    </tr>\n",
       "    <tr>\n",
       "      <th>...</th>\n",
       "      <td>...</td>\n",
       "      <td>...</td>\n",
       "      <td>...</td>\n",
       "      <td>...</td>\n",
       "      <td>...</td>\n",
       "      <td>...</td>\n",
       "      <td>...</td>\n",
       "      <td>...</td>\n",
       "      <td>...</td>\n",
       "    </tr>\n",
       "    <tr>\n",
       "      <th>15212</th>\n",
       "      <td>10002_tig00002326.7</td>\n",
       "      <td>OG0000003</td>\n",
       "      <td>10002_tig00002326</td>\n",
       "      <td>10002</td>\n",
       "      <td>False</td>\n",
       "      <td>168797</td>\n",
       "      <td>172152</td>\n",
       "      <td></td>\n",
       "      <td>[evm.TU.10002_tig00002326.7]</td>\n",
       "    </tr>\n",
       "    <tr>\n",
       "      <th>15213</th>\n",
       "      <td>10002_tig00002326.8</td>\n",
       "      <td>OG0000001</td>\n",
       "      <td>10002_tig00002326</td>\n",
       "      <td>10002</td>\n",
       "      <td>True</td>\n",
       "      <td>175665</td>\n",
       "      <td>176947</td>\n",
       "      <td></td>\n",
       "      <td>[evm.TU.10002_tig00002326.8]</td>\n",
       "    </tr>\n",
       "    <tr>\n",
       "      <th>15214</th>\n",
       "      <td>10002_tig00002326.9</td>\n",
       "      <td>OG0000000</td>\n",
       "      <td>10002_tig00002326</td>\n",
       "      <td>10002</td>\n",
       "      <td>False</td>\n",
       "      <td>178775</td>\n",
       "      <td>179453</td>\n",
       "      <td></td>\n",
       "      <td>[evm.TU.10002_tig00002326.9]</td>\n",
       "    </tr>\n",
       "    <tr>\n",
       "      <th>15215</th>\n",
       "      <td>10002_tig00002326.10</td>\n",
       "      <td>OG0000010</td>\n",
       "      <td>10002_tig00002326</td>\n",
       "      <td>10002</td>\n",
       "      <td>True</td>\n",
       "      <td>179881</td>\n",
       "      <td>181599</td>\n",
       "      <td></td>\n",
       "      <td>[evm.TU.10002_tig00002326.10]</td>\n",
       "    </tr>\n",
       "    <tr>\n",
       "      <th>15217</th>\n",
       "      <td>10002_tig00002336.1</td>\n",
       "      <td>OG0000000</td>\n",
       "      <td>10002_tig00002336</td>\n",
       "      <td>10002</td>\n",
       "      <td>True</td>\n",
       "      <td>1031</td>\n",
       "      <td>7766</td>\n",
       "      <td></td>\n",
       "      <td>[evm.TU.10002_tig00002336.1]</td>\n",
       "    </tr>\n",
       "  </tbody>\n",
       "</table>\n",
       "<p>25916 rows × 9 columns</p>\n",
       "</div>"
      ],
      "text/plain": [
       "                     geneID orthogroup         sequenceID accessionID  \\\n",
       "19226          10002_Chr1.1  OG0001582         10002_Chr1       10002   \n",
       "19227          10002_Chr1.2  OG0001824         10002_Chr1       10002   \n",
       "19228          10002_Chr1.3  OG0001825         10002_Chr1       10002   \n",
       "19229          10002_Chr1.4  OG0001089         10002_Chr1       10002   \n",
       "19230          10002_Chr1.5  OG0001826         10002_Chr1       10002   \n",
       "...                     ...        ...                ...         ...   \n",
       "15212   10002_tig00002326.7  OG0000003  10002_tig00002326       10002   \n",
       "15213   10002_tig00002326.8  OG0000001  10002_tig00002326       10002   \n",
       "15214   10002_tig00002326.9  OG0000000  10002_tig00002326       10002   \n",
       "15215  10002_tig00002326.10  OG0000010  10002_tig00002326       10002   \n",
       "15217   10002_tig00002336.1  OG0000000  10002_tig00002336       10002   \n",
       "\n",
       "       forward   start     end geneSeq                   overlapGenes  \n",
       "19226     True     775    3012                  [evm.TU.10002_Chr1.1]  \n",
       "19227     True    4175    8538                  [evm.TU.10002_Chr1.2]  \n",
       "19228    False    9152   10443                  [evm.TU.10002_Chr1.3]  \n",
       "19229    False   10919   14470                  [evm.TU.10002_Chr1.4]  \n",
       "19230     True   16181   17266                  [evm.TU.10002_Chr1.5]  \n",
       "...        ...     ...     ...     ...                            ...  \n",
       "15212    False  168797  172152           [evm.TU.10002_tig00002326.7]  \n",
       "15213     True  175665  176947           [evm.TU.10002_tig00002326.8]  \n",
       "15214    False  178775  179453           [evm.TU.10002_tig00002326.9]  \n",
       "15215     True  179881  181599          [evm.TU.10002_tig00002326.10]  \n",
       "15217     True    1031    7766           [evm.TU.10002_tig00002336.1]  \n",
       "\n",
       "[25916 rows x 9 columns]"
      ]
     },
     "execution_count": null,
     "metadata": {},
     "output_type": "execute_result"
    }
   ],
   "source": [
    "genes"
   ]
  },
  {
   "cell_type": "code",
   "execution_count": null,
   "metadata": {},
   "outputs": [],
   "source": [
    "sequences"
   ]
  },
  {
   "cell_type": "code",
   "execution_count": null,
   "metadata": {},
   "outputs": [
    {
     "data": {
      "text/plain": [
       "['10002_Chr1',\n",
       " '10002_Chr2',\n",
       " '10002_Chr3',\n",
       " '10002_Chr4',\n",
       " '10002_Chr5',\n",
       " '10002_ChrC',\n",
       " '10002_ChrM',\n",
       " '10002_tig00000010',\n",
       " '10002_tig00000011',\n",
       " '10002_tig00000012',\n",
       " '10002_tig00000013',\n",
       " '10002_tig00000016',\n",
       " '10002_tig00000018',\n",
       " '10002_tig00000019',\n",
       " '10002_tig00000023',\n",
       " '10002_tig00000054',\n",
       " '10002_tig00000069',\n",
       " '10002_tig00000071',\n",
       " '10002_tig00000085',\n",
       " '10002_tig00000091',\n",
       " '10002_tig00000095',\n",
       " '10002_tig00000100',\n",
       " '10002_tig00000101',\n",
       " '10002_tig00000102',\n",
       " '10002_tig00000104',\n",
       " '10002_tig00000112',\n",
       " '10002_tig00000114',\n",
       " '10002_tig00000117',\n",
       " '10002_tig00000171',\n",
       " '10002_tig00000189',\n",
       " '10002_tig00000194',\n",
       " '10002_tig00000197',\n",
       " '10002_tig00001769',\n",
       " '10002_tig00002317',\n",
       " '10002_tig00002320',\n",
       " '10002_tig00002322',\n",
       " '10002_tig00002323',\n",
       " '10002_tig00002324',\n",
       " '10002_tig00002325',\n",
       " '10002_tig00002326',\n",
       " '10002_tig00002328',\n",
       " '10002_tig00002330',\n",
       " '10002_tig00002331',\n",
       " '10002_tig00002334',\n",
       " '10002_tig00002336',\n",
       " '10002_tig00023950',\n",
       " '10002_tig00023952',\n",
       " '10002_tig00023953',\n",
       " '10002_tig00023954']"
      ]
     },
     "execution_count": null,
     "metadata": {},
     "output_type": "execute_result"
    }
   ],
   "source": [
    "q = list(sequences.keys())\n",
    "q.sort()\n",
    "q"
   ]
  },
  {
   "cell_type": "code",
   "execution_count": null,
   "metadata": {},
   "outputs": [],
   "source": [
    "gfaFile.close()"
   ]
  },
  {
   "cell_type": "code",
   "execution_count": null,
   "metadata": {},
   "outputs": [
    {
     "data": {
      "text/plain": [
       "11"
      ]
     },
     "execution_count": null,
     "metadata": {},
     "output_type": "execute_result"
    }
   ],
   "source": [
    "gfaFile = open(f'{gfadir}{os.path.sep}{gfaFilename}',mode='w')\n",
    "gfaFile.write('H\\tVN:Z:1.0\\n')"
   ]
  },
  {
   "cell_type": "code",
   "execution_count": null,
   "metadata": {},
   "outputs": [],
   "source": [
    "for accessionNum in [0,1]:\n",
    "    fileNum = fileOrder[accessionNum]\n",
    "\n",
    "    accessionID,genes,sequences = processAccession(annotationFiles[fileNum],sequenceFiles[fileNum])\n",
    "\n",
    "    seqID = f'{accessionID}{seqSuffix}'\n",
    "\n",
    "    path,cigar,usCounter = generatePathsLinks(gfaFile,genes.loc[genes.sequenceID==seqID],sequences,\n",
    "                                    OGList,segmentIDs,links,usCounter=usCounter,doUS=doUS)\n",
    "\n",
    "    writePath(gfaFile,seqID,path,cigar,doCigars=doCigars)"
   ]
  },
  {
   "cell_type": "code",
   "execution_count": null,
   "metadata": {},
   "outputs": [],
   "source": [
    "writeLinks(gfaFile,links,doCigars=doCigars)\n",
    "gfaFile.close()\n",
    "writeSegmentIDs(f'{gfadir}{os.path.sep}segName_{os.path.splitext(gfaFilename)[0]}.json',segmentIDs)"
   ]
  },
  {
   "cell_type": "raw",
   "metadata": {},
   "source": [
    "for og in transMap.index:\n",
    "    if doSequences:\n",
    "        gfaFile.write(f'S\\t{og}\\t{og:_<9}\\n')\n",
    "    else:\n",
    "        gfaFile.write(f'S\\t{og}\\t*\\tUR:Z:./fasta/{og}.fa\\n')        "
   ]
  },
  {
   "cell_type": "code",
   "execution_count": null,
   "metadata": {},
   "outputs": [],
   "source": [
    "path = []\n",
    "cigar = []\n",
    "prevEnd = 0\n",
    "for gene in genes.iterrows():\n",
    "    path.append(gene[1].orthogroup)\n",
    "    gene[1].orthogroup\n",
    "    gene[1].start\n",
    "    gene[1].end"
   ]
  },
  {
   "cell_type": "code",
   "execution_count": null,
   "metadata": {},
   "outputs": [
    {
     "data": {
      "text/plain": [
       "('10002_tig00000091',\n",
       " array([b'A', b'T', b'T', ..., b'G', b'A', b'A'], dtype='|S1'))"
      ]
     },
     "execution_count": null,
     "metadata": {},
     "output_type": "execute_result"
    }
   ],
   "source": [
    "q.metadata['id'],q.values"
   ]
  },
  {
   "cell_type": "code",
   "execution_count": null,
   "metadata": {},
   "outputs": [
    {
     "data": {
      "text/plain": [
       "'GGTTCTGTTTATACGAGTATTGTAATTGGAAGAATTTTTTATATTAAAAAAAAATCAATTTTGAATCCAAGATTTTTCTTGTTCTTATAT'"
      ]
     },
     "execution_count": null,
     "metadata": {},
     "output_type": "execute_result"
    }
   ],
   "source": [
    "bytearray(q.values).decode()"
   ]
  },
  {
   "cell_type": "code",
   "execution_count": null,
   "metadata": {},
   "outputs": [
    {
     "name": "stderr",
     "output_type": "stream",
     "text": [
      "/home/pigrenok/.pyenv/versions/3.8.6/lib/python3.8/site-packages/skbio/io/registry.py:547: FormatIdentificationWarning: <_io.BufferedReader name='../../1001G/annotation/10002.gff'> does not look like a gff3 file\n",
      "  warn(\"%r does not look like a %s file\"\n"
     ]
    }
   ],
   "source": [
    "accessionNum = 0\n",
    "annotation = skbio_read(annotationFiles[accessionNum], format='gff3')#, into=IntervalMetadata, seq_id=f'{accessionID}_Chr1')\n"
   ]
  },
  {
   "cell_type": "code",
   "execution_count": null,
   "metadata": {},
   "outputs": [
    {
     "name": "stdout",
     "output_type": "stream",
     "text": [
      "10002_Chr3\n",
      "10002_ChrM\n",
      "10002_tig00000091\n",
      "10002_tig00002317\n",
      "10002_Chr5\n",
      "10002_Chr2\n",
      "10002_tig00000095\n",
      "10002_tig00000197\n",
      "10002_tig00000085\n",
      "10002_tig00002326\n",
      "10002_tig00000112\n",
      "10002_tig00002336\n",
      "10002_ChrC\n",
      "10002_tig00000104\n",
      "10002_tig00000069\n",
      "10002_Chr4\n",
      "10002_Chr1\n"
     ]
    }
   ],
   "source": [
    "for ann in annotation:\n",
    "    print(ann[0])"
   ]
  },
  {
   "cell_type": "code",
   "execution_count": null,
   "metadata": {},
   "outputs": [
    {
     "data": {
      "text/plain": [
       "89060 interval features\n",
       "-----------------------\n",
       "Interval(interval_metadata=<139868678246704>, bounds=[(775, 3012)], fuzzy=[(False, False)], metadata={'source': 'EVM', 'type': 'gene', 'score': '.', 'strand': '+', 'ID': 'evm.TU.10002_Chr1.1', 'Name': 'EVM%20prediction%2010002_Chr1.1', 'OG': 'OG0001582', 'AT': 'AT1G03370'})\n",
       "Interval(interval_metadata=<139868678246704>, bounds=[(775, 3012)], fuzzy=[(False, False)], metadata={'source': 'EVM', 'type': 'mRNA', 'score': '.', 'strand': '+', 'ID': 'evm.model.10002_Chr1.1', 'Parent': 'evm.TU.10002_Chr1.1', 'Name': 'EVM%20prediction%2010002_Chr1.1'})\n",
       "...\n",
       "Interval(interval_metadata=<139868678246704>, bounds=[(29717819, 29717869)], fuzzy=[(False, False)], metadata={'source': 'EVM', 'type': 'exon', 'score': '.', 'strand': '+', 'ID': 'evm.model.10002_Chr1.6690.exon3', 'Parent': 'evm.model.10002_Chr1.6690'})\n",
       "Interval(interval_metadata=<139868678246704>, bounds=[(29717819, 29717869)], fuzzy=[(False, False)], metadata={'source': 'EVM', 'type': 'CDS', 'score': '.', 'strand': '+', 'phase': 2, 'ID': 'cds.evm.model.10002_Chr1.6690', 'Parent': 'evm.model.10002_Chr1.6690'})"
      ]
     },
     "execution_count": null,
     "metadata": {},
     "output_type": "execute_result"
    }
   ],
   "source": [
    "ann[1]"
   ]
  },
  {
   "cell_type": "code",
   "execution_count": null,
   "metadata": {},
   "outputs": [
    {
     "name": "stderr",
     "output_type": "stream",
     "text": [
      "/home/pigrenok/.pyenv/versions/3.8.6/lib/python3.8/site-packages/skbio/io/registry.py:547: FormatIdentificationWarning: <_io.BufferedReader name='../../1001G/annotation/10002.gff'> does not look like a gff3 file\n",
      "  warn(\"%r does not look like a %s file\"\n"
     ]
    }
   ],
   "source": [
    "seqID = f'{accessionID}_Chr1'\n",
    "\n",
    "# This is needed only for processing one sequence. \n",
    "# If we process the whole accession, we will go sequence by sequence.\n",
    "for seq in sequenceGen:\n",
    "    if seq.metadata['id']==seqID:\n",
    "        sequence = bytearray(seq.values).decode()\n",
    "        annotation = skbio_read(annotationFiles[accessionNum], format='gff3', \n",
    "                                into=IntervalMetadata, seq_id=seq.metadata['id'])\n",
    "\n",
    "\n",
    "# annotation = skbio_read(annotationFiles[accessionNum], format='gff3', into=IntervalMetadata, seq_id=seqID)\n"
   ]
  },
  {
   "cell_type": "code",
   "execution_count": null,
   "metadata": {},
   "outputs": [],
   "source": [
    "geneInts = annotation.query(metadata={'type':'gene'})"
   ]
  },
  {
   "cell_type": "code",
   "execution_count": null,
   "metadata": {},
   "outputs": [
    {
     "name": "stdout",
     "output_type": "stream",
     "text": [
      "6690\n"
     ]
    },
    {
     "data": {
      "text/html": [
       "<div>\n",
       "<style scoped>\n",
       "    .dataframe tbody tr th:only-of-type {\n",
       "        vertical-align: middle;\n",
       "    }\n",
       "\n",
       "    .dataframe tbody tr th {\n",
       "        vertical-align: top;\n",
       "    }\n",
       "\n",
       "    .dataframe thead th {\n",
       "        text-align: right;\n",
       "    }\n",
       "</style>\n",
       "<table border=\"1\" class=\"dataframe\">\n",
       "  <thead>\n",
       "    <tr style=\"text-align: right;\">\n",
       "      <th></th>\n",
       "      <th>geneID</th>\n",
       "      <th>orthogroup</th>\n",
       "      <th>sequenceID</th>\n",
       "      <th>accessionID</th>\n",
       "      <th>forward</th>\n",
       "      <th>start</th>\n",
       "      <th>end</th>\n",
       "      <th>geneSeq</th>\n",
       "      <th>overlapGenes</th>\n",
       "    </tr>\n",
       "  </thead>\n",
       "  <tbody>\n",
       "    <tr>\n",
       "      <th>0</th>\n",
       "      <td>10002_Chr1.1</td>\n",
       "      <td>OG0001582</td>\n",
       "      <td>10002_Chr1</td>\n",
       "      <td>10002</td>\n",
       "      <td>True</td>\n",
       "      <td>775</td>\n",
       "      <td>3012</td>\n",
       "      <td>GCAGTGATCATGGCATCAAAGCGCATGGAGATGGTTGGTTGCTAAC...</td>\n",
       "      <td>[evm.TU.10002_Chr1.1]</td>\n",
       "    </tr>\n",
       "    <tr>\n",
       "      <th>1</th>\n",
       "      <td>10002_Chr1.2</td>\n",
       "      <td>OG0001824</td>\n",
       "      <td>10002_Chr1</td>\n",
       "      <td>10002</td>\n",
       "      <td>True</td>\n",
       "      <td>4175</td>\n",
       "      <td>8538</td>\n",
       "      <td>ATGATGAAGAAGGGGAAAGGAAAGAACAGTGGCTTGTTACCGAATT...</td>\n",
       "      <td>[evm.TU.10002_Chr1.2]</td>\n",
       "    </tr>\n",
       "    <tr>\n",
       "      <th>2</th>\n",
       "      <td>10002_Chr1.3</td>\n",
       "      <td>OG0001825</td>\n",
       "      <td>10002_Chr1</td>\n",
       "      <td>10002</td>\n",
       "      <td>False</td>\n",
       "      <td>9152</td>\n",
       "      <td>10443</td>\n",
       "      <td>TCAACTCCTCCTTGTGGCAACAACACGCAAACCTGTGGCGTAGGGC...</td>\n",
       "      <td>[evm.TU.10002_Chr1.3]</td>\n",
       "    </tr>\n",
       "    <tr>\n",
       "      <th>3</th>\n",
       "      <td>10002_Chr1.4</td>\n",
       "      <td>OG0001089</td>\n",
       "      <td>10002_Chr1</td>\n",
       "      <td>10002</td>\n",
       "      <td>False</td>\n",
       "      <td>10919</td>\n",
       "      <td>14470</td>\n",
       "      <td>TTAGATTTTGAAATGGTGTAACTTAGGAGCATCGAGCGTTTTTGAG...</td>\n",
       "      <td>[evm.TU.10002_Chr1.4]</td>\n",
       "    </tr>\n",
       "    <tr>\n",
       "      <th>4</th>\n",
       "      <td>10002_Chr1.5</td>\n",
       "      <td>OG0001826</td>\n",
       "      <td>10002_Chr1</td>\n",
       "      <td>10002</td>\n",
       "      <td>True</td>\n",
       "      <td>16181</td>\n",
       "      <td>17266</td>\n",
       "      <td>ATGAACACCATCGTCGTTGCTCAGTTGCAGAGACAATTTCAAGACT...</td>\n",
       "      <td>[evm.TU.10002_Chr1.5]</td>\n",
       "    </tr>\n",
       "    <tr>\n",
       "      <th>...</th>\n",
       "      <td>...</td>\n",
       "      <td>...</td>\n",
       "      <td>...</td>\n",
       "      <td>...</td>\n",
       "      <td>...</td>\n",
       "      <td>...</td>\n",
       "      <td>...</td>\n",
       "      <td>...</td>\n",
       "      <td>...</td>\n",
       "    </tr>\n",
       "    <tr>\n",
       "      <th>6685</th>\n",
       "      <td>10002_Chr1.6686</td>\n",
       "      <td>OG0007134</td>\n",
       "      <td>10002_Chr1</td>\n",
       "      <td>10002</td>\n",
       "      <td>False</td>\n",
       "      <td>29702914</td>\n",
       "      <td>29706729</td>\n",
       "      <td>TCAAGTTGAAATAGCCAAAACAAGATGTGAGAATTTCAAGAAATTT...</td>\n",
       "      <td>[evm.TU.10002_Chr1.6686]</td>\n",
       "    </tr>\n",
       "    <tr>\n",
       "      <th>6686</th>\n",
       "      <td>10002_Chr1.6687</td>\n",
       "      <td>OG0007135</td>\n",
       "      <td>10002_Chr1</td>\n",
       "      <td>10002</td>\n",
       "      <td>True</td>\n",
       "      <td>29708168</td>\n",
       "      <td>29709148</td>\n",
       "      <td>ATGGAGAAAGGGGTTGGATTTGAGAAAGACATGAAGACAGTGAGTG...</td>\n",
       "      <td>[evm.TU.10002_Chr1.6687]</td>\n",
       "    </tr>\n",
       "    <tr>\n",
       "      <th>6687</th>\n",
       "      <td>10002_Chr1.6688</td>\n",
       "      <td>OG0007136</td>\n",
       "      <td>10002_Chr1</td>\n",
       "      <td>10002</td>\n",
       "      <td>False</td>\n",
       "      <td>29709591</td>\n",
       "      <td>29712117</td>\n",
       "      <td>TTAGCTTTTGCAAAACAAACCTGCACGAACACGAAAGAGATGCTTC...</td>\n",
       "      <td>[evm.TU.10002_Chr1.6688]</td>\n",
       "    </tr>\n",
       "    <tr>\n",
       "      <th>6688</th>\n",
       "      <td>10002_Chr1.6689</td>\n",
       "      <td>OG0002082</td>\n",
       "      <td>10002_Chr1</td>\n",
       "      <td>10002</td>\n",
       "      <td>True</td>\n",
       "      <td>29714744</td>\n",
       "      <td>29715904</td>\n",
       "      <td>ATGGAGAGATCATCATCATCATCATCATCATCATCAACATCATCAT...</td>\n",
       "      <td>[evm.TU.10002_Chr1.6689]</td>\n",
       "    </tr>\n",
       "    <tr>\n",
       "      <th>6689</th>\n",
       "      <td>10002_Chr1.6690</td>\n",
       "      <td>OG0002082</td>\n",
       "      <td>10002_Chr1</td>\n",
       "      <td>10002</td>\n",
       "      <td>True</td>\n",
       "      <td>29716789</td>\n",
       "      <td>29717869</td>\n",
       "      <td>ATGATCTGTTCCCCAATGCTAAATTCCACGTGGATACTGTGTGGAT...</td>\n",
       "      <td>[evm.TU.10002_Chr1.6690]</td>\n",
       "    </tr>\n",
       "  </tbody>\n",
       "</table>\n",
       "<p>6690 rows × 9 columns</p>\n",
       "</div>"
      ],
      "text/plain": [
       "               geneID  ...              overlapGenes\n",
       "0        10002_Chr1.1  ...     [evm.TU.10002_Chr1.1]\n",
       "1        10002_Chr1.2  ...     [evm.TU.10002_Chr1.2]\n",
       "2        10002_Chr1.3  ...     [evm.TU.10002_Chr1.3]\n",
       "3        10002_Chr1.4  ...     [evm.TU.10002_Chr1.4]\n",
       "4        10002_Chr1.5  ...     [evm.TU.10002_Chr1.5]\n",
       "...               ...  ...                       ...\n",
       "6685  10002_Chr1.6686  ...  [evm.TU.10002_Chr1.6686]\n",
       "6686  10002_Chr1.6687  ...  [evm.TU.10002_Chr1.6687]\n",
       "6687  10002_Chr1.6688  ...  [evm.TU.10002_Chr1.6688]\n",
       "6688  10002_Chr1.6689  ...  [evm.TU.10002_Chr1.6689]\n",
       "6689  10002_Chr1.6690  ...  [evm.TU.10002_Chr1.6690]\n",
       "\n",
       "[6690 rows x 9 columns]"
      ]
     },
     "execution_count": null,
     "metadata": {},
     "output_type": "execute_result"
    }
   ],
   "source": [
    "genes = []\n",
    "for gene in geneInts:\n",
    "    geneID = gene.metadata['ID'][7:]\n",
    "    orthogroup = gene.metadata['OG']\n",
    "    forward = gene.metadata['strand']=='+'\n",
    "    start,end = gene.bounds[0]\n",
    "    geneSeq = sequence[start:end+1]\n",
    "    overlaps = getIDs(annotation.query(bounds=[(start,end)],metadata={'type':'gene'}))\n",
    "    genes.append([geneID,orthogroup,seqID,accessionID,forward,start,end,geneSeq,overlaps])\n",
    "print(len(genes))\n",
    "genes = pd.DataFrame(genes,columns=['geneID','orthogroup','sequenceID','accessionID','forward','start','end','geneSeq','overlapGenes'])\n",
    "genes.sort_values(by='start',inplace=True)\n",
    "genes"
   ]
  },
  {
   "cell_type": "code",
   "execution_count": null,
   "metadata": {},
   "outputs": [],
   "source": [
    "path = []\n",
    "cigar = []\n",
    "prevEnd = 0\n",
    "for gene in genes.iterrows():\n",
    "    path.append(gene[1].orthogroup)\n",
    "    gene[1].orthogroup\n",
    "    gene[1].start\n",
    "    gene[1].end"
   ]
  },
  {
   "cell_type": "raw",
   "metadata": {},
   "source": [
    "# example of combining of all gene names from all accessions from one orthogroup\n",
    "q = [item for s in transMap.loc['OG0000001'].dropna().to_list() for item in s.split(',')]"
   ]
  }
 ],
 "metadata": {
  "kernelspec": {
   "display_name": "Python 3",
   "language": "python",
   "name": "python3"
  }
 },
 "nbformat": 4,
 "nbformat_minor": 2
}

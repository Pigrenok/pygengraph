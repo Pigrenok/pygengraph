{
 "cells": [
  {
   "cell_type": "raw",
   "id": "d6feeca0",
   "metadata": {},
   "source": [
    "---\n",
    "output-file: debruijngraphprocessing.html\n",
    "title: Processing GFA produced by CuttleFish compacted de Bruijn graph constructor\n",
    "\n",
    "---\n",
    "\n"
   ]
  },
  {
   "cell_type": "code",
   "execution_count": null,
   "id": "mexican-indonesian",
   "metadata": {},
   "outputs": [],
   "source": [
    "#| include: false\n",
    "%load_ext autoreload\n",
    "%autoreload 2"
   ]
  },
  {
   "cell_type": "code",
   "execution_count": null,
   "id": "initial-mercy",
   "metadata": {},
   "outputs": [],
   "source": [
    "%load_ext line_profiler\n",
    "%load_ext memory_profiler"
   ]
  },
  {
   "cell_type": "code",
   "execution_count": null,
   "id": "conditional-highway",
   "metadata": {},
   "outputs": [],
   "source": [
    "from nbdev import nbdev_export\n",
    "nbdev_export()"
   ]
  },
  {
   "cell_type": "code",
   "execution_count": null,
   "id": "overall-distribution",
   "metadata": {},
   "outputs": [],
   "source": [
    "import cProfile\n",
    "import pstats\n",
    "from pstats import SortKey"
   ]
  },
  {
   "cell_type": "code",
   "execution_count": null,
   "id": "automotive-investment",
   "metadata": {},
   "outputs": [],
   "source": [
    "import os\n",
    "import glob\n",
    "import re\n",
    "from random import shuffle\n",
    "\n",
    "import networkx as nx\n",
    "import numpy as np\n",
    "\n",
    "from pygengraph.graph import GenomeGraph,initialPathAnalysis,calcNodeLengths\n",
    "from pygengraph.utils import inverseSequence"
   ]
  },
  {
   "cell_type": "code",
   "execution_count": null,
   "id": "optical-amino",
   "metadata": {},
   "outputs": [],
   "source": [
    "import warnings\n",
    "warnings.simplefilter('ignore')"
   ]
  },
  {
   "cell_type": "markdown",
   "id": "endless-retreat",
   "metadata": {},
   "source": [
    "## Loading graph"
   ]
  },
  {
   "cell_type": "code",
   "execution_count": null,
   "id": "recorded-tractor",
   "metadata": {},
   "outputs": [
    {
     "name": "stdout",
     "output_type": "stream",
     "text": [
      "Converted 00_init.ipynb.\n",
      "Converted 01_graph.ipynb.\n",
      "Converted 02_tree.ipynb.\n",
      "Converted 03_synteny.ipynb.\n",
      "Converted 04_utils.ipynb.\n",
      "Converted 05_export.ipynb.\n",
      "Converted deBruijnGraphProcessing.ipynb.\n",
      "Converted index.ipynb.\n"
     ]
    }
   ],
   "source": [
    "notebook2script()"
   ]
  },
  {
   "cell_type": "code",
   "execution_count": null,
   "id": "conditional-market",
   "metadata": {},
   "outputs": [],
   "source": [
    "paths = '../../1001G/GraphGeneration/TestingPipelines/data/cuttlefish/out/nextStageTest.gfa'\n",
    "# paths = '../../1001G/pantograph/data/AT_Chr1_OGOnly_new.gfa'"
   ]
  },
  {
   "cell_type": "code",
   "execution_count": null,
   "id": "third-institute",
   "metadata": {},
   "outputs": [],
   "source": [
    "dirpath = '../../1001G/GraphGeneration/TestingPipelines/data/cuttlefish/out'\n",
    "# paths = '../../1001G/pantograph/data/AT_Chr1_OGOnly_new.gfa'"
   ]
  },
  {
   "cell_type": "code",
   "execution_count": null,
   "id": "impaired-taste",
   "metadata": {},
   "outputs": [
    {
     "name": "stdout",
     "output_type": "stream",
     "text": [
      "Loading graph from ../../1001G/GraphGeneration/TestingPipelines/data/cuttlefish/out/partial_transpose_common_mid.gfa\n",
      "Loading segment 7/7\n",
      "Loading segments finished.\n",
      "Loading link 8/8\n",
      "Loading links finished\n",
      "Loading path 2/2\n",
      "Loading paths finished. 2 paths added, 0 paths ignored.\n",
      "Calculating nodes length...\n",
      "Processing node 7/7\n",
      "Finished calculating nodes lengths\n",
      "Preprocessing paths...\n",
      "Processing path 2/2\n",
      "Finished preprocessing paths\n",
      "Node 1 inverted\n",
      "Node 2 inverted\n",
      "Node 3 inverted\n",
      "Node 4 inverted\n",
      "Node 7 inverted\n",
      "Constructing Tremaux tree\n",
      "Node: 1\n",
      "Graph edges: [(7, 1)]\n",
      "Tree edges: []\n",
      "Edge to keep: (7, 1)\n",
      "Cycle found!\n",
      "Path to break: [1, 2, 3, 7]\n",
      "Unbreakable path!\n",
      "Node: 1\n",
      "Graph edges: [(7, 1)]\n",
      "Tree edges: []\n",
      "Edge to keep: (7, 1)\n",
      "Cycle found!\n",
      "Path to break: [1, 2, 3, 7]\n",
      "Unbreakable path!\n",
      "Done!\n",
      "Getting root nodes\n",
      "Start Loop...\n",
      "0 - 0 - 1 - 1 - 2\n",
      "0 - 1 - 2 - 2 - 3\n",
      "1 - 2 - 3 - 3 - 7\n",
      "0 - 3 - 4 - 3 - 5\n",
      "0 - 4 - 5 - 5 - 6\n",
      "0 - 5 - 6 - 6 - 4\n",
      "Calculating nodes length...\n",
      "Processing node 7/7\n",
      "Finished calculating nodes lengths\n",
      "Calculating nodes length...\n",
      "Processing node 7/7\n",
      "Finished calculating nodes lengths\n",
      "Preprocessing paths...\n",
      "Processing path 2/2\n",
      "Finished preprocessing paths\n",
      "Loading graph from ../../1001G/GraphGeneration/TestingPipelines/data/cuttlefish/out/fully_inverted.gfa\n",
      "Loading segment 1/1\n",
      "Loading segments finished.\n",
      "\n",
      "Loading links finished\n",
      "Loading path 2/2\n",
      "Loading paths finished. 2 paths added, 0 paths ignored.\n",
      "Calculating nodes length...\n",
      "Processing node 1/1\n",
      "Finished calculating nodes lengths\n",
      "Preprocessing paths...\n",
      "Processing path 2/2\n",
      "Finished preprocessing paths\n",
      "Loading graph from ../../1001G/GraphGeneration/TestingPipelines/data/cuttlefish/out/mid_block_inverted.gfa\n",
      "Loading segment 7/7\n",
      "Loading segments finished.\n",
      "Loading link 8/8\n",
      "Loading links finished\n",
      "Loading path 2/2\n",
      "Loading paths finished. 2 paths added, 0 paths ignored.\n",
      "Calculating nodes length...\n",
      "Processing node 7/7\n",
      "Finished calculating nodes lengths\n",
      "Preprocessing paths...\n",
      "Processing path 2/2\n",
      "Finished preprocessing paths\n",
      "Node 1 inverted\n",
      "Node 2 inverted\n",
      "Constructing Tremaux tree\n",
      "Done!\n",
      "Getting root nodes\n",
      "Start Loop...\n",
      "1 - 0 - 1 - 1 - 4\n",
      "0 - 1 - 2 - 1 - 2\n",
      "0 - 2 - 3 - 2 - 3\n",
      "1 - 3 - 4 - 3 - 7\n",
      "0 - 4 - 5 - 3 - 5\n",
      "0 - 5 - 6 - 5 - 6\n",
      "Calculating nodes length...\n",
      "Processing node 7/7\n",
      "Finished calculating nodes lengths\n",
      "Calculating nodes length...\n",
      "Processing node 7/7\n",
      "Finished calculating nodes lengths\n",
      "Preprocessing paths...\n",
      "Processing path 2/2\n",
      "Finished preprocessing paths\n",
      "Loading graph from ../../1001G/GraphGeneration/TestingPipelines/data/cuttlefish/out/end_block_inverted.gfa\n",
      "Loading segment 4/4\n",
      "Loading segments finished.\n",
      "Loading link 4/4\n",
      "Loading links finished\n",
      "Loading path 2/2\n",
      "Loading paths finished. 2 paths added, 0 paths ignored.\n",
      "Calculating nodes length...\n",
      "Processing node 4/4\n",
      "Finished calculating nodes lengths\n",
      "Preprocessing paths...\n",
      "Processing path 2/2\n",
      "Finished preprocessing paths\n",
      "Node 1 inverted\n",
      "Node 2 inverted\n",
      "Constructing Tremaux tree\n",
      "Done!\n",
      "Getting root nodes\n",
      "Start Loop...\n",
      "1 - 0 - 1 - 1 - 4\n",
      "0 - 1 - 2 - 1 - 2\n",
      "0 - 2 - 3 - 2 - 3\n",
      "Calculating nodes length...\n",
      "Processing node 4/4\n",
      "Finished calculating nodes lengths\n",
      "Calculating nodes length...\n",
      "Processing node 4/4\n",
      "Finished calculating nodes lengths\n",
      "Preprocessing paths...\n",
      "Processing path 2/2\n",
      "Finished preprocessing paths\n",
      "Loading graph from ../../1001G/GraphGeneration/TestingPipelines/data/cuttlefish/out/substitution_mid.gfa\n",
      "Loading segment 4/4\n",
      "Loading segments finished.\n",
      "Loading link 4/4\n",
      "Loading links finished\n",
      "Loading path 2/2\n",
      "Loading paths finished. 2 paths added, 0 paths ignored.\n",
      "Calculating nodes length...\n",
      "Processing node 4/4\n",
      "Finished calculating nodes lengths\n",
      "Preprocessing paths...\n",
      "Processing path 2/2\n",
      "Finished preprocessing paths\n",
      "Node 1 inverted\n",
      "Constructing Tremaux tree\n",
      "Done!\n",
      "Getting root nodes\n",
      "Start Loop...\n",
      "1 - 0 - 1 - 1 - 3\n",
      "0 - 1 - 2 - 1 - 2\n",
      "0 - 2 - 3 - 2 - 4\n",
      "Calculating nodes length...\n",
      "Processing node 4/4\n",
      "Finished calculating nodes lengths\n",
      "Loading graph from ../../1001G/GraphGeneration/TestingPipelines/data/cuttlefish/out/end_block_indel.gfa\n",
      "Loading segment 2/2\n",
      "Loading segments finished.\n",
      "Loading link 1/1\n",
      "Loading links finished\n",
      "Loading path 2/2\n",
      "Loading paths finished. 2 paths added, 0 paths ignored.\n",
      "Calculating nodes length...\n",
      "Processing node 2/2\n",
      "Finished calculating nodes lengths\n",
      "Preprocessing paths...\n",
      "Processing path 2/2\n",
      "Finished preprocessing paths\n",
      "Node 1 inverted\n",
      "Node 2 inverted\n",
      "Constructing Tremaux tree\n",
      "Done!\n",
      "Getting root nodes\n",
      "Start Loop...\n",
      "0 - 0 - 1 - 1 - 2\n",
      "Calculating nodes length...\n",
      "Processing node 2/2\n",
      "Finished calculating nodes lengths\n",
      "Loading graph from ../../1001G/GraphGeneration/TestingPipelines/data/cuttlefish/out/full_copy.gfa\n",
      "Loading segment 4/4\n",
      "Loading segments finished.\n",
      "Loading link 5/5\n",
      "Loading links finished\n",
      "Loading path 2/2\n",
      "Loading paths finished. 2 paths added, 0 paths ignored.\n",
      "Calculating nodes length...\n",
      "Processing node 4/4\n",
      "Finished calculating nodes lengths\n",
      "Preprocessing paths...\n",
      "Processing path 2/2\n",
      "Finished preprocessing paths\n",
      "Node 1 inverted\n",
      "Node 2 inverted\n",
      "Node 3 inverted\n",
      "Constructing Tremaux tree\n",
      "Node: 2\n",
      "Graph edges: [(1, 2), (3, 2)]\n",
      "Tree edges: [(3, 2)]\n",
      "Edge to keep: (1, 2)\n",
      "Cycle found!\n",
      "Path to break: [2, 4, 1]\n",
      "Unbreakable path!\n",
      "Node: 2\n",
      "Graph edges: [(1, 2), (3, 2)]\n",
      "Tree edges: [(3, 2)]\n",
      "Edge to keep: (1, 2)\n",
      "Cycle found!\n",
      "Path to break: [2, 4, 1]\n",
      "Unbreakable path!\n",
      "Done!\n",
      "Getting root nodes\n",
      "Start Loop...\n",
      "0 - 0 - 1 - 3 - 2\n",
      "0 - 1 - 2 - 2 - 4\n",
      "0 - 2 - 3 - 4 - 1\n",
      "Calculating nodes length...\n",
      "Processing node 4/4\n",
      "Finished calculating nodes lengths\n",
      "Calculating nodes length...\n",
      "Processing node 4/4\n",
      "Finished calculating nodes lengths\n",
      "Preprocessing paths...\n",
      "Processing path 2/2\n",
      "Finished preprocessing paths\n",
      "Loading graph from ../../1001G/GraphGeneration/TestingPipelines/data/cuttlefish/out/partial_copy_common_mid.gfa\n",
      "Loading segment 3/3\n",
      "Loading segments finished.\n",
      "Loading link 4/4\n",
      "Loading links finished\n",
      "Loading path 2/2\n",
      "Loading paths finished. 2 paths added, 0 paths ignored.\n",
      "Calculating nodes length...\n",
      "Processing node 3/3\n",
      "Finished calculating nodes lengths\n",
      "Preprocessing paths...\n",
      "Processing path 2/2\n",
      "Finished preprocessing paths\n",
      "Node 1 inverted\n",
      "Constructing Tremaux tree\n",
      "Node: 1\n",
      "Graph edges: [(3, 1)]\n",
      "Tree edges: []\n",
      "Edge to keep: (3, 1)\n",
      "Cycle found!\n",
      "Path to break: [1, 2, 3]\n",
      "Unbreakable path!\n",
      "Node: 1\n",
      "Graph edges: [(3, 1)]\n",
      "Tree edges: []\n",
      "Edge to keep: (3, 1)\n",
      "Cycle found!\n",
      "Path to break: [1, 2, 3]\n",
      "Unbreakable path!\n",
      "Done!\n",
      "Getting root nodes\n",
      "Start Loop...\n",
      "0 - 0 - 1 - 1 - 2\n",
      "0 - 1 - 2 - 2 - 3\n",
      "Calculating nodes length...\n",
      "Processing node 3/3\n",
      "Finished calculating nodes lengths\n",
      "Calculating nodes length...\n",
      "Processing node 3/3\n",
      "Finished calculating nodes lengths\n",
      "Preprocessing paths...\n",
      "Processing path 2/2\n",
      "Finished preprocessing paths\n",
      "Loading graph from ../../1001G/GraphGeneration/TestingPipelines/data/cuttlefish/out/partial_transpose_common_end.gfa\n",
      "Loading segment 7/7\n",
      "Loading segments finished.\n",
      "Loading link 8/8\n",
      "Loading links finished\n",
      "Loading path 2/2\n",
      "Loading paths finished. 2 paths added, 0 paths ignored.\n",
      "Calculating nodes length...\n",
      "Processing node 7/7\n",
      "Finished calculating nodes lengths\n",
      "Preprocessing paths...\n",
      "Processing path 2/2\n",
      "Finished preprocessing paths\n",
      "Node 1 inverted\n",
      "Node 2 inverted\n",
      "Node 3 inverted\n",
      "Node 7 inverted\n",
      "Constructing Tremaux tree\n",
      "Done!\n",
      "Getting root nodes\n",
      "Start Loop...\n",
      "1 - 0 - 1 - 1 - 4\n",
      "1 - 1 - 2 - 4 - 6\n",
      "1 - 1 - 2 - 1 - 2\n",
      "1 - 2 - 3 - 2 - 3\n",
      "1 - 3 - 4 - 3 - 5\n",
      "0 - 4 - 5 - 4 - 6\n",
      "0 - 5 - 6 - 6 - 7\n",
      "Calculating nodes length...\n",
      "Processing node 7/7\n",
      "Finished calculating nodes lengths\n",
      "Calculating nodes length...\n",
      "Processing node 7/7\n",
      "Finished calculating nodes lengths\n",
      "Preprocessing paths...\n",
      "Processing path 2/2\n",
      "Finished preprocessing paths\n",
      "Loading graph from ../../1001G/GraphGeneration/TestingPipelines/data/cuttlefish/out/partial_copy_common_end.gfa\n",
      "Loading segment 3/3\n",
      "Loading segments finished.\n",
      "Loading link 4/4\n",
      "Loading links finished\n",
      "Loading path 2/2\n",
      "Loading paths finished. 2 paths added, 0 paths ignored.\n",
      "Calculating nodes length...\n",
      "Processing node 3/3\n",
      "Finished calculating nodes lengths\n",
      "Preprocessing paths...\n",
      "Processing path 2/2\n",
      "Finished preprocessing paths\n",
      "Node 2 inverted\n",
      "Constructing Tremaux tree\n",
      "Done!\n",
      "Getting root nodes\n",
      "Start Loop...\n",
      "0 - 0 - 1 - 1 - 2\n",
      "0 - 1 - 2 - 2 - 3\n",
      "Calculating nodes length...\n",
      "Processing node 3/3\n",
      "Finished calculating nodes lengths\n",
      "Calculating nodes length...\n",
      "Processing node 3/3\n",
      "Finished calculating nodes lengths\n",
      "Preprocessing paths...\n",
      "Processing path 2/2\n",
      "Finished preprocessing paths\n",
      "Loading graph from ../../1001G/GraphGeneration/TestingPipelines/data/cuttlefish/out/partial_transpose_common_both_ends.gfa\n",
      "Loading segment 10/10\n",
      "Loading segments finished.\n",
      "Loading link 12/12\n",
      "Loading links finished\n",
      "Loading path 2/2\n",
      "Loading paths finished. 2 paths added, 0 paths ignored.\n",
      "Calculating nodes length...\n",
      "Processing node 10/10\n",
      "Finished calculating nodes lengths\n",
      "Preprocessing paths...\n",
      "Processing path 2/2\n",
      "Finished preprocessing paths\n",
      "Node 8 inverted\n",
      "Node 9 inverted\n",
      "Constructing Tremaux tree\n",
      "Done!\n",
      "Getting root nodes\n",
      "Start Loop...\n",
      "1 - 0 - 1 - 1 - 3\n",
      "1 - 1 - 2 - 3 - 7\n",
      "2 - 2 - 3 - 7 - 6\n",
      "1 - 3 - 4 - 7 - 8\n",
      "1 - 4 - 5 - 8 - 10\n",
      "1 - 4 - 5 - 1 - 2\n",
      "1 - 5 - 6 - 2 - 4\n",
      "2 - 6 - 7 - 4 - 5\n",
      "1 - 7 - 8 - 4 - 9\n",
      "0 - 8 - 9 - 8 - 10\n",
      "Calculating nodes length...\n",
      "Processing node 10/10\n",
      "Finished calculating nodes lengths\n",
      "Calculating nodes length...\n",
      "Processing node 10/10\n",
      "Finished calculating nodes lengths\n",
      "Preprocessing paths...\n",
      "Processing path 2/2\n",
      "Finished preprocessing paths\n",
      "Loading graph from ../../1001G/GraphGeneration/TestingPipelines/data/cuttlefish/out/equal.gfa\n",
      "Loading segment 1/1\n",
      "Loading segments finished.\n",
      "\n",
      "Loading links finished\n",
      "Loading path 2/2\n",
      "Loading paths finished. 2 paths added, 0 paths ignored.\n",
      "Calculating nodes length...\n",
      "Processing node 1/1\n",
      "Finished calculating nodes lengths\n",
      "Preprocessing paths...\n",
      "Processing path 2/2\n",
      "Finished preprocessing paths\n",
      "Node 1 inverted\n",
      "Loading graph from ../../1001G/GraphGeneration/TestingPipelines/data/cuttlefish/out/mid_block_indel.gfa\n",
      "Loading segment 4/4\n",
      "Loading segments finished.\n",
      "Loading link 4/4\n",
      "Loading links finished\n",
      "Loading path 2/2\n",
      "Loading paths finished. 2 paths added, 0 paths ignored.\n",
      "Calculating nodes length...\n",
      "Processing node 4/4\n",
      "Finished calculating nodes lengths\n",
      "Preprocessing paths...\n",
      "Processing path 2/2\n",
      "Finished preprocessing paths\n",
      "Node 1 inverted\n",
      "Constructing Tremaux tree\n",
      "Done!\n",
      "Getting root nodes\n",
      "Start Loop...\n",
      "1 - 0 - 1 - 1 - 3\n",
      "0 - 1 - 2 - 1 - 2\n",
      "0 - 2 - 3 - 2 - 4\n",
      "Calculating nodes length...\n",
      "Processing node 4/4\n",
      "Finished calculating nodes lengths\n",
      "Calculating nodes length...\n",
      "Processing node 4/4\n",
      "Finished calculating nodes lengths\n",
      "Preprocessing paths...\n",
      "Processing path 2/2\n",
      "Finished preprocessing paths\n",
      "Loading graph from ../../1001G/GraphGeneration/TestingPipelines/data/cuttlefish/out/full_transpose.gfa\n",
      "Loading segment 4/4\n",
      "Loading segments finished.\n",
      "Loading link 4/4\n",
      "Loading links finished\n",
      "Loading path 2/2\n",
      "Loading paths finished. 2 paths added, 0 paths ignored.\n",
      "Calculating nodes length...\n",
      "Processing node 4/4\n",
      "Finished calculating nodes lengths\n",
      "Preprocessing paths...\n",
      "Processing path 2/2\n",
      "Finished preprocessing paths\n",
      "Node 1 inverted\n",
      "Node 2 inverted\n",
      "Node 3 inverted\n",
      "Node 4 inverted\n",
      "Constructing Tremaux tree\n",
      "Node: 1\n",
      "Graph edges: [(3, 1)]\n",
      "Tree edges: []\n",
      "Edge to keep: (3, 1)\n",
      "Cycle found!\n",
      "Path to break: [1, 2, 4, 3]\n",
      "Unbreakable path!\n",
      "Node: 1\n",
      "Graph edges: [(3, 1)]\n",
      "Tree edges: []\n",
      "Edge to keep: (3, 1)\n",
      "Cycle found!\n",
      "Path to break: [1, 2, 4, 3]\n",
      "Unbreakable path!\n",
      "Done!\n",
      "Getting root nodes\n",
      "Start Loop...\n",
      "0 - 0 - 1 - 1 - 2\n",
      "0 - 1 - 2 - 2 - 4\n",
      "0 - 2 - 3 - 4 - 3\n",
      "Calculating nodes length...\n",
      "Processing node 4/4\n",
      "Finished calculating nodes lengths\n",
      "Calculating nodes length...\n",
      "Processing node 4/4\n",
      "Finished calculating nodes lengths\n",
      "Preprocessing paths...\n",
      "Processing path 2/2\n",
      "Finished preprocessing paths\n",
      "Loading graph from ../../1001G/GraphGeneration/TestingPipelines/data/cuttlefish/out/substitution_end.gfa\n",
      "Loading segment 3/3\n",
      "Loading segments finished.\n",
      "Loading link 2/2\n",
      "Loading links finished\n",
      "Loading path 2/2\n",
      "Loading paths finished. 2 paths added, 0 paths ignored.\n",
      "Calculating nodes length...\n",
      "Processing node 3/3\n",
      "Finished calculating nodes lengths\n",
      "Preprocessing paths...\n",
      "Processing path 2/2\n",
      "Finished preprocessing paths\n",
      "Node 1 inverted\n",
      "Node 2 inverted\n",
      "Node 3 inverted\n",
      "Constructing Tremaux tree\n",
      "Done!\n",
      "Getting root nodes\n",
      "Start Loop...\n",
      "1 - 0 - 1 - 1 - 3\n",
      "0 - 1 - 2 - 1 - 2\n",
      "Calculating nodes length...\n",
      "Processing node 3/3\n",
      "Finished calculating nodes lengths\n",
      "Loading graph from ../../1001G/GraphGeneration/TestingPipelines/data/cuttlefish/out/partial_copy_common_both_ends.gfa\n",
      "Loading segment 4/4\n",
      "Loading segments finished.\n",
      "Loading link 6/6\n",
      "Loading links finished\n",
      "Loading path 2/2\n",
      "Loading paths finished. 2 paths added, 0 paths ignored.\n",
      "Calculating nodes length...\n",
      "Processing node 4/4\n",
      "Finished calculating nodes lengths\n",
      "Preprocessing paths...\n",
      "Processing path 2/2\n",
      "Finished preprocessing paths\n",
      "Node 2 inverted\n",
      "Constructing Tremaux tree\n",
      "Done!\n",
      "Getting root nodes\n",
      "Start Loop...\n",
      "0 - 0 - 1 - 1 - 2\n",
      "1 - 1 - 2 - 2 - 4\n",
      "0 - 2 - 3 - 2 - 3\n",
      "Calculating nodes length...\n",
      "Processing node 4/4\n",
      "Finished calculating nodes lengths\n",
      "Calculating nodes length...\n",
      "Processing node 4/4\n",
      "Finished calculating nodes lengths\n",
      "Preprocessing paths...\n",
      "Processing path 2/2\n",
      "Finished preprocessing paths\n"
     ]
    }
   ],
   "source": [
    "for path in glob.glob(f'{dirpath}{os.path.sep}*.gfa'):\n",
    "    graph = GenomeGraph(gfaPath=path)\n",
    "#     dirpath = os.path.dirname(path)\n",
    "    fileList = os.path.splitext(os.path.basename(path))\n",
    "    suffix = 'clean'\n",
    "    graph.toGFA(f'{dirpath}{os.path.sep}{fileList[0]}_{suffix}{fileList[1]}')"
   ]
  },
  {
   "cell_type": "code",
   "execution_count": null,
   "id": "annual-hurricane",
   "metadata": {},
   "outputs": [
    {
     "name": "stdout",
     "output_type": "stream",
     "text": [
      "Loading graph from ../../1001G/GraphGeneration/TestingPipelines/data/cuttlefish/out/nextStageTest.gfa\n",
      "Loading segment 29/29\n",
      "Loading segments finished.\n",
      "Loading link 98/98\n",
      "Loading links finished\n",
      "Loading path 7/7\n",
      "Loading paths finished. 7 paths added, 0 paths ignored.\n",
      "Calculating nodes length...\n",
      "Processing node 29/29\n",
      "Finished calculating nodes lengths\n",
      "Preprocessing paths...\n",
      "Processing path 7/7\n",
      "Finished preprocessing paths\n",
      "Node 2 inverted\n",
      "Node 3 inverted\n",
      "Node 4 inverted\n",
      "Node 6 inverted\n",
      "Node 10 inverted\n",
      "Node 11 inverted\n",
      "Node 14 inverted\n",
      "Node 16 inverted\n",
      "Node 21 inverted\n",
      "Node 22 inverted\n",
      "Node 23 inverted\n",
      "Node 24 inverted\n",
      "Node 28 inverted\n",
      "Constructing Tremaux tree\n",
      "Node: 1\n",
      "Graph edges: [(3, 1), (7, 1)]\n",
      "Tree edges: []\n",
      "Edge to keep: (3, 1)\n",
      "Cycle found!\n",
      "Path to break: [1, 2, 4, 19, 20, 12, 28, 15, 17, 3]\n",
      "Unbreakable path!\n",
      "Node: 10\n",
      "Graph edges: [(9, 10), (13, 10), (14, 10), (21, 10)]\n",
      "Tree edges: [(13, 10)]\n",
      "Edge to keep: (14, 10)\n",
      "Cycle found!\n",
      "Path to break: [10, 9, 29, 25, 8, 22, 23, 14]\n",
      "Edge substituted!\n",
      "Edge (20, 22) substitute edge (8, 22)\n",
      "Node: 1\n",
      "Graph edges: [(3, 1), (7, 1)]\n",
      "Tree edges: []\n",
      "Edge to keep: (3, 1)\n",
      "Cycle found!\n",
      "Path to break: [1, 3]\n",
      "Unbreakable path!\n",
      "Node: 22\n",
      "Graph edges: [(8, 22), (11, 22), (18, 22), (20, 22)]\n",
      "Tree edges: [(20, 22)]\n",
      "Edge to keep: (8, 22)\n",
      "Cycle found!\n",
      "Path to break: [22, 23, 14, 10, 9, 29, 25, 8]\n",
      "Edge substituted!\n",
      "Edge (21, 10) substitute edge (14, 10)\n",
      "Node: 10\n",
      "Graph edges: [(9, 10), (13, 10), (14, 10), (21, 10)]\n",
      "Tree edges: [(21, 10)]\n",
      "Edge to keep: (14, 10)\n",
      "Cycle found!\n",
      "Path to break: [10, 9, 29, 25, 8, 22, 23, 14]\n",
      "Edge substituted!\n",
      "Edge (20, 22) substitute edge (8, 22)\n",
      "Done!\n",
      "Getting root nodes\n",
      "Start Loop...\n",
      "2 - 0 - 1 - 1 - 3\n",
      "2 - 1 - 2 - 3 - 17\n",
      "2 - 1 - 2 - 1 - 2\n",
      "2 - 2 - 3 - 2 - 4\n",
      "3 - 3 - 4 - 4 - 19\n",
      "3 - 4 - 5 - 19 - 20\n",
      "4 - 5 - 6 - 20 - 22\n",
      "4 - 6 - 7 - 22 - 23\n",
      "5 - 7 - 8 - 23 - 14\n",
      "5 - 8 - 9 - 14 - 10\n",
      "5 - 8 - 9 - 1 - 21\n",
      "4 - 9 - 10 - 14 - 10\n",
      "5 - 10 - 11 - 10 - 9\n",
      "5 - 11 - 12 - 9 - 29\n",
      "5 - 12 - 13 - 29 - 25\n",
      "5 - 12 - 13 - 23 - 24\n",
      "4 - 13 - 14 - 29 - 25\n",
      "5 - 14 - 15 - 25 - 26\n",
      "6 - 15 - 16 - 26 - 7\n",
      "5 - 16 - 17 - 26 - 27\n",
      "4 - 17 - 18 - 25 - 8\n",
      "3 - 18 - 19 - 10 - 13\n",
      "2 - 19 - 20 - 20 - 12\n",
      "2 - 20 - 21 - 12 - 28\n",
      "2 - 21 - 22 - 28 - 15\n",
      "1 - 22 - 23 - 4 - 5\n",
      "0 - 23 - 24 - 3 - 17\n",
      "2 - 24 - 25 - 17 - 11\n",
      "1 - 25 - 26 - 17 - 16\n",
      "1 - 26 - 27 - 16 - 6\n",
      "0 - 27 - 28 - 17 - 18\n",
      "> \u001b[0;32m/data/YandexDisk/Kew/src/graphConstruction/pangraph_constructor/graph.py\u001b[0m(159)\u001b[0;36m__init__\u001b[0;34m()\u001b[0m\n",
      "\u001b[0;32m    157 \u001b[0;31m            \u001b[0mself\u001b[0m\u001b[0;34m.\u001b[0m\u001b[0mtreeSort\u001b[0m\u001b[0;34m(\u001b[0m\u001b[0;34m)\u001b[0m\u001b[0;34m\u001b[0m\u001b[0;34m\u001b[0m\u001b[0m\n",
      "\u001b[0m\u001b[0;32m    158 \u001b[0;31m            \u001b[0mpdb\u001b[0m\u001b[0;34m.\u001b[0m\u001b[0mset_trace\u001b[0m\u001b[0;34m(\u001b[0m\u001b[0;34m)\u001b[0m\u001b[0;34m\u001b[0m\u001b[0;34m\u001b[0m\u001b[0m\n",
      "\u001b[0m\u001b[0;32m--> 159 \u001b[0;31m            \u001b[0mself\u001b[0m\u001b[0;34m.\u001b[0m\u001b[0mremoveOverlaps\u001b[0m\u001b[0;34m(\u001b[0m\u001b[0;34m)\u001b[0m\u001b[0;34m\u001b[0m\u001b[0;34m\u001b[0m\u001b[0m\n",
      "\u001b[0m\u001b[0;32m    160 \u001b[0;31m\u001b[0;34m\u001b[0m\u001b[0m\n",
      "\u001b[0m\u001b[0;32m    161 \u001b[0;31m    \u001b[0;31m# check edgePaths calculation. Incorrectly calculates the numbers\u001b[0m\u001b[0;34m\u001b[0m\u001b[0;34m\u001b[0m\u001b[0;34m\u001b[0m\u001b[0m\n",
      "\u001b[0m\n"
     ]
    },
    {
     "name": "stdin",
     "output_type": "stream",
     "text": [
      "ipdb>  self.nodes\n"
     ]
    },
    {
     "name": "stdout",
     "output_type": "stream",
     "text": [
      "['24290', '8931', '1137', '14693', '1099', '20952', '13261', '10453', '1614', '9478', '22619', '16558', '19628', '22113', '10684', '20353', '21183', '24207', '4434', '9923', '1416', '16345', '10152', '5985', '2318', '11400', '3056', '20959', '1015']\n"
     ]
    },
    {
     "name": "stdin",
     "output_type": "stream",
     "text": [
      "ipdb>  [f'i:{self.nodes[el]}' for i,el in self.order]\n"
     ]
    },
    {
     "name": "stdout",
     "output_type": "stream",
     "text": [
      "*** TypeError: cannot unpack non-iterable int object\n"
     ]
    },
    {
     "name": "stdin",
     "output_type": "stream",
     "text": [
      "ipdb>  [f'i:{self.nodes[el]}' for i,el in enumerate(self.order)]\n"
     ]
    },
    {
     "name": "stdout",
     "output_type": "stream",
     "text": [
      "*** NameError: name 'self' is not defined\n"
     ]
    },
    {
     "name": "stdin",
     "output_type": "stream",
     "text": [
      "ipdb>  self.order\n"
     ]
    },
    {
     "name": "stdout",
     "output_type": "stream",
     "text": [
      "[1, 3, 2, 4, 19, 20, 22, 23, 14, 21, 10, 9, 29, 24, 25, 26, 7, 27, 8, 13, 12, 28, 15, 5, 17, 11, 16, 6, 18]\n"
     ]
    },
    {
     "name": "stdin",
     "output_type": "stream",
     "text": [
      "ipdb>  self.forwardLinks\n"
     ]
    },
    {
     "name": "stdout",
     "output_type": "stream",
     "text": [
      "{1: {'+': [(2, '+'), (3, '+')], '-': [(21, '+')]}, 2: {'+': [(4, '-')]}, 3: {'-': [(1, '-')], '+': [(17, '+')]}, 17: {'+': [(11, '+'), (16, '+')], '-': [(18, '+'), (3, '-')]}, 9: {'+': [(29, '+'), (5, '+')], '-': [(10, '-')]}, 29: {'+': [(25, '+')]}, 25: {'+': [(26, '+'), (8, '+')]}, 4: {'+': [(19, '+')], '-': [(5, '-')]}, 5: {'-': [(9, '-')], '+': [(4, '+')]}, 16: {'-': [(17, '-')], '+': [(13, '-'), (6, '+')]}, 13: {'-': [(10, '+')], '+': [(16, '-')]}, 10: {'-': [(13, '+')], '+': [(9, '+')]}, 6: {'+': [(4, '+')]}, 26: {'+': [(7, '+'), (27, '+')]}, 7: {'+': [(1, '+')]}, 8: {'+': [(22, '-')]}, 22: {'+': [(23, '+')], '-': [(20, '-'), (11, '-')]}, 19: {'+': [(20, '+')]}, 11: {'-': [(17, '-')], '+': [(22, '+')]}, 20: {'-': [(12, '+')], '+': [(22, '+')]}, 12: {'+': [(28, '+')]}, 28: {'+': [(15, '+')]}, 23: {'+': [(14, '+'), (24, '+')]}, 14: {'+': [(10, '+')]}, 15: {'+': [(17, '-')]}, 18: {'+': [(22, '+')]}, 21: {'+': [(10, '+')]}, 24: {'+': [(25, '+')]}, 27: {'+': [(28, '+')]}}\n"
     ]
    },
    {
     "name": "stdin",
     "output_type": "stream",
     "text": [
      "ipdb>  calcNodeLengths(self)\n"
     ]
    },
    {
     "name": "stdout",
     "output_type": "stream",
     "text": [
      "Calculating nodes length...\n",
      "Processing node 29/29\n",
      "Finished calculating nodes lengths\n",
      "[3000, 59, 59, 3001, 59, 59, 59, 60, 3001, 3030, 60, 58, 59, 58, 60, 31, 3001, 59, 57, 32, 60, 3000, 32, 58, 3000, 31, 59, 3000, 59]\n"
     ]
    },
    {
     "name": "stdin",
     "output_type": "stream",
     "text": [
      "ipdb>  q\n"
     ]
    },
    {
     "ename": "BdbQuit",
     "evalue": "",
     "output_type": "error",
     "traceback": [
      "\u001b[0;31m---------------------------------------------------------------------------\u001b[0m",
      "\u001b[0;31mBdbQuit\u001b[0m                                   Traceback (most recent call last)",
      "\u001b[0;32m/tmp/ipykernel_219/1987081537.py\u001b[0m in \u001b[0;36m<module>\u001b[0;34m\u001b[0m\n\u001b[0;32m----> 1\u001b[0;31m \u001b[0mgraph\u001b[0m \u001b[0;34m=\u001b[0m \u001b[0mGenomeGraph\u001b[0m\u001b[0;34m(\u001b[0m\u001b[0mgfaPath\u001b[0m\u001b[0;34m=\u001b[0m\u001b[0mpaths\u001b[0m\u001b[0;34m)\u001b[0m\u001b[0;34m\u001b[0m\u001b[0;34m\u001b[0m\u001b[0m\n\u001b[0m",
      "\u001b[0;32m/data/YandexDisk/Kew/src/graphConstruction/pangraph_constructor/graph.py\u001b[0m in \u001b[0;36m__init__\u001b[0;34m(self, gfaPath, doOverlapCleaning, paths, nodes, nodesData, links, pathsDict, sequenceFiles, annotationFiles, doBack, **kwargs)\u001b[0m\n\u001b[1;32m    157\u001b[0m             \u001b[0mself\u001b[0m\u001b[0;34m.\u001b[0m\u001b[0mtreeSort\u001b[0m\u001b[0;34m(\u001b[0m\u001b[0;34m)\u001b[0m\u001b[0;34m\u001b[0m\u001b[0;34m\u001b[0m\u001b[0m\n\u001b[1;32m    158\u001b[0m             \u001b[0mpdb\u001b[0m\u001b[0;34m.\u001b[0m\u001b[0mset_trace\u001b[0m\u001b[0;34m(\u001b[0m\u001b[0;34m)\u001b[0m\u001b[0;34m\u001b[0m\u001b[0;34m\u001b[0m\u001b[0m\n\u001b[0;32m--> 159\u001b[0;31m             \u001b[0mself\u001b[0m\u001b[0;34m.\u001b[0m\u001b[0mremoveOverlaps\u001b[0m\u001b[0;34m(\u001b[0m\u001b[0;34m)\u001b[0m\u001b[0;34m\u001b[0m\u001b[0;34m\u001b[0m\u001b[0m\n\u001b[0m\u001b[1;32m    160\u001b[0m \u001b[0;34m\u001b[0m\u001b[0m\n\u001b[1;32m    161\u001b[0m     \u001b[0;31m# check edgePaths calculation. Incorrectly calculates the numbers\u001b[0m\u001b[0;34m\u001b[0m\u001b[0;34m\u001b[0m\u001b[0;34m\u001b[0m\u001b[0m\n",
      "\u001b[0;32m/data/YandexDisk/Kew/src/graphConstruction/pangraph_constructor/graph.py\u001b[0m in \u001b[0;36m__init__\u001b[0;34m(self, gfaPath, doOverlapCleaning, paths, nodes, nodesData, links, pathsDict, sequenceFiles, annotationFiles, doBack, **kwargs)\u001b[0m\n\u001b[1;32m    157\u001b[0m             \u001b[0mself\u001b[0m\u001b[0;34m.\u001b[0m\u001b[0mtreeSort\u001b[0m\u001b[0;34m(\u001b[0m\u001b[0;34m)\u001b[0m\u001b[0;34m\u001b[0m\u001b[0;34m\u001b[0m\u001b[0m\n\u001b[1;32m    158\u001b[0m             \u001b[0mpdb\u001b[0m\u001b[0;34m.\u001b[0m\u001b[0mset_trace\u001b[0m\u001b[0;34m(\u001b[0m\u001b[0;34m)\u001b[0m\u001b[0;34m\u001b[0m\u001b[0;34m\u001b[0m\u001b[0m\n\u001b[0;32m--> 159\u001b[0;31m             \u001b[0mself\u001b[0m\u001b[0;34m.\u001b[0m\u001b[0mremoveOverlaps\u001b[0m\u001b[0;34m(\u001b[0m\u001b[0;34m)\u001b[0m\u001b[0;34m\u001b[0m\u001b[0;34m\u001b[0m\u001b[0m\n\u001b[0m\u001b[1;32m    160\u001b[0m \u001b[0;34m\u001b[0m\u001b[0m\n\u001b[1;32m    161\u001b[0m     \u001b[0;31m# check edgePaths calculation. Incorrectly calculates the numbers\u001b[0m\u001b[0;34m\u001b[0m\u001b[0;34m\u001b[0m\u001b[0;34m\u001b[0m\u001b[0m\n",
      "\u001b[0;32m/usr/local/lib/python3.8/bdb.py\u001b[0m in \u001b[0;36mtrace_dispatch\u001b[0;34m(self, frame, event, arg)\u001b[0m\n\u001b[1;32m     86\u001b[0m             \u001b[0;32mreturn\u001b[0m \u001b[0;31m# None\u001b[0m\u001b[0;34m\u001b[0m\u001b[0;34m\u001b[0m\u001b[0m\n\u001b[1;32m     87\u001b[0m         \u001b[0;32mif\u001b[0m \u001b[0mevent\u001b[0m \u001b[0;34m==\u001b[0m \u001b[0;34m'line'\u001b[0m\u001b[0;34m:\u001b[0m\u001b[0;34m\u001b[0m\u001b[0;34m\u001b[0m\u001b[0m\n\u001b[0;32m---> 88\u001b[0;31m             \u001b[0;32mreturn\u001b[0m \u001b[0mself\u001b[0m\u001b[0;34m.\u001b[0m\u001b[0mdispatch_line\u001b[0m\u001b[0;34m(\u001b[0m\u001b[0mframe\u001b[0m\u001b[0;34m)\u001b[0m\u001b[0;34m\u001b[0m\u001b[0;34m\u001b[0m\u001b[0m\n\u001b[0m\u001b[1;32m     89\u001b[0m         \u001b[0;32mif\u001b[0m \u001b[0mevent\u001b[0m \u001b[0;34m==\u001b[0m \u001b[0;34m'call'\u001b[0m\u001b[0;34m:\u001b[0m\u001b[0;34m\u001b[0m\u001b[0;34m\u001b[0m\u001b[0m\n\u001b[1;32m     90\u001b[0m             \u001b[0;32mreturn\u001b[0m \u001b[0mself\u001b[0m\u001b[0;34m.\u001b[0m\u001b[0mdispatch_call\u001b[0m\u001b[0;34m(\u001b[0m\u001b[0mframe\u001b[0m\u001b[0;34m,\u001b[0m \u001b[0marg\u001b[0m\u001b[0;34m)\u001b[0m\u001b[0;34m\u001b[0m\u001b[0;34m\u001b[0m\u001b[0m\n",
      "\u001b[0;32m/usr/local/lib/python3.8/bdb.py\u001b[0m in \u001b[0;36mdispatch_line\u001b[0;34m(self, frame)\u001b[0m\n\u001b[1;32m    111\u001b[0m         \u001b[0;32mif\u001b[0m \u001b[0mself\u001b[0m\u001b[0;34m.\u001b[0m\u001b[0mstop_here\u001b[0m\u001b[0;34m(\u001b[0m\u001b[0mframe\u001b[0m\u001b[0;34m)\u001b[0m \u001b[0;32mor\u001b[0m \u001b[0mself\u001b[0m\u001b[0;34m.\u001b[0m\u001b[0mbreak_here\u001b[0m\u001b[0;34m(\u001b[0m\u001b[0mframe\u001b[0m\u001b[0;34m)\u001b[0m\u001b[0;34m:\u001b[0m\u001b[0;34m\u001b[0m\u001b[0;34m\u001b[0m\u001b[0m\n\u001b[1;32m    112\u001b[0m             \u001b[0mself\u001b[0m\u001b[0;34m.\u001b[0m\u001b[0muser_line\u001b[0m\u001b[0;34m(\u001b[0m\u001b[0mframe\u001b[0m\u001b[0;34m)\u001b[0m\u001b[0;34m\u001b[0m\u001b[0;34m\u001b[0m\u001b[0m\n\u001b[0;32m--> 113\u001b[0;31m             \u001b[0;32mif\u001b[0m \u001b[0mself\u001b[0m\u001b[0;34m.\u001b[0m\u001b[0mquitting\u001b[0m\u001b[0;34m:\u001b[0m \u001b[0;32mraise\u001b[0m \u001b[0mBdbQuit\u001b[0m\u001b[0;34m\u001b[0m\u001b[0;34m\u001b[0m\u001b[0m\n\u001b[0m\u001b[1;32m    114\u001b[0m         \u001b[0;32mreturn\u001b[0m \u001b[0mself\u001b[0m\u001b[0;34m.\u001b[0m\u001b[0mtrace_dispatch\u001b[0m\u001b[0;34m\u001b[0m\u001b[0;34m\u001b[0m\u001b[0m\n\u001b[1;32m    115\u001b[0m \u001b[0;34m\u001b[0m\u001b[0m\n",
      "\u001b[0;31mBdbQuit\u001b[0m: "
     ]
    }
   ],
   "source": [
    "graph = GenomeGraph(gfaPath=paths)"
   ]
  },
  {
   "cell_type": "code",
   "execution_count": null,
   "id": "peripheral-exchange",
   "metadata": {},
   "outputs": [
    {
     "name": "stdout",
     "output_type": "stream",
     "text": [
      "> \u001b[0;32m/data/YandexDisk/Kew/src/graphConstruction/pangraph_constructor/graph.py\u001b[0m(813)\u001b[0;36m<listcomp>\u001b[0;34m()\u001b[0m\n",
      "\u001b[0;32m    811 \u001b[0;31m\u001b[0;34m\u001b[0m\u001b[0m\n",
      "\u001b[0m\u001b[0;32m    812 \u001b[0;31m        \u001b[0;32mfor\u001b[0m \u001b[0mpathID\u001b[0m \u001b[0;32min\u001b[0m \u001b[0mrange\u001b[0m\u001b[0;34m(\u001b[0m\u001b[0mlen\u001b[0m\u001b[0;34m(\u001b[0m\u001b[0mself\u001b[0m\u001b[0;34m.\u001b[0m\u001b[0mpaths\u001b[0m\u001b[0;34m)\u001b[0m\u001b[0;34m)\u001b[0m\u001b[0;34m:\u001b[0m\u001b[0;34m\u001b[0m\u001b[0;34m\u001b[0m\u001b[0m\n",
      "\u001b[0m\u001b[0;32m--> 813 \u001b[0;31m            \u001b[0mself\u001b[0m\u001b[0;34m.\u001b[0m\u001b[0mpaths\u001b[0m\u001b[0;34m[\u001b[0m\u001b[0mpathID\u001b[0m\u001b[0;34m]\u001b[0m \u001b[0;34m=\u001b[0m \u001b[0;34m[\u001b[0m\u001b[0;34mf'{offsetDict[int(el[:-1])-1]+1}{el[-1]}'\u001b[0m \u001b[0;32mfor\u001b[0m \u001b[0mel\u001b[0m \u001b[0;32min\u001b[0m \u001b[0mself\u001b[0m\u001b[0;34m.\u001b[0m\u001b[0mpaths\u001b[0m\u001b[0;34m[\u001b[0m\u001b[0mpathID\u001b[0m\u001b[0;34m]\u001b[0m\u001b[0;34m]\u001b[0m\u001b[0;34m\u001b[0m\u001b[0;34m\u001b[0m\u001b[0m\n",
      "\u001b[0m\u001b[0;32m    814 \u001b[0;31m\u001b[0;34m\u001b[0m\u001b[0m\n",
      "\u001b[0m\u001b[0;32m    815 \u001b[0;31m        \u001b[0mprint\u001b[0m\u001b[0;34m(\u001b[0m\u001b[0;34m'paths'\u001b[0m\u001b[0;34m)\u001b[0m\u001b[0;34m\u001b[0m\u001b[0;34m\u001b[0m\u001b[0m\n",
      "\u001b[0m\n"
     ]
    },
    {
     "name": "stdin",
     "output_type": "stream",
     "text": [
      "ipdb>  pathID\n"
     ]
    },
    {
     "name": "stdout",
     "output_type": "stream",
     "text": [
      "*** NameError: name 'pathID' is not defined\n"
     ]
    },
    {
     "name": "stdin",
     "output_type": "stream",
     "text": [
      "ipdb>  u\n"
     ]
    },
    {
     "name": "stdout",
     "output_type": "stream",
     "text": [
      "> \u001b[0;32m/data/YandexDisk/Kew/src/graphConstruction/pangraph_constructor/graph.py\u001b[0m(813)\u001b[0;36m_clearNodes\u001b[0;34m()\u001b[0m\n",
      "\u001b[0;32m    811 \u001b[0;31m\u001b[0;34m\u001b[0m\u001b[0m\n",
      "\u001b[0m\u001b[0;32m    812 \u001b[0;31m        \u001b[0;32mfor\u001b[0m \u001b[0mpathID\u001b[0m \u001b[0;32min\u001b[0m \u001b[0mrange\u001b[0m\u001b[0;34m(\u001b[0m\u001b[0mlen\u001b[0m\u001b[0;34m(\u001b[0m\u001b[0mself\u001b[0m\u001b[0;34m.\u001b[0m\u001b[0mpaths\u001b[0m\u001b[0;34m)\u001b[0m\u001b[0;34m)\u001b[0m\u001b[0;34m:\u001b[0m\u001b[0;34m\u001b[0m\u001b[0;34m\u001b[0m\u001b[0m\n",
      "\u001b[0m\u001b[0;32m--> 813 \u001b[0;31m            \u001b[0mself\u001b[0m\u001b[0;34m.\u001b[0m\u001b[0mpaths\u001b[0m\u001b[0;34m[\u001b[0m\u001b[0mpathID\u001b[0m\u001b[0;34m]\u001b[0m \u001b[0;34m=\u001b[0m \u001b[0;34m[\u001b[0m\u001b[0;34mf'{offsetDict[int(el[:-1])-1]+1}{el[-1]}'\u001b[0m \u001b[0;32mfor\u001b[0m \u001b[0mel\u001b[0m \u001b[0;32min\u001b[0m \u001b[0mself\u001b[0m\u001b[0;34m.\u001b[0m\u001b[0mpaths\u001b[0m\u001b[0;34m[\u001b[0m\u001b[0mpathID\u001b[0m\u001b[0;34m]\u001b[0m\u001b[0;34m]\u001b[0m\u001b[0;34m\u001b[0m\u001b[0;34m\u001b[0m\u001b[0m\n",
      "\u001b[0m\u001b[0;32m    814 \u001b[0;31m\u001b[0;34m\u001b[0m\u001b[0m\n",
      "\u001b[0m\u001b[0;32m    815 \u001b[0;31m        \u001b[0mprint\u001b[0m\u001b[0;34m(\u001b[0m\u001b[0;34m'paths'\u001b[0m\u001b[0;34m)\u001b[0m\u001b[0;34m\u001b[0m\u001b[0;34m\u001b[0m\u001b[0m\n",
      "\u001b[0m\n"
     ]
    },
    {
     "name": "stdin",
     "output_type": "stream",
     "text": [
      "ipdb>  pathID\n"
     ]
    },
    {
     "name": "stdout",
     "output_type": "stream",
     "text": [
      "1\n"
     ]
    },
    {
     "name": "stdin",
     "output_type": "stream",
     "text": [
      "ipdb>  q\n"
     ]
    }
   ],
   "source": [
    "import pdb\n",
    "pdb.pm()"
   ]
  },
  {
   "cell_type": "code",
   "execution_count": null,
   "id": "differential-subcommittee",
   "metadata": {},
   "outputs": [],
   "source": []
  },
  {
   "cell_type": "code",
   "execution_count": null,
   "id": "upset-acceptance",
   "metadata": {},
   "outputs": [
    {
     "name": "stdout",
     "output_type": "stream",
     "text": [
      "Calculating nodes length...\n",
      "Processing node 3/3\n",
      "Finished calculating nodes lengths\n"
     ]
    }
   ],
   "source": [
    "nodeLengths = calcNodeLengths(graph)"
   ]
  },
  {
   "cell_type": "code",
   "execution_count": null,
   "id": "anticipated-communication",
   "metadata": {},
   "outputs": [
    {
     "data": {
      "text/plain": [
       "(['2887', '4954', '3502'],\n",
       " {'2887': 1, '4954': 2, '3502': 3},\n",
       " {1: {'+': [(2, '+')]}, 2: {'+': [(3, '+'), (2, '+')]}},\n",
       " [3000, 3000, 3000],\n",
       " [1, 2, 3],\n",
       " [['1+', '2+', '3+'], ['1+', '2+', '2+', '3+']])"
      ]
     },
     "execution_count": null,
     "metadata": {},
     "output_type": "execute_result"
    }
   ],
   "source": [
    "graph.nodes,graph.nodeNameToID,graph.forwardLinks,nodeLengths,graph.order,graph.paths"
   ]
  },
  {
   "cell_type": "code",
   "execution_count": null,
   "id": "diverse-carroll",
   "metadata": {},
   "outputs": [],
   "source": [
    "dirpath = os.path.dirname(paths)\n",
    "fileList = os.path.splitext(os.path.basename(paths))\n",
    "suffix = 'clean'\n",
    "graph.toGFA(f'{dirpath}{os.path.sep}{fileList[0]}_{suffix}{fileList[1]}')"
   ]
  },
  {
   "cell_type": "markdown",
   "id": "digital-director",
   "metadata": {},
   "source": [
    "## Inverting necessary nodes"
   ]
  },
  {
   "cell_type": "code",
   "execution_count": null,
   "id": "serial-theme",
   "metadata": {},
   "outputs": [],
   "source": [
    "def invertNode(nodeID,graph,pathNodeArray):\n",
    "    \n",
    "    pathIDs,positions = np.where(pathNodeArray==nodeID+1)\n",
    "    strandreversal = {'+':'-','-':'+'}\n",
    "    for pathID,pos in zip(pathIDs,positions):\n",
    "        nodeStrand = graph.paths[pathID][pos]\n",
    "        graph.paths[pathID][pos] = nodeStrand[:-1]+strandreversal[nodeStrand[-1]]\n",
    "\n",
    "    nodeFromLink = graph.forwardLinks.get(nodeID+1,{})\n",
    "    positiveStrand = nodeFromLink.get('+',[])\n",
    "    negativeStrand = nodeFromLink.get('-',[])\n",
    "\n",
    "    if len(positiveStrand)>0:\n",
    "        graph.forwardLinks[nodeID+1]['-'] = positiveStrand\n",
    "    else:\n",
    "        if len(negativeStrand)>0:\n",
    "            del graph.forwardLinks[nodeID+1]['-']\n",
    "\n",
    "    if len(negativeStrand)>0:\n",
    "        graph.forwardLinks[nodeID+1]['+'] = negativeStrand\n",
    "    else:\n",
    "        if len(positiveStrand)>0:\n",
    "            del graph.forwardLinks[nodeID+1]['+']\n",
    "\n",
    "    revertLinks = graph._revertLinks(graph.forwardLinks)        \n",
    "    nodeToLink = revertLinks.get(nodeID+1,{})\n",
    "    positiveStrand = nodeToLink.get('+',[])\n",
    "    negativeStrand = nodeToLink.get('-',[])\n",
    "\n",
    "    for fromNode,fromStrand in positiveStrand:\n",
    "        graph.forwardLinks[fromNode][fromStrand].remove((nodeID+1,'+'))\n",
    "        graph.forwardLinks[fromNode][fromStrand].append((nodeID+1,'-'))\n",
    "\n",
    "    for fromNode,fromStrand in negativeStrand:\n",
    "        graph.forwardLinks[fromNode][fromStrand].remove((nodeID+1,'-'))\n",
    "        graph.forwardLinks[fromNode][fromStrand].append((nodeID+1,'+'))"
   ]
  },
  {
   "cell_type": "code",
   "execution_count": null,
   "id": "popular-financing",
   "metadata": {},
   "outputs": [
    {
     "name": "stdout",
     "output_type": "stream",
     "text": [
      "Calculating nodes length...\n",
      "Processing node 3/3\n",
      "Finished calculating nodes lengths\n",
      "Preprocessing paths...\n",
      "Processing path 2/2\n",
      "Finished preprocessing paths\n"
     ]
    }
   ],
   "source": [
    "nodeLengths = calcNodeLengths(graph)\n",
    "pathLengths,pathNodeArray,pathNodeLengths,pathDirArray,pathNodeLengthsCum = initialPathAnalysis(graph,nodeLengths)\n",
    "\n",
    "for nodeID in range(len(graph.nodes)):\n",
    "    if graph.nodeStrandPaths[nodeID][1]>graph.nodeStrandPaths[nodeID][0]:\n",
    "        print(f'Node {nodeID+1} inverted')\n",
    "        invertNode(nodeID,graph,pathNodeArray)\n",
    "\n",
    "graph._pathCount()"
   ]
  },
  {
   "cell_type": "markdown",
   "id": "humanitarian-suspension",
   "metadata": {},
   "source": [
    "## Removing overlaps"
   ]
  },
  {
   "cell_type": "markdown",
   "id": "fiscal-aberdeen",
   "metadata": {},
   "source": [
    "### Removing nodes functionality"
   ]
  },
  {
   "cell_type": "markdown",
   "id": "diagnostic-progress",
   "metadata": {},
   "source": [
    "### Finding and clearing overlaps"
   ]
  },
  {
   "cell_type": "code",
   "execution_count": null,
   "id": "experimental-prevention",
   "metadata": {},
   "outputs": [
    {
     "name": "stdout",
     "output_type": "stream",
     "text": [
      "Constructing Tremaux tree\n",
      "Done!\n",
      "Getting root nodes\n",
      "Start Loop...\n",
      "0 - 0 - 1 - 1 - 2\n",
      "0 - 1 - 2 - 2 - 3\n"
     ]
    }
   ],
   "source": [
    "graph.treeSort()"
   ]
  },
  {
   "cell_type": "code",
   "execution_count": null,
   "id": "cosmetic-greenhouse",
   "metadata": {},
   "outputs": [],
   "source": [
    "revertLinks = graph._revertLinks(graph.forwardLinks)"
   ]
  },
  {
   "cell_type": "code",
   "execution_count": null,
   "id": "specified-contrast",
   "metadata": {},
   "outputs": [
    {
     "name": "stdout",
     "output_type": "stream",
     "text": [
      "Calculating nodes length...\n",
      "Processing node 3/3\n",
      "Finished calculating nodes lengths\n",
      "Preprocessing paths...\n",
      "Processing path 2/2\n",
      "Finished preprocessing paths\n"
     ]
    }
   ],
   "source": [
    "# Do we need it here or when we are going to remove nodes?\n",
    "nodeLengths = calcNodeLengths(graph)\n",
    "pathLengths,pathNodeArray,pathNodeLengths,pathDirArray,pathNodeLengthsCum = initialPathAnalysis(graph,nodeLengths)"
   ]
  },
  {
   "cell_type": "code",
   "execution_count": null,
   "id": "reported-inspection",
   "metadata": {},
   "outputs": [],
   "source": [
    "kmerOverlap = 30"
   ]
  },
  {
   "cell_type": "code",
   "execution_count": null,
   "id": "sophisticated-functionality",
   "metadata": {},
   "outputs": [],
   "source": [
    "nodeIDsToRemove = []\n",
    "leftCut = {}\n",
    "rightCut = {}"
   ]
  },
  {
   "cell_type": "code",
   "execution_count": null,
   "id": "sorted-workshop",
   "metadata": {},
   "outputs": [
    {
     "data": {
      "text/plain": [
       "(['2887', '4954', '3502'],\n",
       " {'2887': 1, '4954': 2, '3502': 3},\n",
       " {1: {'+': [(2, '+')]}, 2: {'+': [(2, '+'), (3, '+')]}},\n",
       " {2: {'+': [(1, '+'), (2, '+')]}, 3: {'+': [(2, '+')]}},\n",
       " [3000, 3000, 3000],\n",
       " [1, 2, 3])"
      ]
     },
     "execution_count": null,
     "metadata": {},
     "output_type": "execute_result"
    }
   ],
   "source": [
    "graph.nodes,graph.nodeNameToID,graph.forwardLinks,revertLinks,nodeLengths,graph.order"
   ]
  },
  {
   "cell_type": "code",
   "execution_count": null,
   "id": "adopted-instruction",
   "metadata": {},
   "outputs": [],
   "source": [
    "def linkBounce(fromNodeStart,fromStrandStart,forwardLinks,revertLinks,nodeLengths,kmerOverlap,cutOffsetRight,leftCut,rightCut):\n",
    "    cutOffsetLeft = 0\n",
    "    leftToCut = [(fromNodeStart,fromStrandStart)]\n",
    "    rightToCut = []\n",
    "    leftToProcess = [(fromNodeStart,fromStrandStart)]\n",
    "    rightToProcess = []\n",
    "#     pdb.set_trace()\n",
    "    while (len(leftToProcess)>0 or len(rightToProcess)>0):\n",
    "        for node,strand in leftToProcess:\n",
    "            rightSide = graph.forwardLinks.get(node,{}).get(strand,[])\n",
    "            for toNode,toStrand in rightSide:\n",
    "                if toStrand=='+':\n",
    "                    cutOffsetLeft = max(leftCut.get(toNode,0),cutOffsetLeft)\n",
    "                else:\n",
    "                    cutOffsetLeft = max(rightCut.get(toNode,0),cutOffsetLeft)\n",
    "\n",
    "                if cutOffsetLeft<kmerOverlap-cutOffsetRight and (toNode,toStrand) not in rightToCut and nodeLengths[toNode-1]>0:\n",
    "                    rightToCut.append((toNode,toStrand))\n",
    "                    rightToProcess.append((toNode,toStrand))\n",
    "        leftToProcess = []\n",
    "\n",
    "        for node,strand in rightToProcess:\n",
    "            leftSide = revertLinks.get(node,{}).get(strand,[])\n",
    "            for fromNode,fromStrand in leftSide:\n",
    "                if fromStrand=='+':\n",
    "                    cutOffsetRight = max(rightCut.get(fromNode,0),cutOffsetRight)\n",
    "                else:\n",
    "                    cutOffsetRight = max(leftCut.get(fromNode,0),cutOffsetRight)\n",
    "\n",
    "                if cutOffsetRight<kmerOverlap-cutOffsetLeft and (fromNode,fromStrand) not in leftToCut and nodeLengths[fromNode-1]>0:\n",
    "                    leftToCut.append((fromNode,fromStrand))\n",
    "                    leftToProcess.append((fromNode,fromStrand))\n",
    "        rightToProcess = []\n",
    "        \n",
    "    return leftToCut,rightToCut,cutOffsetLeft,cutOffsetRight"
   ]
  },
  {
   "cell_type": "code",
   "execution_count": null,
   "id": "returning-winter",
   "metadata": {},
   "outputs": [],
   "source": [
    "def processBouncedLink(leftToCut,rightToCut,cutOffsetLeft,cutOffsetRight,graph,nodeLengths,leftCut,rightCut,):\n",
    "    toCut = kmerOverlap - cutOffsetLeft - cutOffsetRight\n",
    "    minLengthRight = min([nodeLengths[node-1] for node,strand in rightToCut])\n",
    "    minLengthLeft = min([nodeLengths[node-1] for node,strand in leftToCut])\n",
    "    if minLengthRight<minLengthLeft:\n",
    "        sideToCut = rightToCut\n",
    "        sideToKeep = leftToCut\n",
    "        globalPositiveSide = leftCut\n",
    "        globalNegativeSide = rightCut\n",
    "        side = 'right'\n",
    "    else:\n",
    "        sideToCut = leftToCut\n",
    "        sideToKeep = rightToCut\n",
    "        globalPositiveSide = rightCut\n",
    "        globalNegativeSide = leftCut\n",
    "        side = 'left'\n",
    "\n",
    "    maxCutAdjustment = max([max(toCut - nodeLengths[node-1],0) for node,strand in sideToCut])\n",
    "    for node,strand in sideToCut:\n",
    "        if strand=='+':\n",
    "            if side =='right':\n",
    "                graph.nodesData[node-1] = graph.nodesData[node-1][toCut-maxCutAdjustment:]\n",
    "            else:\n",
    "                graph.nodesData[node-1] = graph.nodesData[node-1][:-(toCut-maxCutAdjustment)]\n",
    "            globalPositiveSide[node] = globalPositiveSide.get(node,0) + toCut - maxCutAdjustment\n",
    "        else:\n",
    "            if side =='left':\n",
    "                graph.nodesData[node-1] = graph.nodesData[node-1][toCut-maxCutAdjustment:]\n",
    "            else:\n",
    "                graph.nodesData[node-1] = graph.nodesData[node-1][:-(toCut-maxCutAdjustment)]\n",
    "            globalNegativeSide[node] = globalNegativeSide.get(node,0) + toCut - maxCutAdjustment\n",
    "        nodeLengths[node-1] -= toCut - maxCutAdjustment\n",
    "\n",
    "    if maxCutAdjustment>0:\n",
    "        # adjust the other side as well.\n",
    "        for node,strand in sideToKeep:\n",
    "            if strand=='+':\n",
    "                if side =='right':\n",
    "                    graph.nodesData[node-1] = graph.nodesData[node-1][:-(maxCutAdjustment)]\n",
    "                else:\n",
    "                    graph.nodesData[node-1] = graph.nodesData[node-1][maxCutAdjustment:]\n",
    "                globalNegativeSide[node] = globalNegativeSide.get(node,0) + maxCutAdjustment\n",
    "            else:\n",
    "                if side =='left':\n",
    "                    graph.nodesData[node-1] = graph.nodesData[node-1][:-(maxCutAdjustment)]\n",
    "                else:\n",
    "                    graph.nodesData[node-1] = graph.nodesData[node-1][maxCutAdjustment:]\n",
    "                globalPositiveSide[node] = globalPositiveSide.get(node,0) + maxCutAdjustment\n",
    "            nodeLengths[node-1] -= maxCutAdjustment"
   ]
  },
  {
   "cell_type": "code",
   "execution_count": null,
   "id": "infectious-mediterranean",
   "metadata": {},
   "outputs": [
    {
     "name": "stdout",
     "output_type": "stream",
     "text": [
      "------\n",
      "Procesing node 1\n",
      "Processing positive \"+\" strand of node 1\n",
      "leftToCut\n",
      "[(1, '+')]\n",
      "rightToCut\n",
      "[(4, '+'), (2, '+')]\n",
      "cutOffsetLeft: 0; cutOffsetRight: 0\n",
      "leftCut\n",
      "{4: 30, 2: 30}\n",
      "rightCut\n",
      "{}\n",
      "------\n",
      "Procesing node 4\n",
      "Processing positive \"+\" strand of node 4\n",
      "leftToCut\n",
      "[(4, '+')]\n",
      "rightToCut\n",
      "[(3, '+')]\n",
      "cutOffsetLeft: 0; cutOffsetRight: 0\n",
      "leftCut\n",
      "{4: 30, 2: 30, 3: 1}\n",
      "rightCut\n",
      "{4: 29}\n",
      "------\n",
      "Procesing node 2\n",
      "Processing positive \"+\" strand of node 2\n",
      "leftToCut\n",
      "[(2, '+')]\n",
      "rightToCut\n",
      "[(3, '-')]\n",
      "cutOffsetLeft: 0; cutOffsetRight: 0\n",
      "leftCut\n",
      "{4: 30, 2: 30, 3: 1}\n",
      "rightCut\n",
      "{4: 29, 2: 29, 3: 1}\n",
      "------\n",
      "Procesing node 3\n",
      "Processing positive \"+\" strand of node 3\n",
      "leftToCut\n",
      "[(3, '+')]\n",
      "rightToCut\n",
      "[(7, '+')]\n",
      "cutOffsetLeft: 0; cutOffsetRight: 1\n",
      "leftCut\n",
      "{4: 30, 2: 30, 3: 1, 7: 29}\n",
      "rightCut\n",
      "{4: 29, 2: 29, 3: 1}\n",
      "Processing positive \"-\" strand of node 3\n",
      "leftToCut\n",
      "[(3, '-')]\n",
      "rightToCut\n",
      "[(5, '+')]\n",
      "cutOffsetLeft: 0; cutOffsetRight: 1\n",
      "leftCut\n",
      "{4: 30, 2: 30, 3: 1, 7: 29, 5: 29}\n",
      "rightCut\n",
      "{4: 29, 2: 29, 3: 1}\n",
      "------\n",
      "Procesing node 7\n",
      "Processing positive \"+\" strand of node 7\n",
      "leftToCut\n",
      "[(7, '+'), (5, '+')]\n",
      "rightToCut\n",
      "[(6, '+')]\n",
      "cutOffsetLeft: 0; cutOffsetRight: 0\n",
      "leftCut\n",
      "{4: 30, 2: 30, 3: 1, 7: 29, 5: 29}\n",
      "rightCut\n",
      "{4: 29, 2: 29, 3: 1, 7: 30, 5: 30}\n",
      "------\n",
      "Procesing node 5\n",
      "------\n",
      "Procesing node 6\n",
      "No links originates from node 6\n"
     ]
    }
   ],
   "source": [
    "for fromNodeStart in graph.order:\n",
    "    print('------')\n",
    "    print(f'Procesing node {fromNodeStart}')\n",
    "    if fromNodeStart not in graph.forwardLinks:\n",
    "        print(f'No links originates from node {fromNodeStart}')\n",
    "        continue\n",
    "    cutOffsetRight = rightCut.get(fromNodeStart,0)\n",
    "    cutOffsetLeft = 0\n",
    "    if cutOffsetRight<kmerOverlap and '+' in graph.forwardLinks[fromNodeStart] and nodeLengths[fromNodeStart-1]>0:\n",
    "        leftToCut,rightToCut,cutOffsetLeft,cutOffsetRight = linkBounce(fromNodeStart,'+',graph.forwardLinks,revertLinks,nodeLengths,kmerOverlap,cutOffsetRight,leftCut,rightCut)\n",
    "        \n",
    "        print(f'Processing positive \"+\" strand of node {fromNodeStart}')\n",
    "        print('leftToCut')\n",
    "        print(leftToCut)\n",
    "        print('rightToCut')\n",
    "        print(rightToCut)\n",
    "        print(f'cutOffsetLeft: {cutOffsetLeft}; cutOffsetRight: {cutOffsetRight}')\n",
    "\n",
    "        processBouncedLink(leftToCut,rightToCut,cutOffsetLeft,cutOffsetRight,graph,nodeLengths,leftCut,rightCut,)\n",
    "        print('leftCut')\n",
    "        print(leftCut)\n",
    "        print('rightCut')\n",
    "        print(rightCut)\n",
    "        \n",
    "    cutOffsetRight = leftCut.get(fromNodeStart,0)\n",
    "    if cutOffsetRight<kmerOverlap and '-' in graph.forwardLinks[fromNodeStart] and nodeLengths[fromNodeStart-1]>0:\n",
    "        leftToCut,rightToCut,cutOffsetLeft,cutOffsetRight = linkBounce(fromNodeStart,'-',graph.forwardLinks,revertLinks,nodeLengths,kmerOverlap,cutOffsetRight,leftCut,rightCut)\n",
    "    \n",
    "        print(f'Processing positive \"-\" strand of node {fromNodeStart}')\n",
    "\n",
    "        print('leftToCut')\n",
    "        print(leftToCut)\n",
    "        print('rightToCut')\n",
    "        print(rightToCut)\n",
    "        print(f'cutOffsetLeft: {cutOffsetLeft}; cutOffsetRight: {cutOffsetRight}')\n",
    "\n",
    "        processBouncedLink(leftToCut,rightToCut,cutOffsetLeft,cutOffsetRight,graph,nodeLengths,leftCut,rightCut,)\n",
    "        print('leftCut')\n",
    "        print(leftCut)\n",
    "        print('rightCut')\n",
    "        print(rightCut)"
   ]
  },
  {
   "cell_type": "code",
   "execution_count": null,
   "id": "assigned-necessity",
   "metadata": {},
   "outputs": [],
   "source": [
    "nodeIDsToRemove = [i for i,l in enumerate(nodeLengths) if l==0]"
   ]
  },
  {
   "cell_type": "code",
   "execution_count": null,
   "id": "intense-worcester",
   "metadata": {},
   "outputs": [
    {
     "data": {
      "text/plain": [
       "({4: 30, 2: 30, 3: 1, 7: 29, 5: 29},\n",
       " {4: 29, 2: 29, 3: 1, 7: 30, 5: 30},\n",
       " {1: {'+': [(4, '+'), (2, '+')]},\n",
       "  2: {'+': [(3, '-')]},\n",
       "  3: {'-': [(5, '+')], '+': [(7, '+')]},\n",
       "  4: {'+': [(3, '+')]},\n",
       "  5: {'+': [(6, '+')]},\n",
       "  7: {'+': [(6, '+')]}},\n",
       " [3000, 0, 3000, 0, 0, 3000, 0],\n",
       " [1, 3, 4, 6])"
      ]
     },
     "execution_count": null,
     "metadata": {},
     "output_type": "execute_result"
    }
   ],
   "source": [
    "leftCut,rightCut,graph.forwardLinks,nodeLengths,nodeIDsToRemove"
   ]
  },
  {
   "cell_type": "markdown",
   "id": "special-jumping",
   "metadata": {},
   "source": [
    "### Removing empty nodes"
   ]
  },
  {
   "cell_type": "code",
   "execution_count": null,
   "id": "nasty-surprise",
   "metadata": {},
   "outputs": [],
   "source": [
    "def removePositionsFromPaths(graph,pathIDs,positions):\n",
    "    offsetList = np.zeros(len(graph.paths),dtype=int)\n",
    "    for pathID,pos in zip(pathIDs,positions):\n",
    "        del graph.paths[pathID][pos-offsetList[pathID]]\n",
    "        offsetList[pathID] += 1"
   ]
  },
  {
   "cell_type": "code",
   "execution_count": null,
   "id": "japanese-belarus",
   "metadata": {},
   "outputs": [],
   "source": [
    "def updateLinkList(strandList,offsetDict):\n",
    "    newStrand = []\n",
    "    for toNode,toStrand in strandList:\n",
    "        newStrand.append((offsetDict[toNode-1]+1,toStrand))\n",
    "    return newStrand"
   ]
  },
  {
   "cell_type": "code",
   "execution_count": null,
   "id": "upset-insertion",
   "metadata": {},
   "outputs": [],
   "source": [
    "def clearNodes(graph,nodeIDs):\n",
    "    offsetDict = {node:node for node in range(len(graph.nodes))}\n",
    "    for nodeID in nodeIDs:\n",
    "        updatedNodeID = offsetDict[nodeID]\n",
    "        nodeName = graph.nodes[updatedNodeID]\n",
    "        del graph.nodeNameToID[nodeName]\n",
    "        del graph.nodes[updatedNodeID]\n",
    "        del graph.nodesData[updatedNodeID]\n",
    "        del offsetDict[nodeID]\n",
    "        offsetDict.update({k:v-1 for k,v in offsetDict.items() if k>nodeID})\n",
    "    \n",
    "    graph.nodeNameToID.update({k:offsetDict[v-1]+1 for k,v in graph.nodeNameToID.items()})\n",
    "    \n",
    "    for pathID in range(len(graph.paths)):\n",
    "        graph.paths[pathID] = [f'{offsetDict[int(el[:-1])-1]+1}{el[-1]}' for el in graph.paths[pathID]]\n",
    "    \n",
    "    nodesInForwardLinks = list(graph.forwardLinks.keys())\n",
    "    for node in nodesInForwardLinks:\n",
    "        nodeDict = graph.forwardLinks[node]\n",
    "        newNode = offsetDict[node-1]+1\n",
    "        if node!=newNode:\n",
    "            del graph.forwardLinks[node]\n",
    "        forwardStrand = updateLinkList(nodeDict.get('+',[]),offsetDict)\n",
    "        inverseStrand = updateLinkList(nodeDict.get('-',[]),offsetDict)\n",
    "\n",
    "        if len(forwardStrand)>0:\n",
    "            graph.forwardLinks.setdefault(newNode,{})['+'] = forwardStrand\n",
    "        if len(inverseStrand)>0:\n",
    "            graph.forwardLinks.setdefault(newNode,{})['-'] = inverseStrand"
   ]
  },
  {
   "cell_type": "code",
   "execution_count": null,
   "id": "serial-indiana",
   "metadata": {},
   "outputs": [],
   "source": [
    "def removeNode(nodeID,graph,revertLinks,pathNodeArray):\n",
    "    pathIDs,positions = np.where(pathNodeArray==nodeID+1)\n",
    "    \n",
    "#     pdb.set_trace()\n",
    "    \n",
    "    excludeTuples = [(nodeID+1,'+'),(nodeID+1,'-')]\n",
    "    \n",
    "    nodeToLink = revertLinks.get(nodeID+1,{})\n",
    "    toPositiveStrand = nodeToLink.get('+',[])\n",
    "    toNegativeStrand = nodeToLink.get('-',[])\n",
    "    \n",
    "    nodeFromLink = graph.forwardLinks.get(nodeID+1,{})\n",
    "    fromPositiveStrand = nodeFromLink.get('+',[])\n",
    "    fromNegativeStrand = nodeFromLink.get('-',[])\n",
    "\n",
    "    for fromNode,fromStrand in toPositiveStrand:\n",
    "        # Amending forwardLinks for positive strand of current node\n",
    "        forwardNodeStrand = graph.forwardLinks.get(fromNode,{}).get(fromStrand,[])\n",
    "        forwardNodeStrand = list(set(forwardNodeStrand).union(fromPositiveStrand).difference(excludeTuples))\n",
    "        graph.forwardLinks[fromNode][fromStrand] = forwardNodeStrand\n",
    "    \n",
    "    for fromNode,fromStrand in toNegativeStrand:\n",
    "        # Amend forwardLinks for negative strand of current node\n",
    "        forwardNodeStrand = graph.forwardLinks.get(fromNode,{}).get(fromStrand,[])\n",
    "        forwardNodeStrand = list(set(forwardNodeStrand).union(fromNegativeStrand).difference(excludeTuples))\n",
    "        graph.forwardLinks[fromNode][fromStrand] = forwardNodeStrand\n",
    "        \n",
    "    for toNode,toStrand in fromPositiveStrand:\n",
    "        # Amending revertLinks for positive strand of current node\n",
    "        revertNodeStrand = revertLinks.get(toNode,{}).get(toStrand,[])\n",
    "        revertNodeStrand = list(set(revertNodeStrand).union(toPositiveStrand).difference(excludeTuples))\n",
    "        revertLinks[toNode][toStrand] = revertNodeStrand\n",
    "    \n",
    "    for toNode,toStrand in fromNegativeStrand:\n",
    "        # Amend revertLinks for negative strand of current node\n",
    "        revertNodeStrand = revertLinks.get(toNode,{}).get(toStrand,[])\n",
    "        revertNodeStrand = list(set(revertNodeStrand).union(toNegativeStrand).difference(excludeTuples))\n",
    "        revertLinks[toNode][toStrand] = revertNodeStrand\n",
    "    \n",
    "    del revertLinks[nodeID+1]\n",
    "    del graph.forwardLinks[nodeID+1]\n",
    "    \n",
    "    return pathIDs,positions"
   ]
  },
  {
   "cell_type": "code",
   "execution_count": null,
   "id": "powered-reynolds",
   "metadata": {},
   "outputs": [],
   "source": [
    "def _removeNodes(self,nodeIDsToRemove)\n",
    "    # That is how deleting of nodes should happen.\n",
    "    pathIDs = []\n",
    "    positions = []\n",
    "    for nodeID in nodeIDsToRemove:\n",
    "        pID,pos = removeNode(nodeID,self,revertLinks,pathNodeArray)\n",
    "        pathIDs.extend(pID)\n",
    "        positions.extend(pos)\n",
    "\n",
    "    removePositionsFromPaths(self,pathIDs,positions)\n",
    "    clearNodes(self,nodeIDsToRemove)\n",
    "\n",
    "    self._pathCount()"
   ]
  },
  {
   "cell_type": "code",
   "execution_count": null,
   "id": "alike-thickness",
   "metadata": {},
   "outputs": [
    {
     "name": "stdout",
     "output_type": "stream",
     "text": [
      "Constructing Tremaux tree\n",
      "Done!\n",
      "Getting root nodes\n",
      "Start Loop...\n",
      "0 - 0 - 1 - 1 - 2\n",
      "0 - 1 - 2 - 2 - 3\n"
     ]
    }
   ],
   "source": [
    "graph.treeSort()"
   ]
  },
  {
   "cell_type": "code",
   "execution_count": null,
   "id": "painted-clinic",
   "metadata": {},
   "outputs": [
    {
     "name": "stdout",
     "output_type": "stream",
     "text": [
      "Calculating nodes length...\n",
      "Processing node 3/3\n",
      "Finished calculating nodes lengths\n",
      "Preprocessing paths...\n",
      "Processing path 2/2\n",
      "Finished preprocessing paths\n"
     ]
    }
   ],
   "source": [
    "# Do we need it here or when we are going to remove nodes?\n",
    "nodeLengths = calcNodeLengths(graph)\n",
    "pathLengths,pathNodeArray,pathNodeLengths,pathDirArray,pathNodeLengthsCum = initialPathAnalysis(graph,nodeLengths)"
   ]
  },
  {
   "cell_type": "code",
   "execution_count": null,
   "id": "tested-generic",
   "metadata": {},
   "outputs": [
    {
     "data": {
      "text/plain": [
       "(['1612', '1087', '2264'],\n",
       " {'1612': 1, '1087': 2, '2264': 3},\n",
       " {1: {'+': [(2, '-'), (2, '+')]}, 2: {'+': [(3, '+')], '-': [(3, '+')]}},\n",
       " {3: {'-': [(1, '+')], '+': [(1, '+')]}, 6: {'+': [(3, '-'), (3, '+')]}},\n",
       " [3000, 3000, 3000],\n",
       " [1, 2, 3])"
      ]
     },
     "execution_count": null,
     "metadata": {},
     "output_type": "execute_result"
    }
   ],
   "source": [
    "graph.nodes,graph.nodeNameToID,graph.forwardLinks,revertLinks,nodeLengths,graph.order"
   ]
  },
  {
   "cell_type": "code",
   "execution_count": null,
   "id": "beneficial-imagination",
   "metadata": {},
   "outputs": [
    {
     "data": {
      "text/plain": [
       "(['1612', '1087', '2264'],\n",
       " {'1612': 1, '1087': 2, '2264': 3},\n",
       " {1: {'+': [(2, '-'), (2, '+')]}, 2: {'+': [(3, '+')], '-': [(3, '+')]}},\n",
       " {3: {'-': [(1, '+')], '+': [(1, '+')]}, 6: {'+': [(3, '-'), (3, '+')]}},\n",
       " [3000, 3000, 3000],\n",
       " [1, 2, 3])"
      ]
     },
     "execution_count": null,
     "metadata": {},
     "output_type": "execute_result"
    }
   ],
   "source": [
    "graph.nodes,graph.nodeNameToID,graph.forwardLinks,revertLinks,nodeLengths,graph.order"
   ]
  },
  {
   "cell_type": "code",
   "execution_count": null,
   "id": "presidential-carbon",
   "metadata": {},
   "outputs": [],
   "source": []
  },
  {
   "cell_type": "raw",
   "id": "exterior-optics",
   "metadata": {},
   "source": []
  }
 ],
 "metadata": {
  "kernelspec": {
   "display_name": "Python 3 (ipykernel)",
   "language": "python",
   "name": "python3"
  }
 },
 "nbformat": 4,
 "nbformat_minor": 5
}

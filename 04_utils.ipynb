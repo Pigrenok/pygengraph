{
 "cells": [
  {
   "cell_type": "code",
   "execution_count": null,
   "metadata": {},
   "outputs": [],
   "source": [
    "# default_exp utils"
   ]
  },
  {
   "cell_type": "code",
   "execution_count": null,
   "metadata": {},
   "outputs": [],
   "source": [
    "#hide\n",
    "%load_ext autoreload\n",
    "%autoreload 2"
   ]
  },
  {
   "cell_type": "markdown",
   "metadata": {},
   "source": [
    "# Utils module\n",
    "\n",
    "> Provides utility functions and classes"
   ]
  },
  {
   "cell_type": "code",
   "execution_count": null,
   "metadata": {},
   "outputs": [
    {
     "name": "stdout",
     "output_type": "stream",
     "text": [
      "Converted 00_init.ipynb.\n",
      "Converted 01_graph.ipynb.\n",
      "Converted 02_tree.ipynb.\n",
      "Converted 03_synteny.ipynb.\n",
      "Converted 04_utils.ipynb.\n",
      "Converted 05_export.ipynb.\n",
      "Converted index.ipynb.\n"
     ]
    }
   ],
   "source": [
    "#hide\n",
    "from nbdev.showdoc import *\n",
    "from nbdev.export import notebook2script\n",
    "notebook2script()"
   ]
  },
  {
   "cell_type": "code",
   "execution_count": null,
   "metadata": {},
   "outputs": [],
   "source": [
    "#export\n",
    "from collections.abc import Iterable\n",
    "from copy import deepcopy\n",
    "import json\n",
    "import numpy as np\n",
    "import os"
   ]
  },
  {
   "cell_type": "code",
   "execution_count": null,
   "metadata": {},
   "outputs": [],
   "source": [
    "#export\n",
    "def pathConvert(inputPath,suffix=''):\n",
    "    outputPath = os.path.dirname(inputPath)\n",
    "    outputName = '.'.join(os.path.splitext(os.path.basename(inputPath))[:-1])+suffix\n",
    "    return outputPath,outputName"
   ]
  },
  {
   "cell_type": "code",
   "execution_count": null,
   "metadata": {},
   "outputs": [],
   "source": [
    "#export\n",
    "def checkZoomLevels(zoomLevels):\n",
    "    '''\n",
    "    Check that each previous zoom level is factor of next one\n",
    "    '''\n",
    "    _zoomLevels = np.array(zoomLevels)\n",
    "    div = _zoomLevels[1:]/_zoomLevels[:-1]\n",
    "    return not np.any(div - div.astype(np.int))"
   ]
  },
  {
   "cell_type": "code",
   "execution_count": null,
   "metadata": {},
   "outputs": [
    {
     "data": {
      "text/plain": [
       "[1, 4, 8, 16]"
      ]
     },
     "execution_count": null,
     "metadata": {},
     "output_type": "execute_result"
    }
   ],
   "source": [
    "#export\n",
    "def adjustZoomLevels(zoomLevels):\n",
    "    '''\n",
    "    If there is no zoom level 1, adds it to the list.\n",
    "    '''\n",
    "    if not checkZoomLevels(zoomLevels):\n",
    "        raise ValueError('Zoom level list is incorrect. Each next level should have previous one as factor.')\n",
    "    if min(zoomLevels)>1:\n",
    "        zoomLevels = [1] + zoomLevels\n",
    "    return zoomLevels"
   ]
  },
  {
   "cell_type": "code",
   "execution_count": null,
   "metadata": {},
   "outputs": [],
   "source": [
    "#export\n",
    "# https://stackoverflow.com/questions/50916422/python-typeerror-object-of-type-int64-is-not-json-serializable\n",
    "# Class for encoding np types to JSON\n",
    "class NpEncoder(json.JSONEncoder):\n",
    "    def default(self, obj):\n",
    "        if isinstance(obj, np.integer):\n",
    "            return int(obj)\n",
    "        elif isinstance(obj, np.floating):\n",
    "            return float(obj)\n",
    "        elif isinstance(obj, np.ndarray):\n",
    "            return obj.tolist()\n",
    "        elif isinstance(obj, set):\n",
    "            return list(obj)\n",
    "        else:\n",
    "            return super(NpEncoder, self).default(obj)\n"
   ]
  },
  {
   "cell_type": "code",
   "execution_count": null,
   "metadata": {},
   "outputs": [],
   "source": [
    "#export\n",
    "class bidict(dict):\n",
    "    '''\n",
    "    Here is a class for a bidirectional dict, inspired by Finding key from value in Python \n",
    "    dictionary and modified to allow the following 2) and 3).\n",
    "\n",
    "    Note that :\n",
    "\n",
    "    1) The inverse directory bd.inverse auto-updates itself when the standard dict bd is modified.\n",
    "    2) The inverse directory bd.inverse[value] is always a list of key such that bd[key] == value.\n",
    "    3) Unlike the bidict module from https://pypi.python.org/pypi/bidict, here we can have 2 keys \n",
    "    having same value, this is very important.\n",
    "    4) After modification, values in the \"forward\" (not inversed) dict can be lists (or any \n",
    "    iterables theoretically, but only list was tested). \n",
    "    \n",
    "    For implementing 4), new method `add` was introduced. If d[key].append(value) attempted, the link \n",
    "    between main and inversed dict will be broken. Method `add` can accept both \n",
    "    \n",
    "    Credit: \n",
    "    Implemented as an answer to \n",
    "    https://stackoverflow.com/questions/3318625/how-to-implement-an-efficient-bidirectional-hash-table\n",
    "    by Basj (https://stackoverflow.com/users/1422096/basj).\n",
    "    '''\n",
    "    def __init__(self, *args, **kwargs):\n",
    "        super(bidict, self).__init__(*args, **kwargs)\n",
    "        self.inverse = {}\n",
    "        for key, value in self.items():\n",
    "            if isinstance(value,Iterable):\n",
    "                for v in value:\n",
    "                    self.inverse.setdefault(v,[]).append(key) \n",
    "            else:\n",
    "                self.inverse.setdefault(value,[]).append(key) \n",
    "\n",
    "    def __setitem__(self, key, value):\n",
    "        \n",
    "        if key in self:\n",
    "            keyV = self[key]\n",
    "            if isinstance(keyV,Iterable):\n",
    "                for v in keyV:\n",
    "                    self.inverse[v].remove(key)\n",
    "            else:\n",
    "                self.inverse[keyV].remove(key)\n",
    "        super(bidict, self).__setitem__(key, value)\n",
    "        if isinstance(value,Iterable):\n",
    "            for v in value:\n",
    "                self.inverse.setdefault(v,[]).append(key)        \n",
    "        else:\n",
    "            self.inverse.setdefault(value,[]).append(key)        \n",
    "\n",
    "    def __delitem__(self, key):\n",
    "        value = self[key]\n",
    "        if isinstance(value,Iterable):\n",
    "            for v in value:\n",
    "                self.inverse.setdefault(v,[]).remove(key)\n",
    "                if v in self.inverse and not self.inverse[v]: \n",
    "                    del self.inverse[v]\n",
    "        else:\n",
    "            self.inverse.setdefault(value,[]).remove(key)\n",
    "            if value in self.inverse and not self.inverse[value]: \n",
    "                del self.inverse[value]\n",
    "        super(bidict, self).__delitem__(key)\n",
    "    \n",
    "    def add(self,key,value):\n",
    "        valKey = set(self.setdefault(key,[]))\n",
    "        \n",
    "        if isinstance(value,Iterable):\n",
    "            valKey = valKey.union(value)\n",
    "        else:\n",
    "            valKey.add(value)\n",
    "        \n",
    "        self[key] = list(valKey)"
   ]
  },
  {
   "cell_type": "code",
   "execution_count": null,
   "metadata": {},
   "outputs": [],
   "source": [
    "#export\n",
    "def pathFileToPathDict(filePath,directional=True):\n",
    "    paths = {}\n",
    "    with open(filePath) as f:\n",
    "        for line in f:\n",
    "            pathName,pathNodeList = line.strip(' \\n\\t').split(':')\n",
    "            if directional:\n",
    "                paths[pathName] = pathNodeList.strip().split(',')\n",
    "            else:\n",
    "                paths[pathName] = [f'{node}+' for node in pathNodeList.strip().split(',')]\n",
    "    \n",
    "    return paths"
   ]
  }
 ],
 "metadata": {
  "kernelspec": {
   "display_name": "Python 3",
   "language": "python",
   "name": "python3"
  }
 },
 "nbformat": 4,
 "nbformat_minor": 4
}

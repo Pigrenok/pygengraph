{
 "cells": [
  {
   "cell_type": "raw",
   "id": "487fb7de",
   "metadata": {},
   "source": [
    "---\n",
    "output-file: dev.html\n",
    "title: Development notebook\n",
    "---"
   ]
  },
  {
   "cell_type": "code",
   "execution_count": null,
   "id": "58830a66",
   "metadata": {},
   "outputs": [],
   "source": [
    "#| include: false\n",
    "%load_ext autoreload\n",
    "%autoreload 2"
   ]
  },
  {
   "cell_type": "code",
   "execution_count": null,
   "id": "63c336ad",
   "metadata": {},
   "outputs": [],
   "source": [
    "import os\n",
    "import glob\n",
    "import warnings\n",
    "\n",
    "import pdb\n",
    "\n",
    "import numpy as np\n",
    "\n",
    "from pygengraph.graph import GenomeGraph\n",
    "from pygengraph.graph import initialPathAnalysis,calcNodeLengths,getNodesStructurePathNodeInversionRate,pathNodeDirToCombinedArray,getNextNodePath\n",
    "from pygengraph.graph import convertPathsToGraph\n",
    "\n",
    "import networkx as nx"
   ]
  },
  {
   "cell_type": "code",
   "execution_count": null,
   "id": "06aee9c0-f02f-4b2b-bdb0-e472bc9c4c60",
   "metadata": {},
   "outputs": [],
   "source": [
    "from nbdev import nbdev_export\n",
    "nbdev_export()"
   ]
  },
  {
   "cell_type": "code",
   "execution_count": null,
   "id": "5d686516",
   "metadata": {},
   "outputs": [],
   "source": [
    "warnings.filterwarnings(\"ignore\")"
   ]
  },
  {
   "cell_type": "markdown",
   "id": "bd818427-cc83-4f3f-a441-d9ca968bf714",
   "metadata": {},
   "source": [
    "### code profiling help"
   ]
  },
  {
   "cell_type": "markdown",
   "id": "c7f22a52-4101-4373-9736-b7584fd5429b",
   "metadata": {},
   "source": [
    "https://jakevdp.github.io/PythonDataScienceHandbook/01.07-timing-and-profiling.html"
   ]
  },
  {
   "cell_type": "markdown",
   "id": "a4f50997-7516-4c17-8a80-c5e845301c4a",
   "metadata": {},
   "source": [
    "`%time`: Time the execution of a single statement  \n",
    "`%timeit`: Time repeated execution of a single statement for more accuracy  \n",
    "`%prun`: Run code with the profiler  \n",
    "`%lprun`: Run code with the line-by-line profiler  \n",
    "`%memit`: Measure the memory use of a single statement  \n",
    "`%mprun`: Run code with the line-by-line memory profiler  \n"
   ]
  },
  {
   "cell_type": "markdown",
   "id": "072a192f-4976-46cd-a0d4-4029612c04fb",
   "metadata": {},
   "source": [
    "# Processing new annotations"
   ]
  },
  {
   "cell_type": "code",
   "execution_count": null,
   "id": "4bfab631-5bf7-4569-b312-16e9897e4507",
   "metadata": {},
   "outputs": [],
   "source": [
    "from skbio import read as bioread\n",
    "from skbio.metadata import IntervalMetadata # Is it really needed?"
   ]
  },
  {
   "cell_type": "code",
   "execution_count": null,
   "id": "d8ff5d26-230d-44b2-b3a0-359c71a938c0",
   "metadata": {},
   "outputs": [],
   "source": [
    "testpath = '../../1001G/annotations/freeze2.1/'\n",
    "\n",
    "testann = '1741.gff'"
   ]
  },
  {
   "cell_type": "code",
   "execution_count": null,
   "id": "1e25aee2-b748-4a67-82f2-71b33503440c",
   "metadata": {},
   "outputs": [
    {
     "name": "stderr",
     "output_type": "stream",
     "text": [
      "/usr/local/lib/python3.8/dist-packages/skbio/io/registry.py:547: FormatIdentificationWarning: <_io.BufferedReader name='../../1001G/annotations/freeze2.1/1741.gff'> does not look like a gff3 file\n",
      "  warn(\"%r does not look like a %s file\"\n"
     ]
    }
   ],
   "source": [
    "testannotation = bioread(f'{testpath}{testann}',format='gff3')"
   ]
  },
  {
   "cell_type": "code",
   "execution_count": null,
   "id": "70607dd1-5593-4509-b576-3c4ad1e2f0f8",
   "metadata": {},
   "outputs": [
    {
     "data": {
      "text/plain": [
       "'1741_Chr4'"
      ]
     },
     "execution_count": null,
     "metadata": {},
     "output_type": "execute_result"
    }
   ],
   "source": [
    "tseqID,tseqAnn = next(testannotation)\n",
    "\n",
    "tseqID"
   ]
  },
  {
   "cell_type": "code",
   "execution_count": null,
   "id": "dae24ab8-6ba7-40ef-bc2e-54dfd551c563",
   "metadata": {},
   "outputs": [
    {
     "data": {
      "text/plain": [
       "51330 interval features\n",
       "-----------------------\n",
       "Interval(interval_metadata=<140458907721248>, bounds=[(6129, 6387)], fuzzy=[(False, False)], metadata={'source': 'EVM', 'type': 'gene', 'score': '.', 'strand': '+', 'ID': 'evm.TU.1741_Chr4.1', 'Name': 'EVM%20prediction%201741_Chr4.1', 'OG': 'OG0000013', 'AT': 'AT1G33860'})\n",
       "Interval(interval_metadata=<140458907721248>, bounds=[(6129, 6387)], fuzzy=[(False, False)], metadata={'source': 'EVM', 'type': 'mRNA', 'score': '.', 'strand': '+', 'ID': 'evm.model.1741_Chr4.1', 'Parent': 'evm.TU.1741_Chr4.1', 'Name': 'EVM%20prediction%201741_Chr4.1'})\n",
       "...\n",
       "Interval(interval_metadata=<140458907721248>, bounds=[(19040175, 19040364)], fuzzy=[(False, False)], metadata={'source': 'EVM', 'type': 'exon', 'score': '.', 'strand': '+', 'ID': 'evm.model.1741_Chr4.3942.exon4', 'Parent': 'evm.model.1741_Chr4.3942'})\n",
       "Interval(interval_metadata=<140458907721248>, bounds=[(19040175, 19040364)], fuzzy=[(False, False)], metadata={'source': 'EVM', 'type': 'CDS', 'score': '.', 'strand': '+', 'phase': 0, 'ID': 'cds.evm.model.1741_Chr4.3942', 'Parent': 'evm.model.1741_Chr4.3942'})"
      ]
     },
     "execution_count": null,
     "metadata": {},
     "output_type": "execute_result"
    }
   ],
   "source": [
    "tseqAnn"
   ]
  },
  {
   "cell_type": "code",
   "execution_count": null,
   "id": "2eb70c6d-e7a1-4709-9e1b-036b2d035991",
   "metadata": {},
   "outputs": [],
   "source": [
    "il = list(tseqAnn.query(metadata={}))"
   ]
  },
  {
   "cell_type": "code",
   "execution_count": null,
   "id": "b197c6e5-3bec-4293-a526-8aaec4f0987d",
   "metadata": {},
   "outputs": [],
   "source": [
    "interval = il[0]"
   ]
  },
  {
   "cell_type": "code",
   "execution_count": null,
   "id": "cda2891b-1869-470b-b4d9-e4a484f31332",
   "metadata": {},
   "outputs": [],
   "source": [
    "im = IntervalMetadata(None)"
   ]
  },
  {
   "cell_type": "code",
   "execution_count": null,
   "id": "e034ac39-f968-4136-ad9a-5c6756e46368",
   "metadata": {},
   "outputs": [],
   "source": [
    "im.merge(tseqAnn)"
   ]
  },
  {
   "cell_type": "code",
   "execution_count": null,
   "id": "d1bc9136-e675-41b8-bd1e-fe56cf4509a9",
   "metadata": {},
   "outputs": [
    {
     "data": {
      "text/plain": [
       "51330 interval features\n",
       "-----------------------\n",
       "Interval(interval_metadata=<140458895764400>, bounds=[(6129, 6387)], fuzzy=[(False, False)], metadata={'source': 'EVM', 'type': 'gene', 'score': '.', 'strand': '+', 'ID': 'evm.TU.1741_Chr4.1', 'Name': 'EVM%20prediction%201741_Chr4.1', 'OG': 'OG0000013', 'AT': 'AT1G33860'})\n",
       "Interval(interval_metadata=<140458895764400>, bounds=[(6129, 6387)], fuzzy=[(False, False)], metadata={'source': 'EVM', 'type': 'mRNA', 'score': '.', 'strand': '+', 'ID': 'evm.model.1741_Chr4.1', 'Parent': 'evm.TU.1741_Chr4.1', 'Name': 'EVM%20prediction%201741_Chr4.1'})\n",
       "...\n",
       "Interval(interval_metadata=<140458895764400>, bounds=[(19040175, 19040364)], fuzzy=[(False, False)], metadata={'source': 'EVM', 'type': 'exon', 'score': '.', 'strand': '+', 'ID': 'evm.model.1741_Chr4.3942.exon4', 'Parent': 'evm.model.1741_Chr4.3942'})\n",
       "Interval(interval_metadata=<140458895764400>, bounds=[(19040175, 19040364)], fuzzy=[(False, False)], metadata={'source': 'EVM', 'type': 'CDS', 'score': '.', 'strand': '+', 'phase': 0, 'ID': 'cds.evm.model.1741_Chr4.3942', 'Parent': 'evm.model.1741_Chr4.3942'})"
      ]
     },
     "execution_count": null,
     "metadata": {},
     "output_type": "execute_result"
    }
   ],
   "source": [
    "im"
   ]
  },
  {
   "cell_type": "code",
   "execution_count": null,
   "id": "cde39e23-ab51-4888-8fc1-4fbb5a0ff389",
   "metadata": {},
   "outputs": [],
   "source": [
    "path = '../../1001G/annotations/Anna/'\n",
    "\n",
    "chromosome = 'chr_1'\n",
    "\n",
    "pangenFile = f'{chromosome}_panden_v03.gff'\n",
    "simgrFile = f'{chromosome}_simgr_te_v03.gff'"
   ]
  },
  {
   "cell_type": "code",
   "execution_count": null,
   "id": "8b07797c-6f07-49c2-b264-be5b89a81a27",
   "metadata": {},
   "outputs": [
    {
     "name": "stderr",
     "output_type": "stream",
     "text": [
      "/usr/local/lib/python3.8/dist-packages/skbio/io/registry.py:547: FormatIdentificationWarning: <_io.BufferedReader name='../../1001G/annotations/Anna/chr_1_simgr_te_v03.gff'> does not look like a gff3 file\n",
      "  warn(\"%r does not look like a %s file\"\n"
     ]
    }
   ],
   "source": [
    "annotation = bioread(f'{path}{simgrFile}',format='gff3')"
   ]
  },
  {
   "cell_type": "code",
   "execution_count": null,
   "id": "18721890-5b4b-430e-8267-df9827fbbf30",
   "metadata": {},
   "outputs": [],
   "source": [
    "annDict = {}\n",
    "\n",
    "for seqid,intList in annotation:\n",
    "    annDict.setdefault(seqid,IntervalMetadata(None)).merge(intList)"
   ]
  },
  {
   "cell_type": "code",
   "execution_count": null,
   "id": "e626ab49-500a-4393-a5cd-f42ed861a946",
   "metadata": {},
   "outputs": [
    {
     "data": {
      "text/plain": [
       "dict_keys(['10002_Chr1', '10015_Chr1', '10024_Chr1', '1741_Chr1', '220011_Chr1', '22002_Chr1', '22003_Chr1', '22004_Chr1', '22005_Chr1', '22006_Chr1', '22007_Chr1', '6024_Chr1', '6069_Chr1', '6124_Chr1', '6244_Chr1', '6909_Chr1', '6966_Chr1', '8236_Chr1', '9075_Chr1', '9537_Chr1', '9543_Chr1', '9638_Chr1', '9728_Chr1', '9764_Chr1', '9888_Chr1', '9905_Chr1', '9981_Chr1'])"
      ]
     },
     "execution_count": null,
     "metadata": {},
     "output_type": "execute_result"
    }
   ],
   "source": [
    "annDict.keys()"
   ]
  },
  {
   "cell_type": "code",
   "execution_count": null,
   "id": "4d4658c3-3c71-4591-81cb-0c990bb0a8b3",
   "metadata": {},
   "outputs": [],
   "source": [
    "seqID,seqAnn = next(annotation)"
   ]
  },
  {
   "cell_type": "code",
   "execution_count": null,
   "id": "69635e29-0d65-4d29-9c8a-aca308f65794",
   "metadata": {},
   "outputs": [
    {
     "data": {
      "text/plain": [
       "'10002_Chr1'"
      ]
     },
     "execution_count": null,
     "metadata": {},
     "output_type": "execute_result"
    }
   ],
   "source": [
    "seqID"
   ]
  },
  {
   "cell_type": "code",
   "execution_count": null,
   "id": "7c8c71d5-f848-49e2-8b82-5abf07337913",
   "metadata": {},
   "outputs": [],
   "source": [
    "list(seqAnn.query(metadata={}))[0].metadata.get('AG')"
   ]
  },
  {
   "cell_type": "code",
   "execution_count": null,
   "id": "87c1cb38-627f-4911-8ff2-e894e6f971d8",
   "metadata": {},
   "outputs": [],
   "source": [
    "for seqID,seqAnn in annotation:\n",
    "    print(seqID)"
   ]
  },
  {
   "cell_type": "markdown",
   "id": "d61a6d71-2748-420c-936a-9f62ef2b89e6",
   "metadata": {},
   "source": [
    "# Playing with graphs"
   ]
  },
  {
   "cell_type": "code",
   "execution_count": null,
   "id": "065da70f",
   "metadata": {},
   "outputs": [],
   "source": [
    "fileDir = '../../1001G/GraphCollapsing/TestGraphs'"
   ]
  },
  {
   "cell_type": "code",
   "execution_count": null,
   "id": "0de7f856-71da-4ed9-b92f-3bca073ba521",
   "metadata": {},
   "outputs": [],
   "source": [
    "# Graph 1\n",
    "paths = [['1+','2+','3+','4+','5+','6+'],['1+','4-','3-','2-','5+','6+'],['1+','2+','3+','5-','4-','6+']]"
   ]
  },
  {
   "cell_type": "code",
   "execution_count": null,
   "id": "e6e27518-079a-4076-907e-981f0a842b74",
   "metadata": {},
   "outputs": [],
   "source": [
    "# Graph 2\n",
    "paths = [['1+', '2+', '3+', '4+', '5+'],['1+', '2+', '3+', '4+', '2+', '3+', '4+', '5+'],['1+', '2+', '3+', '4+', '2+', '3+', '4+', '5+'],['1+', '2+', '3+', '4+', '2+', '4+', '5+'],['1+', '2+', '4+', '2+', '3+', '4+', '5+']]"
   ]
  },
  {
   "cell_type": "code",
   "execution_count": null,
   "id": "c8fd5414-40fe-4a55-8a58-0429b94981f5",
   "metadata": {},
   "outputs": [],
   "source": [
    "def pathsToEdgeList(pathList):\n",
    "    edgeList = set()\n",
    "    for path in pathList:\n",
    "        edgeList.update(zip(path[:-1],path[1:]))\n",
    "    return sorted(list(edgeList),key=lambda t: t[0])"
   ]
  },
  {
   "cell_type": "code",
   "execution_count": null,
   "id": "c5ac03ad-49b3-4720-933c-81409b623c74",
   "metadata": {},
   "outputs": [],
   "source": [
    "edges = pathsToEdgeList(paths)"
   ]
  },
  {
   "cell_type": "code",
   "execution_count": null,
   "id": "7a4b5b0d-bb90-4d8c-a61a-69b4a3ffc777",
   "metadata": {},
   "outputs": [],
   "source": [
    "numNodes = 6\n",
    "\n",
    "idealGraph = nx.DiGraph()\n",
    "\n",
    "igEdges = [(str(i)+'+',str(i+1)+'+') for i in range(1,numNodes)]\n",
    "\n",
    "idealGraph.add_edges_from(igEdges)"
   ]
  },
  {
   "cell_type": "code",
   "execution_count": null,
   "id": "0854d710-0288-4b54-be0b-8d1007ddcec2",
   "metadata": {},
   "outputs": [],
   "source": [
    "nGraph = nx.DiGraph()"
   ]
  },
  {
   "cell_type": "code",
   "execution_count": null,
   "id": "397a40b8-f0a4-4b6d-9617-14f449a11dd9",
   "metadata": {},
   "outputs": [],
   "source": [
    "nGraph.add_edges_from(edges)"
   ]
  },
  {
   "cell_type": "code",
   "execution_count": null,
   "id": "b9d2b1d8-ba3e-4d05-bc68-682afab3561c",
   "metadata": {},
   "outputs": [
    {
     "data": {
      "text/plain": [
       "NodeView(('1+', '4-', '2+', '3+', '2-', '5+', '5-', '4+', '3-', '6+'))"
      ]
     },
     "execution_count": null,
     "metadata": {},
     "output_type": "execute_result"
    }
   ],
   "source": [
    "nGraph.nodes"
   ]
  },
  {
   "cell_type": "code",
   "execution_count": null,
   "id": "ff4fd53f-1f36-489c-9c47-ef6843a6a307",
   "metadata": {},
   "outputs": [
    {
     "data": {
      "image/png": "[encoded data removed]",
      "text/plain": [
       "<Figure size 640x480 with 1 Axes>"
      ]
     },
     "metadata": {},
     "output_type": "display_data"
    }
   ],
   "source": [
    "nx.draw_networkx(nx.junction_tree(nGraph))"
   ]
  },
  {
   "cell_type": "code",
   "execution_count": null,
   "id": "2d12b615-90c7-4a0a-8cbf-19bc36a778d8",
   "metadata": {},
   "outputs": [],
   "source": [
    "q,w = nx.summarization.dedensify(nGraph,2)"
   ]
  },
  {
   "cell_type": "code",
   "execution_count": null,
   "id": "c8c9c3e4-4864-4e4a-9d42-81fcff9f4fe4",
   "metadata": {},
   "outputs": [
    {
     "data": {
      "text/plain": [
       "[('1+', '2+'),\n",
       " ('2+', '3+'),\n",
       " ('2+', '4+'),\n",
       " ('3+', '4+'),\n",
       " ('4+', '5+'),\n",
       " ('4+', '2+')]"
      ]
     },
     "execution_count": null,
     "metadata": {},
     "output_type": "execute_result"
    }
   ],
   "source": [
    "list(q.edges)"
   ]
  },
  {
   "cell_type": "code",
   "execution_count": null,
   "id": "0177f44f-a3ad-4dc0-8da3-8ad23a485aca",
   "metadata": {},
   "outputs": [],
   "source": [
    "nGraph.add_edge('4+','2+')"
   ]
  },
  {
   "cell_type": "code",
   "execution_count": null,
   "id": "a779b811-89a1-4b68-b2fd-dc57f2bcda37",
   "metadata": {},
   "outputs": [],
   "source": [
    "nGraph.remove_edge('4+','2+')"
   ]
  },
  {
   "cell_type": "code",
   "execution_count": null,
   "id": "9af35142-24c2-454c-b81c-15d31404bced",
   "metadata": {},
   "outputs": [
    {
     "data": {
      "text/plain": [
       "[{'5+'}, {'2+', '3+', '4+'}, {'1+'}]"
      ]
     },
     "execution_count": null,
     "metadata": {},
     "output_type": "execute_result"
    }
   ],
   "source": [
    "list(nx.algorithms.components.strongly_connected.strongly_connected_components(nGraph))"
   ]
  },
  {
   "cell_type": "code",
   "execution_count": null,
   "id": "22917842-88a3-4c44-a486-bd322e67c930",
   "metadata": {},
   "outputs": [
    {
     "data": {
      "text/plain": [
       "[['3+', '4+', '2+'], ['2+', '4+']]"
      ]
     },
     "execution_count": null,
     "metadata": {},
     "output_type": "execute_result"
    }
   ],
   "source": [
    "list(nx.algorithms.simple_cycles(nGraph))"
   ]
  },
  {
   "cell_type": "code",
   "execution_count": null,
   "id": "31833b9d-45da-4adf-b2b8-35c32da4fc98",
   "metadata": {},
   "outputs": [],
   "source": [
    "paths,cost = nx.algorithms.optimal_edit_paths(nGraph,idealGraph)"
   ]
  },
  {
   "cell_type": "code",
   "execution_count": null,
   "id": "7fce9c19-6107-4733-ac57-06a6672db189",
   "metadata": {},
   "outputs": [
    {
     "data": {
      "text/plain": [
       "7"
      ]
     },
     "execution_count": null,
     "metadata": {},
     "output_type": "execute_result"
    }
   ],
   "source": [
    "len(paths)"
   ]
  },
  {
   "cell_type": "code",
   "execution_count": null,
   "id": "b911b98b-b061-497e-9dcb-a315a3cccf7c",
   "metadata": {},
   "outputs": [
    {
     "data": {
      "text/plain": [
       "[(('1+', '2+'), None),\n",
       " (('1+', '4-'), None),\n",
       " (('2+', '3+'), ('1+', '2+')),\n",
       " (('2-', '5+'), None),\n",
       " (('3+', '4+'), None),\n",
       " (('4+', '5+'), None),\n",
       " (('3+', '5-'), ('2+', '3+')),\n",
       " (('5-', '4-'), ('3+', '4+')),\n",
       " (('4-', '3-'), ('4+', '5+')),\n",
       " (('3-', '2-'), ('5+', '6+')),\n",
       " (('4-', '6+'), None),\n",
       " (('5+', '6+'), None)]"
      ]
     },
     "execution_count": null,
     "metadata": {},
     "output_type": "execute_result"
    }
   ],
   "source": [
    "paths[0][1]"
   ]
  },
  {
   "cell_type": "markdown",
   "id": "82b44f77",
   "metadata": {},
   "source": [
    "# Converting path files to graphs"
   ]
  },
  {
   "cell_type": "code",
   "execution_count": null,
   "id": "54a2ff99",
   "metadata": {},
   "outputs": [],
   "source": [
    "convertPathsToGraph('../../Meetings/1001G+_20220518/paths.txt',doSorting=True)"
   ]
  },
  {
   "cell_type": "code",
   "execution_count": null,
   "id": "ee67c2f0",
   "metadata": {},
   "outputs": [
    {
     "name": "stdout",
     "output_type": "stream",
     "text": [
      "processing inversion_test_12\n",
      "Calculating nodes length...\n",
      "Processing node 8/8\n",
      "Finished calculating nodes lengths\n",
      "Preprocessing paths...\n",
      "Processing path 2/2\n",
      "Finished preprocessing paths\n",
      "\n",
      "processing inversion_test_11\n",
      "Calculating nodes length...\n",
      "Processing node 8/8\n",
      "Finished calculating nodes lengths\n",
      "Preprocessing paths...\n",
      "Processing path 2/2\n",
      "Finished preprocessing paths\n",
      "\n"
     ]
    }
   ],
   "source": [
    "reprocess = False\n",
    "\n",
    "for filepath in glob.glob(f'{fileDir}{os.path.sep}*.txt'):\n",
    "    filebase = os.path.splitext(filepath)[0]\n",
    "    if not os.path.exists(f'{filebase}.gfa') or reprocess:\n",
    "        print(f'processing {os.path.basename(filebase)}')\n",
    "        convertPathsToGraph(filepath,doSorting='nodesort')"
   ]
  },
  {
   "cell_type": "markdown",
   "id": "2c16481d",
   "metadata": {},
   "source": [
    "# Developing/Testing new processing methods"
   ]
  },
  {
   "cell_type": "markdown",
   "id": "ac7aa65b",
   "metadata": {},
   "source": [
    "## Functions"
   ]
  },
  {
   "cell_type": "markdown",
   "id": "569a631a-bea6-4da4-904a-d45b6549a13d",
   "metadata": {},
   "source": [
    "- Convert GenomeGraph to NetworkX graph (When?)\n",
    "- Identify all + -> - points (do we need to do the same for all valid - -> + separately? No! It should be taken care inside inversion blocks, if any left unattended, then they should be precessed separately.)\n",
    "- (p) Process each such point (do not forget that there can be several paths within onemajor block and all of them should be considered).\n",
    "- (p) isolate each reversible block and do the reversion (applied to the original graph or to NetworkX graph?)\n",
    "    - Если при обходе инверсии номер узла увеличивается, то все между предыдущим (или первым) и нынешним добавляются в search terms. Если же номер узла уменьшается, то те номера между предыдущим и нынешним которые уже есть в поисковой группе убираются, а те, которых нет, добавляются.\n",
    "\n",
    "\n",
    "- Identify loops\n",
    "- (p) For each loop identify best link to break and remove it from the graph\n",
    "- (p) Identify type of loop and process it accordingly (real loops - recorded and processed, continuous virtual loops - link for pairing, non-continuous link - consider loop ending at the loop link end).\n",
    "\n",
    "- Identify bubble ends\n",
    "- (p) Process each bubble\n",
    "- Record pairs and double pairs if any.\n"
   ]
  },
  {
   "cell_type": "code",
   "execution_count": null,
   "id": "353bfe5c-d077-4255-98f3-0488a665b071",
   "metadata": {},
   "outputs": [],
   "source": [
    "def identifyPotentialInvStarts(graph):\n",
    "    '''\n",
    "    Identify all + -> - points or - nodes as start nodes in the graph.\n",
    "    \n",
    "    We do not need to do the same for all - -> + separately. \n",
    "    It should be taken care inside inversion blocks, if any left unattended, \n",
    "    then they should be precessed separately.\n",
    "    \n",
    "    The function also identify all graph end nodes (the nodes which do not have any outgoing links)\n",
    "    \n",
    "    '''\n",
    "    graphEnds = []\n",
    "    invStartPoints = []\n",
    "\n",
    "    for fromNode,nodeLinks in graph:\n",
    "        if len(nodeLinks)==0:\n",
    "            graphEnds.append(fromNode)\n",
    "\n",
    "        if '-' in nodeLinks:\n",
    "            # The node is passed in inverted direction.\n",
    "            incomingLinks = graph.backLinks[fromNode]['-']\n",
    "            if len(incomingLinks)>0:\n",
    "                # There are links coming towards the inverted version of the node.\n",
    "                for incomingNode,incomingDir in incomingLinks:\n",
    "                    if incomingDir=='+':\n",
    "                        # If there is any edge coming to inverted node comes from positive node, then add it\n",
    "                        # to the list of potential inversion starts.\n",
    "                        invStartPoints.append((incomingNode,fromNode))\n",
    "            else:\n",
    "                # If there is a inverted node without incoming edge, then it is the start of at least one path\n",
    "                # It should also be considered as the potential inverstion start\n",
    "                invStartPoints.append(None,fromNode)\n",
    "                \n",
    "    return invStartPoints,graphEnds"
   ]
  },
  {
   "cell_type": "markdown",
   "id": "d2c41b51",
   "metadata": {},
   "source": [
    "### Convert GenomeGraph to "
   ]
  },
  {
   "cell_type": "markdown",
   "id": "0a02f71b",
   "metadata": {},
   "source": [
    "### Block processing"
   ]
  },
  {
   "cell_type": "markdown",
   "id": "3517691d",
   "metadata": {},
   "source": [
    "### Link processing"
   ]
  },
  {
   "cell_type": "markdown",
   "id": "989a8414",
   "metadata": {},
   "source": [
    "### Rearrangement blocks"
   ]
  },
  {
   "cell_type": "markdown",
   "id": "5cda1184",
   "metadata": {},
   "source": [
    "### Wrapper"
   ]
  },
  {
   "cell_type": "markdown",
   "id": "acc0fc02",
   "metadata": {},
   "source": [
    "## Running"
   ]
  },
  {
   "cell_type": "code",
   "execution_count": null,
   "id": "0b7b5a63-b389-4c8b-8c01-fb1d82a80ead",
   "metadata": {},
   "outputs": [
    {
     "name": "stdout",
     "output_type": "stream",
     "text": [
      "Converted 00_init.ipynb.\n",
      "Converted 01_graph.ipynb.\n",
      "Converted 02_tree.ipynb.\n",
      "Converted 03_synteny.ipynb.\n",
      "Converted 04_utils.ipynb.\n",
      "Converted 05_export.ipynb.\n",
      "Converted 05_exportDev.ipynb.\n",
      "Converted deBruijnGraphProcessing.ipynb.\n",
      "Converted dev.ipynb.\n",
      "Converted graphTesting.ipynb.\n",
      "Converted index.ipynb.\n"
     ]
    }
   ],
   "source": [
    "notebook2script()"
   ]
  },
  {
   "cell_type": "code",
   "execution_count": null,
   "id": "07485d4c-1e1b-415c-af3d-df837c236376",
   "metadata": {},
   "outputs": [
    {
     "data": {
      "text/plain": [
       "['../../1001G/GraphCollapsing/TestGraphs/inversion_test_01.gfa',\n",
       " '../../1001G/GraphCollapsing/TestGraphs/inversion_test_02.gfa',\n",
       " '../../1001G/GraphCollapsing/TestGraphs/inversion_test_03.gfa',\n",
       " '../../1001G/GraphCollapsing/TestGraphs/inversion_test_04.gfa',\n",
       " '../../1001G/GraphCollapsing/TestGraphs/inversion_test_05.gfa',\n",
       " '../../1001G/GraphCollapsing/TestGraphs/inversion_test_06.gfa',\n",
       " '../../1001G/GraphCollapsing/TestGraphs/inversion_test_07.gfa',\n",
       " '../../1001G/GraphCollapsing/TestGraphs/inversion_test_08.gfa',\n",
       " '../../1001G/GraphCollapsing/TestGraphs/inversion_test_09.gfa',\n",
       " '../../1001G/GraphCollapsing/TestGraphs/inversion_test_10.gfa',\n",
       " '../../1001G/GraphCollapsing/TestGraphs/repeats_test_01.gfa',\n",
       " '../../1001G/GraphCollapsing/TestGraphs/repeats_test_02.gfa',\n",
       " '../../1001G/GraphCollapsing/TestGraphs/repeats_test_03.gfa',\n",
       " '../../1001G/GraphCollapsing/TestGraphs/repeats_test_04.gfa',\n",
       " '../../1001G/GraphCollapsing/TestGraphs/repeats_test_05.gfa',\n",
       " '../../1001G/GraphCollapsing/TestGraphs/repeats_test_06.gfa',\n",
       " '../../1001G/GraphCollapsing/TestGraphs/repeats_test_07.gfa',\n",
       " '../../1001G/GraphCollapsing/TestGraphs/repeats_test_08.gfa',\n",
       " '../../1001G/GraphCollapsing/TestGraphs/repeats_test_09.gfa',\n",
       " '../../1001G/GraphCollapsing/TestGraphs/repeats_test_10.gfa',\n",
       " '../../1001G/GraphCollapsing/TestGraphs/repeats_test_11.gfa',\n",
       " '../../1001G/GraphCollapsing/TestGraphs/repeats_test_12.gfa',\n",
       " '../../1001G/GraphCollapsing/TestGraphs/transposition_test_01.gfa',\n",
       " '../../1001G/GraphCollapsing/TestGraphs/transposition_test_02.gfa',\n",
       " '../../1001G/GraphCollapsing/TestGraphs/transposition_test_03.gfa']"
      ]
     },
     "execution_count": null,
     "metadata": {},
     "output_type": "execute_result"
    }
   ],
   "source": [
    "sorted(glob.glob(f'{fileDir}{os.path.sep}*.gfa'))"
   ]
  },
  {
   "cell_type": "code",
   "execution_count": null,
   "id": "7f5d71b2",
   "metadata": {},
   "outputs": [],
   "source": [
    "filename = 'inversion_test_01.gfa'\n",
    "inversionThreshold=0.5"
   ]
  },
  {
   "cell_type": "code",
   "execution_count": null,
   "id": "852a3a65",
   "metadata": {},
   "outputs": [
    {
     "name": "stdout",
     "output_type": "stream",
     "text": [
      "Loading graph from ../../1001G/GraphCollapsing/TestGraphs/inversion_test_01.gfa\n",
      "Found node annotation file ../../1001G/GraphCollapsing/TestGraphs/annotation_inversion_test_01.dat, loading associations.\n",
      "Loading segment 6/6\n",
      "Loading segments finished.\n",
      "Loading link 12/12\n",
      "Loading links finished\n",
      "Loading path 3/3\n",
      "Loading paths finished. 3 paths added, 0 paths ignored.\n",
      "Calculating nodes length...\n",
      "Processing node 6/6\n",
      "Finished calculating nodes lengths\n",
      "Preprocessing paths...\n",
      "Processing path 3/3\n",
      "Finished preprocessing paths\n",
      "\n"
     ]
    }
   ],
   "source": [
    "graph = GenomeGraph(gfaPath=f'{fileDir}{os.path.sep}{filename}',isGFASeq=False, doBack=True)"
   ]
  },
  {
   "cell_type": "code",
   "execution_count": null,
   "id": "ee464f78-6a32-4bc6-8eaf-20eae38a0468",
   "metadata": {},
   "outputs": [
    {
     "data": {
      "text/plain": [
       "[['1+', '2+', '3+', '4-', '5+', '6+'],\n",
       " ['1+', '2-', '3+', '4+', '5+', '6+'],\n",
       " ['1+', '2+', '3+', '5-', '4+', '6+']]"
      ]
     },
     "execution_count": null,
     "metadata": {},
     "output_type": "execute_result"
    }
   ],
   "source": [
    "graph.paths"
   ]
  },
  {
   "cell_type": "code",
   "execution_count": null,
   "id": "63fb5b98-3410-4b45-82c5-8055b72a7ddd",
   "metadata": {},
   "outputs": [],
   "source": [
    "invStartPoints,graphEnds = identifyPotentialInvStarts(graph)"
   ]
  },
  {
   "cell_type": "code",
   "execution_count": null,
   "id": "5a40b2dd-4bcf-4d55-8913-79fc3c7b8bac",
   "metadata": {},
   "outputs": [
    {
     "data": {
      "text/plain": [
       "[6]"
      ]
     },
     "execution_count": null,
     "metadata": {},
     "output_type": "execute_result"
    }
   ],
   "source": [
    "graphEnds"
   ]
  },
  {
   "cell_type": "code",
   "execution_count": null,
   "id": "461df4e0-c8ea-49d7-9fc5-78a04c29ec1d",
   "metadata": {},
   "outputs": [
    {
     "data": {
      "text/plain": [
       "[(1, 2), (3, 4), (3, 5)]"
      ]
     },
     "execution_count": null,
     "metadata": {},
     "output_type": "execute_result"
    }
   ],
   "source": [
    "invStartPoints"
   ]
  },
  {
   "cell_type": "markdown",
   "id": "334d6a14-c67d-422b-8621-dae86b967d11",
   "metadata": {},
   "source": [
    "We follow links by the following rules:\n",
    "- The initiation link is `a+ -> b-`. We get all nodes between `a` and `b` (exclusive) as search nodes.\n",
    "- Node `b` is added to the inversion stretch list.\n",
    "- Next node is either inverted node (irrespective of current search nodes) on normal node which is in current search nodes list. If there are several options, each option should be considered. Done through a special queue for each step.\n",
    "- (*) If node `c+` is found to be added to the stretch, and it is returning node, i.e. lets call max(search terms) as`d` and min(search terms) as `e`:\n",
    "        - if `c<d` and `c<b` (the link to it goes to the left), then flip (meaning that if a node is in search terms, then remove it, otherwise, add it) in search terms all nodes between c and d (inclusive).\n",
    "        - if `c>e` and `c>b` (the link to it goes to the right), then flip (meaning that if a node is in search terms, then remove it, otherwise, add it) in search terms all nodes between e and c (inclusive).\n",
    "- If we come through `x+ -> y-` in the stretch, it should be removed from initiation links list (possibly, each of them should be processed separately, but after that the stretches from initiation links that were used in other stretched should be removed.\n",
    "- If in (*) all search terms are wiped, then `c+` will be the end edge of the stretch and stretch closed.\n",
    "- If there is no more options of either inverted node, or normal node from search nodes linked from current one, then this particular stretch is finished. In this case, the next closest normal node (not in the stretch, i.e. not in `min:max+1`) linked from current one is the right end of the stretch."
   ]
  },
  {
   "cell_type": "code",
   "execution_count": null,
   "id": "21b5c80f-43b6-4c27-b5c7-599e9f5f7da9",
   "metadata": {},
   "outputs": [
    {
     "name": "stdout",
     "output_type": "stream",
     "text": [
      "[]\n",
      "[]\n",
      "[4]\n"
     ]
    }
   ],
   "source": [
    "processingQueue = []\n",
    "\n",
    "inversionBlocks = []\n",
    "for invStart in invStartPoints:\n",
    "    blockStart = invStart[0]\n",
    "    block = []\n",
    "    blockEnd = None\n",
    "    \n",
    "    firstNode = min(invStart)\n",
    "    lastNode = max(invStart)\n",
    "    searchNodes = set(range(firstNode+1,lastNode))\n",
    "    \n",
    "    curNode,curDir = invStart[1],'-'\n",
    "    \n",
    "    while blockEnd is None:\n",
    "        nextNodes = graph.forwardLinks[curNode]['curDir']\n",
    "        pass\n",
    "    \n",
    "    \n",
    "    print(searchNodes)"
   ]
  },
  {
   "cell_type": "code",
   "execution_count": null,
   "id": "0735e858-9c12-47ab-bf56-f1ac30f2c4a5",
   "metadata": {},
   "outputs": [],
   "source": []
  }
 ],
 "metadata": {
  "kernelspec": {
   "display_name": "Python 3 (ipykernel)",
   "language": "python",
   "name": "python3"
  },
  "widgets": {
   "application/vnd.jupyter.widget-state+json": {
    "state": {},
    "version_major": 2,
    "version_minor": 0
   }
  }
 },
 "nbformat": 4,
 "nbformat_minor": 5
}
